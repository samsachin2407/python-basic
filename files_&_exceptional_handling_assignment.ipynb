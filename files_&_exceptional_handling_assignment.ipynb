{
  "cells": [
    {
      "cell_type": "markdown",
      "metadata": {
        "id": "F-bgtJ73Z0J5"
      },
      "source": [
        "# **Files, exceptional handling, logging and memory management Questions**\n",
        "\n",
        "---\n",
        "\n",
        "\n",
        "\n",
        "\n"
      ]
    },
    {
      "cell_type": "markdown",
      "metadata": {
        "id": "DH-zFnPnaBSz"
      },
      "source": [
        "**Ques1 :- What is the difference between interpreted and compiled languages ?**\n",
        "-  **Compiled Languages :-**\n",
        "    - Process: Source code is translated all at once into machine code before it is run.\n",
        "    - Result: Produces an executable file (e.g., .exe on Windows).\n",
        "    - Execution Speed: Usually faster since the translation is done beforehand.\n",
        "    - Examples: C, C++, Rust, Go, Swift\n",
        "\n",
        "- **Interpreted Languages :-**\n",
        "  - Process: Source code is read and executed line-by-line by an interpreter at runtime.\n",
        "  - Result: No standalone executable; the interpreter runs the code each time.\n",
        "  - Execution Speed: Usually slower, due to line-by-line interpretation.\n",
        "  - Examples: Python, JavaScript, Ruby, PHP, MATLAB"
      ]
    },
    {
      "cell_type": "markdown",
      "source": [
        "**Ques2 :- What is exception handling in Python ?**\n",
        "- Exception handling in Python is a way to deal with errors that occur during the execution of a program. It helps prevent the program from crashing and lets you handle unexpected situations gracefully."
      ],
      "metadata": {
        "id": "PGJtSvLLPPew"
      }
    },
    {
      "cell_type": "code",
      "source": [
        "try:\n",
        "    num = int(input(\"Enter a number: \"))\n",
        "    result = 10 / num\n",
        "except ZeroDivisionError:\n",
        "    print(\"You can't divide by zero!\")\n",
        "except ValueError:\n",
        "    print(\"That's not a valid number.\")\n",
        "else:\n",
        "    print(\"Result is:\", result)\n",
        "finally:\n",
        "    print(\"Execution finished.\")\n"
      ],
      "metadata": {
        "colab": {
          "base_uri": "https://localhost:8080/"
        },
        "id": "Rq6qMgG7PwZH",
        "outputId": "3536dc88-33ac-4c8a-c19a-6df22133f956"
      },
      "execution_count": null,
      "outputs": [
        {
          "output_type": "stream",
          "name": "stdout",
          "text": [
            "Enter a number: 4\n",
            "Result is: 2.5\n",
            "Execution finished.\n"
          ]
        }
      ]
    },
    {
      "cell_type": "markdown",
      "source": [
        "**Ques3 :-  What is the purpose of the finally block in exception handling ?**\n",
        "-  The finally block is used to define clean-up actions that must be executed no matter what—whether an exception was raised or not\n",
        "\n",
        "**Ques4 :- What is logging in Python ?**\n",
        "- Logging in Python is a way to track events that happen when your program runs. It helps you:\n",
        "  -  Debug your code\n",
        "  - Monitor behavior\n",
        "  - Record important information (like errors or warnings)\n",
        "  - Avoid using print() in production\n",
        "\n",
        "\n",
        "**Ques5 :- What is the significance of the __del__ method in Python ?**\n",
        "-  The __del__ method in Python is known as the destructor. It is a special method that is called when an object is about to be destroyed (i.e. garbage collected)."
      ],
      "metadata": {
        "id": "qlPvx2L3PzMm"
      }
    },
    {
      "cell_type": "markdown",
      "source": [
        "**Ques6 :-  What is the difference between import and from ... import in Python ?**\n",
        "- Both import and from ... import are used to bring external modules, packages, or specific objects into your Python code — but they work differently.\n",
        "- **import Statement :-**\n",
        "  - **Syntax** :- import module_name\n",
        "  - Imports the entire module.\n",
        "  - You need to use the module name as a prefix to access its contents.\n",
        "\n",
        "- from ... import Statement\n",
        "  - **Syntex :-** from module_name import item_name\n",
        "  - Imports specific function(s), class(es), or variable(s) from a module.\n",
        "  - You can use them directly without the module prefix.\n"
      ],
      "metadata": {
        "id": "PGHpxZHaQu-S"
      }
    },
    {
      "cell_type": "markdown",
      "source": [
        "**Ques7 :-  How can you handle multiple exceptions in Python ?**\n",
        "- In Python, you can handle multiple exceptions in several ways, depending on your needs."
      ],
      "metadata": {
        "id": "cTZX8vbCSCB2"
      }
    },
    {
      "cell_type": "code",
      "source": [
        "#1. Using Multiple except Blocks\n",
        "\n",
        "try:\n",
        "    x = int(input(\"Enter a number: \"))\n",
        "    result = 10 / x\n",
        "except ValueError:\n",
        "    print(\"That's not a valid number.\")\n",
        "except ZeroDivisionError:\n",
        "    print(\"You can't divide by zero.\")\n",
        "\n",
        "\n",
        "\n",
        "# 2. Catching Multiple Exceptions in One Block\n",
        "\n",
        "try:\n",
        "    x = int(input(\"Enter a number: \"))\n",
        "    result = 10 / x\n",
        "except (ValueError, ZeroDivisionError):\n",
        "    print(\"Invalid input or division by zero.\")\n",
        "\n",
        "# 3. Using as to Access the Exception Object\n",
        "\n",
        "\n",
        "try:\n",
        "    # risky operation\n",
        "    x = int(\"abc\")  # ValueError\n",
        "except (ValueError, TypeError) as e:\n",
        "    print(f\"An error occurred: {e}\")\n",
        "\n"
      ],
      "metadata": {
        "colab": {
          "base_uri": "https://localhost:8080/"
        },
        "id": "LmcyHTrISUQg",
        "outputId": "79c7e409-495b-4fb5-b1b1-4be502337f8f"
      },
      "execution_count": null,
      "outputs": [
        {
          "output_type": "stream",
          "name": "stdout",
          "text": [
            "Enter a number: 5\n",
            "Enter a number: -7\n",
            "An error occurred: invalid literal for int() with base 10: 'abc'\n"
          ]
        }
      ]
    },
    {
      "cell_type": "markdown",
      "source": [
        "**Ques8 : What is the purpose of the with statement when handling files in Python ?**\n",
        "- The with statement in Python is used to simplify file handling and ensure that resources like files are properly managed, even if an error occurs during processing\n",
        "\n",
        "**Ques9 :- What is the difference between multithreading and multiprocessing ?**\n",
        "- Both multithreading and multiprocessing are used to perform tasks concurrently (i.e., at the same time), but they work very differently under the hood.\n",
        "-  **Multithreading (Threads) :-**\n",
        "   -  Uses multiple threads within a single process\n",
        "   -  Threads share memory space.\n",
        "   -  Ideal for I/O-bound tasks (e.g., reading files, making network requests).\n",
        "   -  Limited by the GIL (Global Interpreter Lock) in CPython — meaning only one thread runs Python bytecode at a time.\n",
        "\n",
        "-  **Multiprocessing (Processes) :-**\n",
        "   - Uses multiple processes (independent memory).\n",
        "   - Each process runs in its own Python interpreter.\n",
        "   - Ideal for CPU-bound tasks (e.g., heavy computations, data processing).\n",
        "   - Bypasses the GIL, so processes can truly run in parallel on multiple cores.\n",
        "\n",
        "   "
      ],
      "metadata": {
        "id": "fQ29EVZxS37_"
      }
    },
    {
      "cell_type": "code",
      "source": [
        "#  threading\n",
        "\n",
        "import threading\n",
        "\n",
        "def task():\n",
        "    print(\"Running in thread\")\n",
        "\n",
        "t1 = threading.Thread(target=task)\n",
        "t1.start()\n"
      ],
      "metadata": {
        "colab": {
          "base_uri": "https://localhost:8080/"
        },
        "id": "9gl_Fu3ZUXXM",
        "outputId": "358e0462-4a7e-4b03-b344-051138096dd3"
      },
      "execution_count": null,
      "outputs": [
        {
          "output_type": "stream",
          "name": "stdout",
          "text": [
            "Running in thread\n"
          ]
        }
      ]
    },
    {
      "cell_type": "code",
      "source": [
        "#  multiprocessing\n",
        "\n",
        "import multiprocessing\n",
        "\n",
        "def task():\n",
        "    print(\"Running in process\")\n",
        "\n",
        "p1 = multiprocessing.Process(target=task)\n",
        "p1.start()\n"
      ],
      "metadata": {
        "colab": {
          "base_uri": "https://localhost:8080/"
        },
        "id": "oNrJHyahUZLf",
        "outputId": "d5ff3a2d-689e-4a95-c964-8cf3cdaf9a44"
      },
      "execution_count": null,
      "outputs": [
        {
          "output_type": "stream",
          "name": "stdout",
          "text": [
            "Running in process\n"
          ]
        }
      ]
    },
    {
      "cell_type": "markdown",
      "source": [
        "**Ques10 :- What are the advantages of using logging in a program ?**\n",
        "- Using the logging module instead of print() statements gives your program powerful capabilities for tracking, debugging, and monitoring. Here’s why it’s a good practice:\n",
        "- **1. Centralized and Organized Output :-**\n",
        "   - Logs can be sent to files, console, email, or remote servers.\n",
        "   - All messages go through a central system, making it easier to manage and search.\n",
        "- **2. Debugging and Troubleshooting :-**\n",
        "  - Logs help track what the program was doing before something failed.\n",
        "  -  You can include timestamps, error levels, and stack traces."
      ],
      "metadata": {
        "id": "7GG88TSCUhOj"
      }
    },
    {
      "cell_type": "markdown",
      "source": [
        "**Ques11 :  What is memory management in Python ?**\n",
        "- Memory management in Python refers to how Python allocates, tracks, and frees memory for objects during the execution of a program.\n",
        "- **Why is Memory Management Important :-**\n",
        "  - Efficient use of memory keeps your program fast and stable.\n",
        "  - Prevents memory leaks (when memory is not released).\n",
        "  - Helps Python automatically handle memory so you don’t have to manually manage it."
      ],
      "metadata": {
        "id": "wpJwm-fQVX79"
      }
    },
    {
      "cell_type": "markdown",
      "source": [
        "**Ques12 :-  What are the basic steps involved in exception handling in Python ?**\n",
        "- Basic Steps in Exception Handling in Python\n",
        "- 1. Write the risky code inside a try block :-\n",
        "   - This is where you put the code that might raise an exception.\n",
        "- Catch exceptions using one or more except blocks :-\n",
        "  - Handle specific exceptions or catch all exceptions here.\n",
        "-  (Optional) Use an else block :-  \n",
        "   - Code inside the else block runs only if no exceptions were raised in the try block.\n",
        "-  (Optional) Use a finally block :-  \n",
        "   - Code here runs no matter what, whether an exception occurred or not, typically for cleanup actions.\n"
      ],
      "metadata": {
        "id": "K4XZBWRiVslc"
      }
    },
    {
      "cell_type": "code",
      "source": [
        "\n",
        "#  Example\n",
        "\n",
        "try:\n",
        "    x = int(input(\"Enter a number: \"))\n",
        "    result = 10 / x\n",
        "except ZeroDivisionError:\n",
        "    print(\"Error: Division by zero is not allowed.\")\n",
        "except ValueError:\n",
        "    print(\"Error: Invalid input. Please enter a number.\")\n",
        "else:\n",
        "    print(f\"Result is {result}\")\n",
        "finally:\n",
        "    print(\"Execution completed.\")\n"
      ],
      "metadata": {
        "colab": {
          "base_uri": "https://localhost:8080/"
        },
        "id": "mEoFb4IWWhMv",
        "outputId": "9b4e8350-2fe2-4191-98c3-f981cbf39b5c"
      },
      "execution_count": null,
      "outputs": [
        {
          "output_type": "stream",
          "name": "stdout",
          "text": [
            "Enter a number: 0\n",
            "Error: Division by zero is not allowed.\n",
            "Execution completed.\n"
          ]
        }
      ]
    },
    {
      "cell_type": "markdown",
      "source": [
        "**Ques13 :- Why is memory management important in Python ?**\n",
        "- Efficient Use of Resources\n",
        "   - Proper memory management ensures your program uses only the memory it needs, avoiding waste and keeping your system running smoothly.\n",
        "\n",
        "- Prevents Memory Leaks\n",
        "   - Without proper management, programs might hold on to memory they no longer need, causing memory leaks that slow down or crash your system.\n",
        "\n",
        "- Improves Performance\n",
        "   - Efficient allocation and deallocation of memory help your program run faster by reducing overhead and avoiding unnecessary pauses for garbage collection.\n",
        "\n",
        "- Handles Complex Data Structures\n",
        "   - Python programs often use complex objects and large data structures. Good memory management makes sure these are handled correctly without crashing or slowing down."
      ],
      "metadata": {
        "id": "0I4JWoL8Wo-q"
      }
    },
    {
      "cell_type": "markdown",
      "source": [
        "**Ques14 :-  What is the role of try and except in exception handling**\n",
        "- **try block :-**\n",
        "- Purpose: To wrap the code that might cause an error (exception).\n",
        "- Python will attempt to execute the code inside the try block.\n",
        "- If no error occurs, the program continues normally.\n",
        "- If an exception occurs, Python immediately stops executing the try block and looks for a matching except block.\n",
        "\n",
        "- **except block :-**\n",
        "- Purpose: To catch and handle specific exceptions raised inside the try block.\n",
        "- You define one or more except blocks to respond to different types of exceptions.\n",
        "- The code inside the matching except block runs, allowing you to recover or gracefully handle the error.\n",
        "- Without except, an exception would cause the program to crash."
      ],
      "metadata": {
        "id": "pooTgCl3XS-9"
      }
    },
    {
      "cell_type": "markdown",
      "source": [
        "**Ques15 :-  How does Python's garbage collection system work**\n",
        "- Python’s garbage collection (GC) system is responsible for automatically reclaiming memory that is no longer in use. This helps prevent memory leaks and lets developers focus on coding rather than manually managing memory."
      ],
      "metadata": {
        "id": "gp6VcmniX4i_"
      }
    },
    {
      "cell_type": "markdown",
      "source": [
        "**Ques16 :- What is the purpose of the else block in exception handling ?**\n",
        "- In Python's exception handling, the else block is an optional part of the try-except structure.\n",
        "- **What Does the else Block Do :-**\n",
        "  - The code inside the else block runs only if the try block did NOT raise any exception.\n",
        "  - It’s a clean way to separate the \"successful\" code path from the code that might raise exceptions or handle them.\n",
        "  - If an exception occurs in the try block, the else block is skipped."
      ],
      "metadata": {
        "id": "SVcPWltBYMb8"
      }
    },
    {
      "cell_type": "markdown",
      "source": [
        "**Ques17 :- What are the common logging levels in Python ?**\n",
        "- ![image.png](data:image/png;base64,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)"
      ],
      "metadata": {
        "id": "F1drGPqVYmD7"
      }
    },
    {
      "cell_type": "markdown",
      "source": [
        "**Ques18 :- What is the difference between os.fork() and multiprocessing in Python ?**\n",
        "- 1. os.fork()\n",
        "- **What it is:**\n",
        "- A low-level system call that creates a new process by duplicating the current process.\n",
        "- Only available on Unix-based systems (Linux, macOS).\n",
        "\n",
        "- **Characteristics :-**\n",
        "- Returns 0 in the child process and the child's PID in the parent.\n",
        "- Both parent and child start executing from the point where fork() was called.\n",
        "- No abstraction: You manage everything manually—state, communication, etc.\n",
        "\n",
        "- **2. multiprocessing Module**\n",
        "- What it is:\n",
        "- A high-level, cross-platform module in Python for spawning and managing processes.\n",
        "- Designed to mimic the threading module but with separate memory space per process.\n",
        "\n",
        "- **Characteristics :**\n",
        "- Works on Windows, Linux, and macOS.\n",
        "- Supports process creation, communication (via pipes, queues), synchronization (locks, events), etc.\n",
        "- More Pythonic and safe.\n",
        "\n"
      ],
      "metadata": {
        "id": "1vEodETdZGuc"
      }
    },
    {
      "cell_type": "markdown",
      "source": [
        "**Ques19 :- What is the importance of closing a file in Python ?**\n",
        "- Closing a file in Python is crucially important for several reasons related to resource management, data integrity, and system stability. Here's a detailed breakdown:\n",
        "- **1. Releases System Resources :-**\n",
        "   - When a file is opened, the operating system allocates internal resources (like file descriptors).\n",
        "   - If files are not closed, those resources accumulate and may run out, causing:\n",
        "      - File open errors (Too many open files).\n",
        "      - Memory/resource leaks.\n",
        "\n",
        "- **2. Flushes Buffered Data :-**\n",
        "   - When writing to a file, data is often buffered (stored temporarily in memory before being written to disk).\n",
        "   - file.close() ensures all buffered data is flushed (written) to the file.\n",
        "\n",
        "- **3. Avoids File Corruption or Data Loss**\n",
        "  - Especially true when writing or appending.\n",
        "  - Closing ensures that the file is left in a consistent state and can be accessed safely by other processes or programs."
      ],
      "metadata": {
        "id": "3UvQI22gy0Ao"
      }
    },
    {
      "cell_type": "markdown",
      "source": [
        "**Ques20 :- What is the difference between file.read() and file.readline() in Python ?**\n",
        "- The difference between file.read() and file.readline() in Python comes down to how much of the file they read at a time and how they handle line breaks.\n",
        "- **file.read([size]) :-**\n",
        "  - Reads the entire file (or up to a specified number of bytes/characters) as a single string.\n",
        "\n",
        "- **file.readline([size]) :-**\n",
        "  - Reads a single line from the file up to a newline character (\\n) or optional size limit.\n",
        "\n",
        "![image.png](data:image/png;base64,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)"
      ],
      "metadata": {
        "id": "86rzSyjtz7gr"
      }
    },
    {
      "cell_type": "markdown",
      "source": [
        "**Ques21 :- What is the logging module in Python used for ?**\n",
        "- The logging module in Python is used for tracking events that happen while your program runs — it helps you record debug info, warnings, errors, or other messages to various outputs (like the console, files, etc.).\n",
        "- **Advanced Features :-**\n",
        "  - Logging to multiple destinations (file + console).\n",
        "  - Rotating logs (e.g. keep only last 5 logs).\n",
        "  - Custom formatting (timestamp, file, line number).\n",
        "  - Custom loggers and handlers.\n",
        "\n",
        "- **When should you use logging?**\n",
        "  - In any project larger than a script.\n",
        "  - When you want to track and diagnose bugs without showing messages to the user.\n",
        "  - When deploying to production, and you want visibility into failures."
      ],
      "metadata": {
        "id": "0-8DcbGi05WI"
      }
    },
    {
      "cell_type": "markdown",
      "source": [
        "**Ques 22 :- What is the os module in Python used for in file handling**\n",
        "- The os module in Python is used in file handling to interact with the underlying operating system — especially for managing files, directories, and paths beyond just reading/writing content.\n",
        "- **What You Can Do with os in File Handling :-**\n",
        "  - 1. Check if a file or directory exists\n",
        "  - 2. Create or remove directories\n",
        "  - 3. List files in a directory\n",
        "  - 4. Delete or rename files\n",
        "  - 5. Get file properties (size, path)"
      ],
      "metadata": {
        "id": "OkBcnouA1ybY"
      }
    },
    {
      "cell_type": "code",
      "source": [
        "# Example: Delete all .log files in a folder\n",
        "\n",
        "import os\n",
        "\n",
        "for file in os.listdir(\".\"):\n",
        "    if file.endswith(\".log\"):\n",
        "        os.remove(file)\n"
      ],
      "metadata": {
        "id": "coMZ337a2XLy"
      },
      "execution_count": null,
      "outputs": []
    },
    {
      "cell_type": "markdown",
      "source": [
        "**Ques23 :- What are the challenges associated with memory management in Python ?**\n",
        "- Memory management in Python is generally automatic and developer-friendly, thanks to features like automatic garbage collection. However, there are still several challenges and pitfalls you should be aware of — especially when working on large or performance-sensitive applications.\n",
        "- **Key Challenges in Python Memory Management :-**\n",
        "  - **1. Memory Leaks : -**\n",
        "     - Even though Python has garbage collection, memory leaks can still happen, especially when:\n",
        "     - Objects reference each other in a cycle and aren’t collected properly.\n",
        "    - You keep references unintentionally (e.g. in global lists, caches).\n",
        "    "
      ],
      "metadata": {
        "id": "fcHjQaeO2hrK"
      }
    },
    {
      "cell_type": "code",
      "source": [
        "class Node:\n",
        "    def __init__(self):\n",
        "        self.ref = None\n",
        "\n",
        "a = Node()\n",
        "b = Node()\n",
        "a.ref = b\n",
        "b.ref = a  # Circular reference\n"
      ],
      "metadata": {
        "id": "c32tUoaO3LYh"
      },
      "execution_count": null,
      "outputs": []
    },
    {
      "cell_type": "markdown",
      "source": [
        "**Ques24 :- How do you raise an exception manually in Python ?**\n",
        "- In Python, you can raise an exception manually using the raise statement.\n",
        "- This immediately stops the program (unless handled with try/except).\n",
        "- You can raise any built-in exception like:\n",
        "  - ValueError\n",
        "  - TypeError\n",
        "  - ZeroDivisionError\n",
        "  - RuntimeError\n",
        "  - KeyError, etc."
      ],
      "metadata": {
        "id": "N6NdwYo43P4M"
      }
    },
    {
      "cell_type": "code",
      "source": [
        "def divide(a, b):\n",
        "    if b == 0:\n",
        "        raise ZeroDivisionError(\"You can't divide by zero!\")\n",
        "    return a / b\n"
      ],
      "metadata": {
        "id": "XHCZM3oQ3hgC"
      },
      "execution_count": null,
      "outputs": []
    },
    {
      "cell_type": "markdown",
      "source": [
        "**Ques25 :-  Why is it important to use multithreading in certain applications**\n",
        "- Multithreading is important in certain applications because it allows a program to perform multiple tasks concurrently, improving performance, responsiveness, and resource utilization — especially in I/O-bound or interactive scenarios.\n",
        "- **Why Use Multithreading? (Key Reasons) :-**\n",
        "  - **1. Improved Responsiveness**\n",
        "  - In user-facing applications (e.g., GUIs), multithreading keeps the interface responsive while background tasks run.\n",
        "  - **Example**: A desktop app that downloads a file in the background without freezing the UI.\n",
        "  - **2. Better Resource Utilization**\n",
        "  - Threads can run while one thread is waiting (e.g., for file I/O, network, or user input).\n",
        "  - Instead of wasting CPU cycles waiting, another thread can do useful work."
      ],
      "metadata": {
        "id": "vRGkF_ul3xbx"
      }
    },
    {
      "cell_type": "markdown",
      "source": [
        "# **Practical Questions**\n",
        "\n",
        "---\n",
        "\n"
      ],
      "metadata": {
        "id": "5DOsVQvW454J"
      }
    },
    {
      "cell_type": "markdown",
      "source": [
        "**Ques1 :- How can you open a file for writing in Python and write a string to it.**"
      ],
      "metadata": {
        "id": "2worm6Dd5E8B"
      }
    },
    {
      "cell_type": "code",
      "source": [
        "# Open a file for writing\n",
        "with open(\"example.txt\", \"w\") as file:\n",
        "    # Write a string to the file\n",
        "    file.write(\"Hello, world!\")\n"
      ],
      "metadata": {
        "id": "d4c_ONu05K2G"
      },
      "execution_count": null,
      "outputs": []
    },
    {
      "cell_type": "markdown",
      "source": [
        "**Ques2 :-  Write a Python program to read the contents of a file and print each line**"
      ],
      "metadata": {
        "id": "ic0d-zl55dsQ"
      }
    },
    {
      "cell_type": "code",
      "source": [
        "# Open the file for reading\n",
        "with open(\"example.txt\", \"r\") as file:\n",
        "    # Loop through each line in the file\n",
        "    for line in file:\n",
        "        # Print the line (strip removes trailing newline characters)\n",
        "        print(line.strip())\n"
      ],
      "metadata": {
        "colab": {
          "base_uri": "https://localhost:8080/"
        },
        "id": "GuufspAU5jYw",
        "outputId": "dd970b9f-075a-445c-8681-4d9082aeda5a"
      },
      "execution_count": null,
      "outputs": [
        {
          "output_type": "stream",
          "name": "stdout",
          "text": [
            "Hello, world!\n"
          ]
        }
      ]
    },
    {
      "cell_type": "markdown",
      "source": [
        "**Ques3 :- F How would you handle a case where the file doesn't exist while trying to open it for reading**"
      ],
      "metadata": {
        "id": "yjWENfOj5p8u"
      }
    },
    {
      "cell_type": "code",
      "source": [
        "try:\n",
        "    with open(\"example.txt\", \"r\") as file:\n",
        "        for line in file:\n",
        "            print(line.strip())\n",
        "except FileNotFoundError:\n",
        "    print(\"Error: The file does not exist.\")\n"
      ],
      "metadata": {
        "colab": {
          "base_uri": "https://localhost:8080/"
        },
        "id": "6BtC2boz5zEU",
        "outputId": "6f970174-8f66-442d-c72c-108e385bd71b"
      },
      "execution_count": null,
      "outputs": [
        {
          "output_type": "stream",
          "name": "stdout",
          "text": [
            "Hello, world!\n"
          ]
        }
      ]
    },
    {
      "cell_type": "markdown",
      "source": [
        "**Ques4 :- Write a Python script that reads from one file and writes its content to another file**"
      ],
      "metadata": {
        "id": "QVkP8UxA51Ej"
      }
    },
    {
      "cell_type": "code",
      "source": [
        "source_file = \"source.txt\"\n",
        "destination_file = \"destination.txt\"\n",
        "\n",
        "try:\n",
        "    # Open the source file for reading\n",
        "    with open(source_file, \"r\") as src:\n",
        "        content = src.read()\n",
        "\n",
        "    # Open the destination file for writing\n",
        "    with open(destination_file, \"w\") as dest:\n",
        "        dest.write(content)\n",
        "\n",
        "    print(f\"Content copied from {source_file} to {destination_file} successfully.\")\n",
        "\n",
        "except FileNotFoundError:\n",
        "    print(f\"Error: The file {source_file} does not exist.\")\n",
        "except IOError as e:\n",
        "    print(f\"An I/O error occurred: {e}\")\n"
      ],
      "metadata": {
        "colab": {
          "base_uri": "https://localhost:8080/"
        },
        "id": "TStuDY3b56k8",
        "outputId": "6a7f40aa-b3ef-4708-bb31-1d5d1ec48e08"
      },
      "execution_count": null,
      "outputs": [
        {
          "output_type": "stream",
          "name": "stdout",
          "text": [
            "Error: The file source.txt does not exist.\n"
          ]
        }
      ]
    },
    {
      "cell_type": "markdown",
      "source": [
        "**Ques5 :- How would you catch and handle division by zero error in Python**"
      ],
      "metadata": {
        "id": "bAoDmoZv6U2F"
      }
    },
    {
      "cell_type": "code",
      "source": [
        "try:\n",
        "    numerator = 10\n",
        "    denominator = 0\n",
        "    result = numerator / denominator\n",
        "    print(\"Result:\", result)\n",
        "except ZeroDivisionError:\n",
        "    print(\"Error: Cannot divide by zero!\")\n"
      ],
      "metadata": {
        "colab": {
          "base_uri": "https://localhost:8080/"
        },
        "id": "5CdJ_P376bhy",
        "outputId": "0800cb47-88e2-4b51-e781-6528060325aa"
      },
      "execution_count": null,
      "outputs": [
        {
          "output_type": "stream",
          "name": "stdout",
          "text": [
            "Error: Cannot divide by zero!\n"
          ]
        }
      ]
    },
    {
      "cell_type": "markdown",
      "source": [
        "**Ques6 : Write a Python program that logs an error message to a log file when a division by zero exception occurs**"
      ],
      "metadata": {
        "id": "6LxIU6BKeX0D"
      }
    },
    {
      "cell_type": "code",
      "source": [
        "import logging\n",
        "\n",
        "# Configure logging\n",
        "logging.basicConfig(\n",
        "    filename='error_log.txt',\n",
        "    level=logging.ERROR,\n",
        "    format='%(asctime)s - %(levelname)s - %(message)s'\n",
        ")\n",
        "\n",
        "def divide(a, b):\n",
        "    try:\n",
        "        result = a / b\n",
        "        print(f\"Result: {result}\")\n",
        "        return result\n",
        "    except ZeroDivisionError as e:\n",
        "        logging.error(\"Attempted to divide by zero\", exc_info=True)\n",
        "        print(\"Error: Division by zero is not allowed.\")\n",
        "        return None\n",
        "\n",
        "# Example usage\n",
        "if __name__ == \"__main__\":\n",
        "    x = 10\n",
        "    y = 0\n",
        "    divide(x, y)\n"
      ],
      "metadata": {
        "colab": {
          "base_uri": "https://localhost:8080/"
        },
        "id": "q6DChSXxegJu",
        "outputId": "81171048-f910-44a9-e97b-0ae2c925a13a"
      },
      "execution_count": 1,
      "outputs": [
        {
          "output_type": "stream",
          "name": "stderr",
          "text": [
            "ERROR:root:Attempted to divide by zero\n",
            "Traceback (most recent call last):\n",
            "  File \"/tmp/ipython-input-2127375377.py\", line 12, in divide\n",
            "    result = a / b\n",
            "             ~~^~~\n",
            "ZeroDivisionError: division by zero\n"
          ]
        },
        {
          "output_type": "stream",
          "name": "stdout",
          "text": [
            "Error: Division by zero is not allowed.\n"
          ]
        }
      ]
    },
    {
      "cell_type": "markdown",
      "source": [
        "**Ques7 :- How do you log information at different levels (INFO, ERROR, WARNING) in Python using the logging module**"
      ],
      "metadata": {
        "id": "rDJvs28Ge8DB"
      }
    },
    {
      "cell_type": "code",
      "source": [
        "import logging\n",
        "\n",
        "# Basic logging configuration\n",
        "logging.basicConfig(\n",
        "    filename='app.log',\n",
        "    level=logging.DEBUG,  # Capture all levels DEBUG and above\n",
        "    format='%(asctime)s - %(levelname)s - %(message)s'\n",
        ")\n",
        "\n",
        "# Logging messages at different severity levels\n",
        "logging.debug(\"This is a debug message.\")\n",
        "logging.info(\"This is an info message.\")\n",
        "logging.warning(\"This is a warning message.\")\n",
        "logging.error(\"This is an error message.\")\n",
        "logging.critical(\"This is a critical message.\")\n"
      ],
      "metadata": {
        "colab": {
          "base_uri": "https://localhost:8080/"
        },
        "id": "fnhOT9XsfBQP",
        "outputId": "a6b6d93b-7781-4aec-be31-9574e1756153"
      },
      "execution_count": 2,
      "outputs": [
        {
          "output_type": "stream",
          "name": "stderr",
          "text": [
            "WARNING:root:This is a warning message.\n",
            "ERROR:root:This is an error message.\n",
            "CRITICAL:root:This is a critical message.\n"
          ]
        }
      ]
    },
    {
      "cell_type": "markdown",
      "source": [
        "**Ques8 :- Write a program to handle a file opening error using exception handling**"
      ],
      "metadata": {
        "id": "z9Qn67fyfRQY"
      }
    },
    {
      "cell_type": "code",
      "source": [
        "def read_file(filename):\n",
        "    try:\n",
        "        with open(filename, 'r') as file:\n",
        "            content = file.read()\n",
        "            print(\"File content:\\n\", content)\n",
        "    except FileNotFoundError as e:\n",
        "        print(f\"Error: The file '{filename}' was not found.\")\n",
        "    except PermissionError:\n",
        "        print(f\"Error: You don't have permission to access '{filename}'.\")\n",
        "    except Exception as e:\n",
        "        print(f\"An unexpected error occurred: {e}\")\n",
        "\n",
        "# Example usage\n",
        "if __name__ == \"__main__\":\n",
        "    file_to_open = \"nonexistent_file.txt\"\n",
        "    read_file(file_to_open)\n"
      ],
      "metadata": {
        "colab": {
          "base_uri": "https://localhost:8080/"
        },
        "id": "NNjJJCNzfY_l",
        "outputId": "38491dac-2d46-4252-fef4-fc1158572a0c"
      },
      "execution_count": 3,
      "outputs": [
        {
          "output_type": "stream",
          "name": "stdout",
          "text": [
            "Error: The file 'nonexistent_file.txt' was not found.\n"
          ]
        }
      ]
    },
    {
      "cell_type": "markdown",
      "source": [
        "**Ques9 :- How can you read a file line by line and store its content in a list in Python**"
      ],
      "metadata": {
        "id": "QFKlelJzfmz6"
      }
    },
    {
      "cell_type": "code",
      "source": [
        "def read_file_lines(filename):\n",
        "    try:\n",
        "        with open(filename, 'r') as file:\n",
        "            lines = file.readlines()  # Reads all lines into a list\n",
        "            return [line.strip() for line in lines]  # Optional: strip newline characters\n",
        "    except FileNotFoundError:\n",
        "        print(f\"Error: The file '{filename}' does not exist.\")\n",
        "        return []\n",
        "    except Exception as e:\n",
        "        print(f\"An unexpected error occurred: {e}\")\n",
        "        return []\n",
        "\n",
        "# Example usage\n",
        "if __name__ == \"__main__\":\n",
        "    file_path = 'example.txt'\n",
        "    content_list = read_file_lines(file_path)\n",
        "    print(content_list)\n"
      ],
      "metadata": {
        "colab": {
          "base_uri": "https://localhost:8080/"
        },
        "id": "Wbt9SP_afuME",
        "outputId": "a5bbf6dd-830e-4dba-f975-22d6311ca440"
      },
      "execution_count": 4,
      "outputs": [
        {
          "output_type": "stream",
          "name": "stdout",
          "text": [
            "Error: The file 'example.txt' does not exist.\n",
            "[]\n"
          ]
        }
      ]
    },
    {
      "cell_type": "markdown",
      "source": [
        "**Ques10 :- How can you append data to an existing file in Python**"
      ],
      "metadata": {
        "id": "JNeYZkFEgEJd"
      }
    },
    {
      "cell_type": "code",
      "source": [
        "def append_to_file(filename, data):\n",
        "    try:\n",
        "        with open(filename, 'a') as file:\n",
        "            file.write(data + '\\n')  # Adds a newline after the data\n",
        "        print(\"Data appended successfully.\")\n",
        "    except Exception as e:\n",
        "        print(f\"Error while appending to file: {e}\")\n",
        "\n",
        "# Example usage\n",
        "if __name__ == \"__main__\":\n",
        "    append_to_file(\"example.txt\", \"This is a new line.\")\n"
      ],
      "metadata": {
        "colab": {
          "base_uri": "https://localhost:8080/"
        },
        "id": "zkvobdDtgF1v",
        "outputId": "3aee07f4-4857-4dd8-d60c-ea20e8e6ff37"
      },
      "execution_count": 5,
      "outputs": [
        {
          "output_type": "stream",
          "name": "stdout",
          "text": [
            "Data appended successfully.\n"
          ]
        }
      ]
    },
    {
      "cell_type": "markdown",
      "source": [
        "**Ques11 :- Write a Python program that uses a try-except block to handle an error when attempting to access a dictionary key that doesn't exist**"
      ],
      "metadata": {
        "id": "CUpnpuzDgOMi"
      }
    },
    {
      "cell_type": "code",
      "source": [
        "def get_value_from_dict(dictionary, key):\n",
        "    try:\n",
        "        value = dictionary[key]\n",
        "        print(f\"The value for key '{key}' is: {value}\")\n",
        "        return value\n",
        "    except KeyError:\n",
        "        print(f\"Error: The key '{key}' was not found in the dictionary.\")\n",
        "        return None\n",
        "\n",
        "# Example usage\n",
        "if __name__ == \"__main__\":\n",
        "    sample_dict = {\n",
        "        \"name\": \"Alice\",\n",
        "        \"age\": 30,\n",
        "        \"city\": \"New York\"\n",
        "    }\n",
        "\n",
        "    # Existing key\n",
        "    get_value_from_dict(sample_dict, \"name\")\n",
        "\n",
        "    # Non-existing key\n",
        "    get_value_from_dict(sample_dict, \"email\")\n"
      ],
      "metadata": {
        "colab": {
          "base_uri": "https://localhost:8080/"
        },
        "id": "RUZjGYSYgVR4",
        "outputId": "ca406e88-9a68-4454-dcc6-8ec375609702"
      },
      "execution_count": 6,
      "outputs": [
        {
          "output_type": "stream",
          "name": "stdout",
          "text": [
            "The value for key 'name' is: Alice\n",
            "Error: The key 'email' was not found in the dictionary.\n"
          ]
        }
      ]
    },
    {
      "cell_type": "markdown",
      "source": [
        "**Ques12 :- Write a program that demonstrates using multiple except blocks to handle different types of exceptions**"
      ],
      "metadata": {
        "id": "p6e-p3orgaPY"
      }
    },
    {
      "cell_type": "code",
      "source": [
        "def divide_numbers():\n",
        "    try:\n",
        "        num1 = int(input(\"Enter the first number: \"))\n",
        "        num2 = int(input(\"Enter the second number: \"))\n",
        "        result = num1 / num2\n",
        "        print(f\"The result of {num1} divided by {num2} is {result}\")\n",
        "\n",
        "    except ValueError:\n",
        "        print(\"Error: Please enter valid integers.\")\n",
        "\n",
        "    except ZeroDivisionError:\n",
        "        print(\"Error: Division by zero is not allowed.\")\n",
        "\n",
        "    except Exception as e:\n",
        "        print(f\"An unexpected error occurred: {e}\")\n",
        "\n",
        "# Run the function\n",
        "divide_numbers()\n"
      ],
      "metadata": {
        "colab": {
          "base_uri": "https://localhost:8080/"
        },
        "id": "uJH1_xdNg9TT",
        "outputId": "8114cef8-d7c0-4821-da15-ffff8200243a"
      },
      "execution_count": 7,
      "outputs": [
        {
          "output_type": "stream",
          "name": "stdout",
          "text": [
            "Enter the first number: -1\n",
            "Enter the second number: 0\n",
            "Error: Division by zero is not allowed.\n"
          ]
        }
      ]
    },
    {
      "cell_type": "markdown",
      "source": [
        "**Ques13 :- How would you check if a file exists before attempting to read it in Python**"
      ],
      "metadata": {
        "id": "TZ6RZQ7fhEPx"
      }
    },
    {
      "cell_type": "code",
      "source": [
        "import os\n",
        "\n",
        "file_path = 'example.txt'\n",
        "\n",
        "if os.path.exists(file_path):\n",
        "    with open(file_path, 'r') as file:\n",
        "        content = file.read()\n",
        "        print(content)\n",
        "else:\n",
        "    print(f\"The file '{file_path}' does not exist.\")\n"
      ],
      "metadata": {
        "colab": {
          "base_uri": "https://localhost:8080/"
        },
        "id": "gMEdVHB1hMt3",
        "outputId": "46ec009a-815e-4813-d36f-e7f25d6108cc"
      },
      "execution_count": 8,
      "outputs": [
        {
          "output_type": "stream",
          "name": "stdout",
          "text": [
            "This is a new line.\n",
            "\n"
          ]
        }
      ]
    },
    {
      "cell_type": "markdown",
      "source": [
        "**Ques14 :- Write a program that uses the logging module to log both informational and error messages**"
      ],
      "metadata": {
        "id": "BUkh0KkPhToJ"
      }
    },
    {
      "cell_type": "code",
      "source": [
        "import logging\n",
        "\n",
        "# Configure logging\n",
        "logging.basicConfig(\n",
        "    filename='app.log',               # Log messages will be written to this file\n",
        "    level=logging.INFO,               # Set the minimum level to INFO\n",
        "    format='%(asctime)s - %(levelname)s - %(message)s'  # Log format\n",
        ")\n",
        "\n",
        "def divide_numbers():\n",
        "    try:\n",
        "        num1 = int(input(\"Enter the first number: \"))\n",
        "        num2 = int(input(\"Enter the second number: \"))\n",
        "\n",
        "        result = num1 / num2\n",
        "        print(f\"The result of {num1} divided by {num2} is {result}\")\n",
        "\n",
        "        logging.info(f\"Division successful: {num1} / {num2} = {result}\")\n",
        "\n",
        "    except ValueError as ve:\n",
        "        print(\"Invalid input. Please enter integers only.\")\n",
        "        logging.error(f\"ValueError: Invalid input - {ve}\")\n",
        "\n",
        "    except ZeroDivisionError as zde:\n",
        "        print(\"Cannot divide by zero.\")\n",
        "        logging.error(f\"ZeroDivisionError: Attempted division by zero - {zde}\")\n",
        "\n",
        "    except Exception as e:\n",
        "        print(f\"An unexpected error occurred: {e}\")\n",
        "        logging.error(f\"Unhandled exception: {e}\")\n",
        "\n",
        "# Run the function\n",
        "divide_numbers()\n"
      ],
      "metadata": {
        "colab": {
          "base_uri": "https://localhost:8080/"
        },
        "id": "uNXETGGYhZ54",
        "outputId": "f6dbbad2-3a4d-4690-d690-81a03421398c"
      },
      "execution_count": 9,
      "outputs": [
        {
          "output_type": "stream",
          "name": "stdout",
          "text": [
            "Enter the first number: 6\n",
            "Enter the second number: 5\n",
            "The result of 6 divided by 5 is 1.2\n"
          ]
        }
      ]
    },
    {
      "cell_type": "markdown",
      "source": [
        "**Ques15 :-  Write a Python program that prints the content of a file and handles the case when the file is empty**"
      ],
      "metadata": {
        "id": "sY__nMW7hlR6"
      }
    },
    {
      "cell_type": "code",
      "source": [
        "def read_file_content(filename):\n",
        "    try:\n",
        "        with open(filename, 'r') as file:\n",
        "            content = file.read()\n",
        "\n",
        "            if content.strip():  # Check for non-whitespace content\n",
        "                print(\"File Content:\")\n",
        "                print(content)\n",
        "            else:\n",
        "                print(f\"The file '{filename}' is empty.\")\n",
        "\n",
        "    except FileNotFoundError:\n",
        "        print(f\"Error: The file '{filename}' was not found.\")\n",
        "\n",
        "    except Exception as e:\n",
        "        print(f\"An unexpected error occurred: {e}\")\n",
        "\n",
        "# Ask user for file name\n",
        "file_name = input(\"Enter the file name to read: \")\n"
      ],
      "metadata": {
        "colab": {
          "base_uri": "https://localhost:8080/"
        },
        "id": "IkxcvQ4Hhr84",
        "outputId": "4c727701-1d63-4f77-c49d-5dd60053a9cd"
      },
      "execution_count": 10,
      "outputs": [
        {
          "name": "stdout",
          "output_type": "stream",
          "text": [
            "Enter the file name to read: 6\n"
          ]
        }
      ]
    },
    {
      "cell_type": "markdown",
      "source": [
        "**Ques16 :- Demonstrate how to use memory profiling to check the memory usage of a small program**"
      ],
      "metadata": {
        "id": "sOqVpqjXh206"
      }
    },
    {
      "cell_type": "code",
      "source": [
        "import tracemalloc\n",
        "\n",
        "def some_function():\n",
        "    a = [i for i in range(100000)]\n",
        "    return a\n",
        "\n",
        "tracemalloc.start()\n",
        "\n",
        "some_function()\n",
        "\n",
        "current, peak = tracemalloc.get_traced_memory()\n",
        "print(f\"Current memory usage: {current / 10**6} MB; Peak: {peak / 10**6} MB\")\n",
        "\n",
        "tracemalloc.stop()\n"
      ],
      "metadata": {
        "colab": {
          "base_uri": "https://localhost:8080/"
        },
        "id": "79TQ1z0_kXC4",
        "outputId": "80a16148-9c94-4d91-a957-6f1060069ef3"
      },
      "execution_count": 13,
      "outputs": [
        {
          "output_type": "stream",
          "name": "stdout",
          "text": [
            "Current memory usage: 0.001033 MB; Peak: 3.99374 MB\n"
          ]
        }
      ]
    },
    {
      "cell_type": "markdown",
      "source": [
        "**Ques17 :- Write a Python program to create and write a list of numbers to a file, one number per line**"
      ],
      "metadata": {
        "id": "_NuTgc_9kkab"
      }
    },
    {
      "cell_type": "code",
      "source": [
        "def write_numbers_to_file(filename, numbers):\n",
        "    with open(filename, 'w') as file:\n",
        "        for number in numbers:\n",
        "            file.write(f\"{number}\\n\")\n",
        "\n",
        "# Example list of numbers\n",
        "numbers_list = [1, 2, 3, 4, 5, 10, 20, 30]\n",
        "\n",
        "# Specify the filename\n",
        "file_name = \"numbers.txt\"\n",
        "\n",
        "# Write numbers to the file\n",
        "write_numbers_to_file(file_name, numbers_list)\n",
        "\n",
        "print(f\"Numbers have been written to {file_name}\")\n"
      ],
      "metadata": {
        "colab": {
          "base_uri": "https://localhost:8080/"
        },
        "id": "SAA50_JSkqve",
        "outputId": "cb1a5f93-c42a-43d0-e69b-f8b996ba128a"
      },
      "execution_count": 14,
      "outputs": [
        {
          "output_type": "stream",
          "name": "stdout",
          "text": [
            "Numbers have been written to numbers.txt\n"
          ]
        }
      ]
    },
    {
      "cell_type": "markdown",
      "source": [
        "**Ques18 :- How would you implement a basic logging setup that logs to a file with rotation after 1MB**"
      ],
      "metadata": {
        "id": "S_3_haq0kzPA"
      }
    },
    {
      "cell_type": "code",
      "source": [
        "import logging\n",
        "from logging.handlers import RotatingFileHandler\n",
        "\n",
        "# Create logger\n",
        "logger = logging.getLogger('my_logger')\n",
        "logger.setLevel(logging.DEBUG)  # Log all levels DEBUG and above\n",
        "\n",
        "# Create a rotating file handler\n",
        "handler = RotatingFileHandler(\n",
        "    'app.log',          # Log file name\n",
        "    maxBytes=1_000_000, # 1MB = 1,000,000 bytes\n",
        "    backupCount=3       # Keep up to 3 backup files\n",
        ")\n",
        "\n",
        "# Create formatter and add it to the handler\n",
        "formatter = logging.Formatter('%(asctime)s - %(levelname)s - %(message)s')\n",
        "handler.setFormatter(formatter)\n",
        "\n",
        "# Add handler to the logger\n",
        "logger.addHandler(handler)\n",
        "\n",
        "# Example usage\n",
        "logger.info(\"This is an informational message.\")\n",
        "logger.error(\"This is an error message.\")\n"
      ],
      "metadata": {
        "colab": {
          "base_uri": "https://localhost:8080/"
        },
        "id": "ejYwtG_Ck4-2",
        "outputId": "5c08d8ef-707e-432c-9b67-ad63874a0e94"
      },
      "execution_count": 15,
      "outputs": [
        {
          "output_type": "stream",
          "name": "stderr",
          "text": [
            "INFO:my_logger:This is an informational message.\n",
            "ERROR:my_logger:This is an error message.\n"
          ]
        }
      ]
    },
    {
      "cell_type": "markdown",
      "source": [
        "**Ques19 :- Write a program that handles both IndexError and KeyError using a try-except block**"
      ],
      "metadata": {
        "id": "8erqTXT3k-FW"
      }
    },
    {
      "cell_type": "code",
      "source": [
        "def handle_errors():\n",
        "    my_list = [10, 20, 30]\n",
        "    my_dict = {'a': 1, 'b': 2}\n",
        "\n",
        "    try:\n",
        "        # This will raise IndexError if index is out of range\n",
        "        print(\"Accessing list element:\", my_list[5])\n",
        "\n",
        "        # This will raise KeyError if key doesn't exist\n",
        "        print(\"Accessing dictionary key:\", my_dict['c'])\n",
        "\n",
        "    except IndexError:\n",
        "        print(\"Caught an IndexError: list index is out of range.\")\n",
        "\n",
        "    except KeyError:\n",
        "        print(\"Caught a KeyError: dictionary key not found.\")\n",
        "\n",
        "handle_errors()\n"
      ],
      "metadata": {
        "colab": {
          "base_uri": "https://localhost:8080/"
        },
        "id": "ranghrAxlEU-",
        "outputId": "f54677c6-79ba-4f5d-b4ab-56a36f3ad4d1"
      },
      "execution_count": 16,
      "outputs": [
        {
          "output_type": "stream",
          "name": "stdout",
          "text": [
            "Caught an IndexError: list index is out of range.\n"
          ]
        }
      ]
    },
    {
      "cell_type": "markdown",
      "source": [
        "**Ques20 :-  How would you open a file and read its contents using a context manager in Python**"
      ],
      "metadata": {
        "id": "BxAUSfXxlHww"
      }
    },
    {
      "cell_type": "code",
      "source": [
        "filename = 'example.txt'\n",
        "\n",
        "with open(filename, 'r') as file:\n",
        "    content = file.read()\n",
        "\n",
        "print(content)\n"
      ],
      "metadata": {
        "colab": {
          "base_uri": "https://localhost:8080/"
        },
        "id": "-aFNerNBlXfv",
        "outputId": "fad277c4-f637-4d47-c382-f3226900287e"
      },
      "execution_count": 17,
      "outputs": [
        {
          "output_type": "stream",
          "name": "stdout",
          "text": [
            "This is a new line.\n",
            "\n"
          ]
        }
      ]
    },
    {
      "cell_type": "markdown",
      "source": [
        "**Ques21 :- Write a Python program that reads a file and prints the number of occurrences of a specific word**"
      ],
      "metadata": {
        "id": "j6DJ2t5Qlbcp"
      }
    },
    {
      "cell_type": "code",
      "source": [
        "def count_word_in_file(filename, target_word):\n",
        "    try:\n",
        "        with open(filename, 'r') as file:\n",
        "            content = file.read().lower()  # Convert to lowercase for case-insensitive matching\n",
        "\n",
        "        # Split content into words\n",
        "        words = content.split()\n",
        "\n",
        "        # Count occurrences of the target word (also lowercase)\n",
        "        count = words.count(target_word.lower())\n",
        "\n",
        "        print(f\"The word '{target_word}' occurs {count} time(s) in the file '{filename}'.\")\n",
        "\n",
        "    except FileNotFoundError:\n",
        "        print(f\"Error: The file '{filename}' was not found.\")\n",
        "\n",
        "    except Exception as e:\n",
        "        print(f\"An unexpected error occurred: {e}\")\n",
        "\n",
        "# Example usage\n",
        "file_name = input(\"Enter the filename: \")\n",
        "word = input(\"Enter the word to count: \")\n",
        "count_word_in_file(file_name, word)\n"
      ],
      "metadata": {
        "colab": {
          "base_uri": "https://localhost:8080/"
        },
        "id": "-NVmZCDWlhcp",
        "outputId": "15d06250-3130-40e8-cff0-40771d885175"
      },
      "execution_count": 18,
      "outputs": [
        {
          "output_type": "stream",
          "name": "stdout",
          "text": [
            "Enter the word to count: 4\n",
            "Error: The file 'sachin' was not found.\n"
          ]
        }
      ]
    },
    {
      "cell_type": "markdown",
      "source": [
        "**Ques22 :-  How can you check if a file is empty before attempting to read its content**"
      ],
      "metadata": {
        "id": "1Rgr-6CClpyK"
      }
    },
    {
      "cell_type": "code",
      "source": [
        "import os\n",
        "\n",
        "filename = 'example.txt'\n",
        "\n",
        "if os.path.exists(filename):\n",
        "    if os.path.getsize(filename) > 0:\n",
        "        with open(filename, 'r') as file:\n",
        "            content = file.read()\n",
        "            print(content)\n",
        "    else:\n",
        "        print(f\"The file '{filename}' is empty.\")\n",
        "else:\n",
        "    print(f\"The file '{filename}' does not exist.\")\n"
      ],
      "metadata": {
        "colab": {
          "base_uri": "https://localhost:8080/"
        },
        "id": "ZfYEm8WAl0Nt",
        "outputId": "9480d823-7624-4445-87c4-14589cef2dc5"
      },
      "execution_count": 19,
      "outputs": [
        {
          "output_type": "stream",
          "name": "stdout",
          "text": [
            "This is a new line.\n",
            "\n"
          ]
        }
      ]
    },
    {
      "cell_type": "markdown",
      "source": [
        "**Ques23 :- Write a Python program that writes to a log file when an error occurs during file handling**"
      ],
      "metadata": {
        "id": "dK_vPutJl24F"
      }
    },
    {
      "cell_type": "code",
      "source": [
        "import logging\n",
        "\n",
        "# Configure logging to write errors to a file named 'error.log'\n",
        "logging.basicConfig(\n",
        "    filename='error.log',\n",
        "    level=logging.ERROR,\n",
        "    format='%(asctime)s - %(levelname)s - %(message)s'\n",
        ")\n",
        "\n",
        "def read_file(filename):\n",
        "    try:\n",
        "        with open(filename, 'r') as file:\n",
        "            content = file.read()\n",
        "            print(\"File content:\")\n",
        "            print(content)\n",
        "    except Exception as e:\n",
        "        print(f\"An error occurred: {e}\")\n",
        "        logging.error(f\"Error while handling file '{filename}': {e}\")\n",
        "\n",
        "if __name__ == \"__main__\":\n",
        "    file_name = input(\"Enter the filename to read: \")\n",
        "    read_file(file_name)\n"
      ],
      "metadata": {
        "colab": {
          "base_uri": "https://localhost:8080/"
        },
        "id": "cQ0004Frl9SE",
        "outputId": "cbaf6597-99db-4469-b7ca-4870613bb108"
      },
      "execution_count": 20,
      "outputs": [
        {
          "name": "stdout",
          "output_type": "stream",
          "text": [
            "Enter the filename to read: sachin\n"
          ]
        },
        {
          "output_type": "stream",
          "name": "stderr",
          "text": [
            "ERROR:root:Error while handling file 'sachin': [Errno 2] No such file or directory: 'sachin'\n"
          ]
        },
        {
          "output_type": "stream",
          "name": "stdout",
          "text": [
            "An error occurred: [Errno 2] No such file or directory: 'sachin'\n"
          ]
        }
      ]
    }
  ],
  "metadata": {
    "colab": {
      "provenance": []
    },
    "kernelspec": {
      "display_name": "Python 3",
      "name": "python3"
    },
    "language_info": {
      "name": "python"
    }
  },
  "nbformat": 4,
  "nbformat_minor": 0
}