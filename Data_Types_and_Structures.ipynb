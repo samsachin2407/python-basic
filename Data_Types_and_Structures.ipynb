{
  "nbformat": 4,
  "nbformat_minor": 0,
  "metadata": {
    "colab": {
      "provenance": [],
      "collapsed_sections": [
        "6rFex4-kC7_K"
      ]
    },
    "kernelspec": {
      "name": "python3",
      "display_name": "Python 3"
    },
    "language_info": {
      "name": "python"
    }
  },
  "cells": [
    {
      "cell_type": "markdown",
      "source": [
        "# **Data Types and Structures**\n",
        "\n",
        "---\n",
        "\n"
      ],
      "metadata": {
        "id": "6rFex4-kC7_K"
      }
    },
    {
      "cell_type": "markdown",
      "source": [
        "**Data Types and Structures Questions**"
      ],
      "metadata": {
        "id": "cB5wp8OODKHI"
      }
    },
    {
      "cell_type": "markdown",
      "source": [
        "**Ques1 : What are data structures, and why are they important ?**\n",
        "- A data structure is a way of organizing and storing data so that it can be accessed , manupulate and used efficiently.\n",
        "- There are many different types of data structures, each with its advantages and disadvantages. Some common data structures include list , tuple,set ,dictionary\n",
        "- data structures are important : -\n",
        "  - When it comes to efficiency, data structures help the computer to run the code faster by organizing the data in a way that is easy for the computer to process. For example, a linked list is a data structure that can store a list of items. The computer can quickly add or remove items from a linked list without searching through an entire array of data.\n",
        "  - Data structures play a vital role in the computer world and are used to store, organize, and manipulate data. Without data structures, managing large amounts of data efficiently would be difficult. Data structures help us to optimize our code and make it more efficient.\n",
        "\n",
        "**Ques2 : Explain the difference between mutable and immutable data types with examples**\n",
        "- **Mutable Data Types :-**\n",
        "  - Mutable data types are those whose values or contents can be modified in place after they have been initialized. When a mutable object is modified, its identity (memory address) typically remains the same.\n",
        "  - Examples: Lists, Dictionaries, Sets, Byte Arrays.\n",
        "\n",
        "- **Immutable Data Types: :-**\n",
        "  -  Immutable data types are those whose values or contents cannot be altered after they have been created. Any operation that appears to \"change\" an immutable object actually results in the creation of a new object with the modified value, while the original object remains untouched.\n",
        "  - Examples: Integers, Floats, Strings, Tuples, Frozen Sets."
      ],
      "metadata": {
        "id": "8ggX0cA6DNw8"
      }
    },
    {
      "cell_type": "code",
      "source": [
        "# Mutable Data Types\n",
        "my_list = [1, 2, 3]\n",
        "print(f\"Original list: {my_list}, ID: {id(my_list)}\")\n",
        "my_list.append(4)     # This add the element in the list\n",
        "print(f\"Modified list: {my_list}, ID: {id(my_list)}\")\n",
        "\n",
        "# Immutable Data Types\n",
        "print(\"\\nExample for Immutable Data Types \")\n",
        "my_string = \"hello\"\n",
        "print(f\"Original string: {my_string}, ID: {id(my_string)}\")\n",
        "my_string = my_string + \" world\"  # This creates a new string\n",
        "print(f\"Modified string: {my_string}, ID: {id(my_string)}\")"
      ],
      "metadata": {
        "colab": {
          "base_uri": "https://localhost:8080/"
        },
        "id": "wF8Cae7peLZ9",
        "outputId": "8a58f04a-e904-432b-b172-98a20b5bcb68"
      },
      "execution_count": null,
      "outputs": [
        {
          "output_type": "stream",
          "name": "stdout",
          "text": [
            "Original list: [1, 2, 3], ID: 138094231411008\n",
            "Modified list: [1, 2, 3, 4], ID: 138094231411008\n",
            "\n",
            "Example for Immutable Data Types \n",
            "Original string: hello, ID: 138094619968496\n",
            "Modified string: hello world, ID: 138094231394480\n"
          ]
        }
      ]
    },
    {
      "cell_type": "markdown",
      "source": [
        "dvdfbv"
      ],
      "metadata": {
        "id": "ikXUvuevYTr3"
      }
    },
    {
      "cell_type": "markdown",
      "source": [
        "**Ques3 : What are the main differences between lists and tuples in Python ?**\n",
        "- The main differences between lists and tuples in Python are centered around their mutability, performance, syntax, and typical use cases.\n",
        "- **List :-**\n",
        "  - Lists are mutable: Elements within a list can be added, removed, or modified after the list has been created.\n",
        "  - Lists can be slower: The dynamic resizing and modification capabilities of lists can lead to slightly slower performance compared to tuples.\n",
        "  - Syntax: Lists are defined using square brackets [].\n",
        "\n",
        "- **Tuples :- **\n",
        "  - Tuples are immutable: Once a tuple is created, its elements cannot be changed, added, or removed.\n",
        "  - Tuples are generally faster than lists: Due to their immutable nature, tuples are more memory-efficient and can be iterated over more quickly, especially with large datasets.\n",
        "  - Syntax : Tuples are defined using parentheses ()."
      ],
      "metadata": {
        "id": "qLDoa7zRDY-n"
      }
    },
    {
      "cell_type": "code",
      "source": [
        "# Example of list Data Types\n",
        "my_list = [1, 2, 3]\n",
        "\n",
        "\n",
        "# Example of tuple Data Types\n",
        "my_tuple = (1, 2, 3)"
      ],
      "metadata": {
        "id": "Jhl6Fv95hN6L"
      },
      "execution_count": null,
      "outputs": []
    },
    {
      "cell_type": "markdown",
      "source": [
        "**Ques4 : Describe how dictionaries store data ?**\n",
        "- Dictionaries are the data type which store data as a collection of unique key-value pairs.\n",
        "- Each key within a dictionary must be unique, while values can be duplicated.\n"
      ],
      "metadata": {
        "id": "EVB7aEpohd6Z"
      }
    },
    {
      "cell_type": "code",
      "source": [
        "# Example of Dictionaries Data Types\n",
        "\n",
        "my_dict = {\"apple\": 3, \"banana\": 5}\n",
        "my_dict\n",
        "\n"
      ],
      "metadata": {
        "colab": {
          "base_uri": "https://localhost:8080/"
        },
        "id": "km5i6KZQiLuw",
        "outputId": "7aa2e0e5-efe9-4315-ce7c-fabdd16e58e5"
      },
      "execution_count": null,
      "outputs": [
        {
          "output_type": "execute_result",
          "data": {
            "text/plain": [
              "{'apple': 3, 'banana': 5}"
            ]
          },
          "metadata": {},
          "execution_count": 7
        }
      ]
    },
    {
      "cell_type": "markdown",
      "source": [
        "**Ques5 : Why might you use a set instead of a list in Python ?**\n",
        "- we might choose to use a set instead of a list in Python when you need:\n",
        "  - **Uniqueness of Elements :** Sets automatically remove duplicates, while lists allow them.\n",
        "  - **Set Operations :** Sets support mathematical set operations, which are not available for lists:\n",
        "    - Union (set1 | set2)\n",
        "    - Intersection (set1 & set2)\n",
        "    - Difference (set1 - set2)\n",
        "    - Symmetric difference (set1 ^ set2)"
      ],
      "metadata": {
        "id": "Zr3OQFxQitmw"
      }
    },
    {
      "cell_type": "markdown",
      "source": [
        "**Ques6 : What is a string in Python, and how is it different from a list**\n",
        "- A string is an immutable sequence of characters.\n",
        "- string is different from list , as a string is a sequence of characters, while a list is a sequence of elements that can contain any data type, including strings, numbers, or even other lists."
      ],
      "metadata": {
        "id": "G5rsYs77j29C"
      }
    },
    {
      "cell_type": "code",
      "source": [
        "# Example of string Data Types\n",
        "my_string = \"hello\"\n",
        "\n",
        "# Example of list Data Types\n",
        "my_list = ['h', 'e', 'l', 'l', 'o']\n"
      ],
      "metadata": {
        "id": "5nyQmBi2mF1T"
      },
      "execution_count": null,
      "outputs": []
    },
    {
      "cell_type": "markdown",
      "source": [
        "**Ques7 : How do tuples ensure data integrity in Python ?**\n",
        "- Tuples in Python help ensure data integrity primarily through their immutability — once a tuple is created, it cannot be changed. This makes them ideal for storing fixed, reliable data.\n",
        "\n",
        "**Ques 8 :  What is a hash table, and how does it relate to dictionaries in Python ?**\n",
        "- A hash table is a data structure that stores key-value pairs and allows for fast data retrieval, insertion, and deletion\n",
        "- hash table relate to dictionaries in python as for below reasion : -\n",
        "- ![Capture.PNG](data:image/png;base64,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)"
      ],
      "metadata": {
        "id": "WPScxHj6maza"
      }
    },
    {
      "cell_type": "markdown",
      "source": [
        "**Ques9 : Can lists contain different data types in Python?**\n",
        "- Yes, lists in Python 3 can contain different data types\n",
        "- Python lists are heterogeneous, meaning you can store elements of different types in the same list — including integers, strings, floats, objects, other lists, and even functions."
      ],
      "metadata": {
        "id": "IKi8S-Xz34oZ"
      }
    },
    {
      "cell_type": "code",
      "source": [
        "# Example of list with different data type\n",
        "mixed_list = [42, \"hello\", 3.14, True, None, [1, 2], {\"key\": \"value\"}, len]\n"
      ],
      "metadata": {
        "id": "8pg5AChU48TM"
      },
      "execution_count": null,
      "outputs": []
    },
    {
      "cell_type": "markdown",
      "source": [
        "**Ques10:  Explain why strings are immutable in Python**\n",
        "- strings are immutable in Python with following reason\n",
        "- **Hashability :-**  Immutable objects can be hashed, which is required to use them as keys in dictionaries or elements in sets\n",
        "- **Thread Safety :-** Immutable objects are inherently thread-safe because they can’t be modified by one thread while being read by another.\n",
        "- **Memory Efficiency :-** Python can reuse identical string objects in memory (a process called interning), reducing memory usage.\n",
        "- **Simplicity & Predictability :-** String operations like slicing and concatenation always return a new string, which avoids unexpected side effects.\n",
        "- **Security :-** Since strings often store sensitive information (e.g., file paths, URLs, passwords), immutability helps prevent accidental or malicious modification.\n",
        "\n",
        "**Ques11 :-  What advantages do dictionaries offer over lists for certain tasks ?**\n",
        "- Dictionaries in Python offer several key advantages over lists when it comes to specific tasks — especially those involving lookup, association, and organization of data using keys.\n",
        "- ![image.png](data:image/png;base64,iVBORw0KGgoAAAANSUhEUgAAAysAAAEWCAIAAADpTp9RAAAQAElEQVR4AeydCZxVxZX/X3fbTbPTAWw2EWSQXQYRBVTCfyIBJUoIYKLgiBgcJoQgQQ3ZCGIyH6JDXJCEjIpkgktYREyIaJYxGkXiNgy0iBgkikCzdUMD3bS9/L9wYuX6tr7v9faWX3+ORd1Tp06d+tWpU+fWbTCzu36EgBAQAkJACAgBISAEGhaBzIB+hIAQEAJCQAg0NAIaTwikOwLKwNLdAzR/ISAEhIAQEAJCoOERUAbW8JhrRCEQCAgDISAEhIAQSG8ElIGl9/pr9kJACAgBISAEhEBjINA4GVhjzFRjCgEhIAQaDoGcnJz8/Pxu3brV06/2duvWDf2M0nBT0kiJigBugDPgEvXhbKhFOUMk6uyT2C5lYEm8eDJdCAiBxESA46pTp07NmjXLyMioJwszMjLQzyiMVU9DpKTa1JsUDoAb4Ay4RH3MDrUoZwgGqg/96axTGVg6r77mLgSEQL0gkJeXx7lVL6o/rZRRGOvTPD2lFwI4AG5Q33NmCAaq71HSTb8ysHRbcc03nRHQ3BsIgaZNmzbQSIFAQ47VYJPSQP4RaDAHaLCB/M892SWVgSX7Csp+IdAQCIwfP37r1q3PPfecGyyU45r8VKz7rk9+CgoKnn76aZjWd/Lkya+88soDDzxgj9HL5s2bP/rooy+++OLo0aOjS9Z368iRI19++eVf/vKXXBj4GWvQoEG/+tWv7rnnHj/CkWSuueaat956a8mSJZEExI8DgUWLFuGblK4v9SCOa/JTwbeDdhC97r777ldfffXmm2+mHis1vLPh1WxMOVusKxVF3m8Gdu211/7+97/fuXMnLkj54IMPRlFat011Fl7r1ixpEwJCoNYIFBYWrlu37plnnvnb3/7Wr1+/H/3oR9/85jfR2q5duzZt2rRu3Zp6WOLoeuONN2bPnk3r2Wd+WrZs2apVKx4bi4hUM2fOzMzMfOSRR6LYQL4FRREIbRo1ahSJGmVoE5xf//rXBOfPfvazU6dO5VGURAjk5+fjtC1atAhrM+kO7yG8XYS2RnE2/ASX+MMf/oDPkOKH9o3OoTsdKcOKPfbYY3K2sMjEx/SVgV199dXz5s3r3Lkz3kC4fP3117Ozs+MbL45eZ6Lr2Y0eXuOwXF2EgBCIjsCxY8fmzp176623XnXVVT//+c95yR43bhzHxv3339+3b98bb7wxUvdOnTpxbpHuIPD++++PHTuWXqtXr+axsYhLjt69e//lL3954YUXfNrAdcKXv/zl22+/3ad8JLENGzaUlZVdeeWVkQTEb2QEIgyPh+PneHvYds6+tm3bhj1tozjb7373O45sLmI//vhjr1o5mxeNBKn7ysD+6Z/+iYybdcVdCJfXXXfdv/3bvzXYBBIkvDbYfDWQEEg6BOxl/a9nfp5//vkLLriAiHHvvfdu27aNW3NKLrdqnNR//ud/cr/OkTNgwIA5c+bs2LFj5cqV9ELVD37wgzfffBP1CCxdupSPocOHD+dkmjVrFq+Fw4YNg8MnHo4l5PmmwxdJJJGn1/e+9z2YkMlwf489NBHQRo4cCZ8EaPPmzXCgTZs2TZo0CaYZ8Jvf/IYmND/88MPvvvuuu9z693//9+3bt7tH5CHMJoPkZo56KN12221cS0AXXnihtTpO0JUYj4hBXEWQVi5fvpwXYC4FKWHyaN29JTkf5p133nmf+9znvHzV6wmBOnF4bMPD8XOcjTpnK+6KE+K6a9as4aMn7o2T4+pOBjGj6M5mMt4yrLNx0WW3ZfgVXoc83oWbydmAomHIVwZ28uTJysrKiy66iAXzmhUaGWnt2bPnL37xC8ITnoQ/2WcCPAwf4g312WefhV9QUGARmfiCqyFMmEbgoYceQidhlJD3pz/9idvOd955h74WOuGj/4tf/CJK8FG6EEmJ8nSBLxICQqBRECDf4pWMW2ouschvuIxhS955551f+MIX2Np33nnnvn372LwzZsyo0TyuxDhySMK8kvPnz58yZcrx48f/67/+6+mnny4vL+dwItHhFZ9vIgsXLvy///s/J8/RyLmFAU8++STHSXV1NRyLQsg0a9asf//+6NmyZQv5yvXXXw+TN0wiFQcP5xBnz1e/+lW6w4d69Ojx1FNPcdpxUhYXF59//vmELPiXXnopIfF//ud/qDvq0qUL9hOaHMdV+D7IOYrZZEiMZXwyTu+jMTkpu3btSkkT12PcW0ybNo2Ohw4dooTJo0kGlXzGbdq0KV8qgvh6rHME6tDhnW3cAeOoFRUVfF7HdeE//vjjuDdOjqvzksDLAExHUZzNyXgrYZ3t85//PCcsTgUxBPJ4F24mZwOKhiFfGRjRhxfN9u3b//SnPyUejRgxwowLjYxELpjEmpdeeglPOnXqFNdm3IiaPLGP9GvFihX4GRfm+Nw555zTpEmTn/3sZz/+8Y+PHDmC5ltuucWE+cpAHjZ48GByLONQ8s56xx134Hy//e1vlyxZQheiPCPSJBICQqBxESApeeKJJ9jCZFEEgf379//Hf/wH72O8ZWEYN1WUsRKnHR2PHj2KKqIE5wSvZKQ+xBZUEQE2btx44sQJ6kYcKqRZ3B59//vf5zWPuyv4l19+OSVE9kbTAw88gJ2lpaXnnnsuTNJH7rR4P3z00UcPHjxIKsmg8CHSKQalwiUT4Yj8bOjQodhD9sbd/Lp162hyRGtJSQm3aI7jKv369SP0cevmOJEqfJN67bXXSLwiCUTic2qSbgYlr5GExa8TBOrD4XFsciD8nPcK3Bs74TzzzDO4InVHUZzNydRYKSws5EaWF5UaJYME5GxBgMT96CsDI8DxXkgk+uijjwYOHMhXAN4pCVJEoqDISCoNn7SaKMkLMd8jCGdDhw41+957771vfetbd911F3dX5Gq9evXCscjPCIgIc+lF4M7Pzzfhffv2ERAZ2h6t5BKOT+N//OMfMYDMjLyeN+OLL764e/fuJpB4pSwSAqmJwFlnncVHt6qqKo4K0ixuyr/2ta9xjcTe5PWJjc99zNq1a7mrZtfn5uZmZWVFB4KYwGse582HH37oJLt169a6devDhw+TaTlmlArxAQ3uuCIL5H0PY6wLdTjUqZCvUIG4nOOWnVux//7v/+7QoQMcR9xpuTppHycunwIIaG3atPnf//3foOjkJFVJSQRwYHwGH6grh/eixJ0CtxucgFwo/PnPf/7Sl77kba2nOgcoR/bbb7/Nto0jD6snq9JKra8MzBDhbZIrKPudwQkTJnBfFRoZubQn1PLCx/sikfeGG27AayHTQLpmMQs/Ng5X+uRef/nLX/guab9+YXxK3lBxdCpe4vaLDbB7925j8sKKGLdoQXHTWlUKASFQVwiQi/B5kfzmmmuuMZ28a7HZLVt65JFHLrnkkh/84AeI8U7Fdz1ug/bs2fOd73xn7ic/vLlZx0jlN77xDfKtHTt2PPvss06GNzGCRl5eHsHHMaNUDhw4QEDo2bOnyRAZyBQJFPYYWvJ98+tf/3pOTg6RjWszy89CxeBw48W9F5q5UePFj0MLppeYMqke76VeptW5bODbIuGOz5HgZsywJbnmkCFDkAxq5Wwmow1ieh+5FCHSkgd7marHjQCezFnDWcaLAUooe/fuTXL/wQcf8FgnDo8eL/3whz+87LLL8MPMzEw+QEd3+CjO5tHpq0oe9stf/pIt4LxOzuYLuLoQiiEDs+HwPIJU69atiWuhkZGbdsI06dQnUff0n3zPtr6h5bx58/Az7u2//e1vE+BCBYI4xHSiDGHa+LwxN23aFF8MzdVMQKUQEAJ1ggAJB+/KrVq1Is362c9+xle8iRMnsvX4skbOwXdG8iferHgjYjjekbiF6tix4/jx4/kmeM4555DosFtpCiIULl68+L777uO+nIt28icSNQKLE+OTHPHkM5/5zIIFC7hLu+eee7j8ppXTkVBANsO5RcoCx4hgwv0WBxh37ciT8WAVlwrWGlqimVCGDAr5ghnWSOuFVW+++SYpHacyb5h8lzS+K/fu3ct0eEt0HFcBPeocdVdeeSUpJnWIucDnMxBE5bbbboPJ5ycGQhIOH0ztUARkQisvtDAj3VXwRZWOfGdAiaj2CHDliTfyUZiDia80lNRJwXHUYcOG1dLh8XmIz9/OTl5suDDGbzlAyfOMj0/imWTeOP+Nn/57wVGcDZ/nThdvYQPiSOYwYZ2NJjwKQpg73bfeeotx5WyA0GDkKwMjlrFIeCFOw+cGEiAyofXr14dGRgITTeeff/7o0aOJa7jsddddx9tDpPkQsGjC59DJmyX16PTqq6/yavIv//IvvCgQ8fnW2aJFC5iEnugd1SoEhEAtESDXIe3ghondzcc4LpYefPDB1atXs/t4EZo1a9bChQv5PPfkk0+uXLkS4VdeeYUMiehBU05ODvKhBuTn55OlcW3GFQ4hhYtwhggS42rq97//PQKcWF/4whes9Te/+Q3XRZ/97Ge5NjCOlcuWLSNSlZeXX3/99bfccgsfSXmEaa2hJfdt27ZtI0f83ve+h/FFRUWhMo7DqVxcXIzO119/3TFdhbt8zssge6yVs43DlS8+lAQu0iz4lHAccVjChKZNm2ZMhOkIB3LCtPIYRLzHEnX57ECgDmrSY3wIkMqTtbz77rvdu3fH6/AQchScmSSs9g6Pz0PeI4+XGS6Yv/vd795xxx0kXnwaYiPgnByy3J6yL4KO0SjOtmLFCnaouRClOYzzHziQORtN1I2MY1g5YQSM4y3lbF40aln3lYEdOXKE2MTbG07D+x8XTuaIoZER76TpnXfeYVF//OMf8+LL+yh3ZpGs3LhxI9fmuBcJvp+3t1//+teLFi3i1eSqq66aPXs2V3HE+rvvvjuSfvGFgBCoKwS41rr55pv79+9/3nnn8TFuxIgR3IijnIAwduxYOD169OA6h9wLJsJs6j59+pgwORZHGnxHXCoMGDCAVsg6fvOb33SxgouuXr16EUCQhzljxgwbF4W8d8Ek8+O7J305D7gn48hBGzppIt/ilgKdEBUeYUJeGSSRh4OdXOZhPPSlL33p4osvHj58OKZ6DaCvEdlnRkbGRx99ROAyjrdEJ6GPCzkG9fIboA7+3DWSIDbAWOkzxNNPP82ph2PgZjjehAkTeNtn+rV3eBRCuDeEn+NsrB0JGR4L4T+2s3BOBoXDsfvTn/6UoR3J2RwUSV3xlYHhH4MHDw51xLCRER8dN26cE77++utJy9CAn+FtBhYVHmFylcU1O76I/smTJ1PhuyS+ZcHRhCkJlHDgU1+1ahXpHfrxS8L9nXfeyRsJfJEXAdWFgBCoQwT4+EhCyVsf76Ivv/wyMS1UOYGIT6hcg33ta1+jDBWoJw7Z7RVXXEHW6HLNehpIahMHgUZxNryaY1rOVodu4CsDq8PxpEoICAEhkHQIXHfddd/5znfOPfdcvn5GuXTny9Gll156ww032O/DNcw07dfFpk+f3jDDaZQEQaDhnQ2vfuyxo0qHCAAAEABJREFUx7g0ie5sCYJPUpihDCwplklGCgEh0JgIcGHPtT0fg/gGyvVDjaYUFRVxYVCjWO0FGIWxaq9HGpIXARwAN6hv+xmCgep7lHTTrwws3VZc8xUCQqD+EPi75vLy8r179548eZJz6++suv4DzehnFMaqa93Sl0wI4AC4Ac6AS9SH3ahFOUMwUH3oT2edysDSefU1dyEgBOoLAY6rwsLC3bt3v18/P2hGP6PU1wSkN3kQwA1wBlyiPnwNtShniOTBI2ksVQaWNEuVBIbKRCEgBISAEBACQsAfAsrA/OEkKSEgBISAEBACQiAxEUhOq5SBJee6yWohIASEgBAQAkIgmRFQBpbMqyfbhYAQEAKBgDAQAkIgGRFQBpaMqyabhYAQEAJCQAgIgeRGQBlYcq+frA8EhIEQEAJCQAgIgeRDwFcG1l0/QkAICAEhIASEgBBIMwSipnW1bfSVgdXHPzEinUJACAgBISAEhIAQSGQEaptkRe3vKwOLqkGNQkAICAEhkH4IaMZCQAjUDgFlYLXDT72FgBAQAkJACAgBIRA7AsrAYsdMPYRAICAMhIAQEAJCQAjUBgFlYLVBT32FgBAQAkJACAgBIRAPAvFlYPGMpD5CQAgIASEgBISAEBAChoAyMMNBpRAQAkJACCQ+ArJQCKQOAsrAUmctNRMhIASEgBAQAkIgWRBQBpYsKyU7hUAgIAyEgBAQAkIgVRBQBpYqK6l5CAEhIASEgBAQAsmDQDJlYMmDqiwVAkJACAgBISAEhEA0BJSBRUNHbUJACAgBISAEhIAQqA8ElIHVB6rSKQSEgBAQAkJACAiBaAgoA4uGjtqEgBAIBISBEBACQkAI1D0CysDqHlNpFAIpiUBJScm+WH7Ky8tTEgdNKt0QqKqqijTlKE2RuogvBBwCysAcFBEqYgsBIXAGgcrKyowrK5o+mOGHKs4pr66uPtNPhRBIYgRKS0s//PDDU6dOhc6BHbF3796ioqLQJnGEgB8ElIH5QUkyQkAInEYgs31mdt8sP5TR7LS8/hMCSY0A6Vfzo4c29msdOFwYdKdL+nVk/77H/6n5RYGTxcXF9TJNKU11BPxmYM8999wuz8+iRYtqicywYcNeeeWV+PSMHz/+jTfemDNnTi1tcN3rXKHTHFRZuXIls2buQfw6eWSNoFBVDBqWHyoZhQPaW7dupTQZFg53gIPm+puRjaUyWRDICGScnZ0fyVrcHlfBG52AcfAlx1FFCCQOAlziHjhw4OGerS5umfNsv7zsI/9Iwki/jhbue7xni1F5TZaf37riWHFQfmazMA8nTnLEGIeSKMr55eXAjE4Io4SdArGJUIsSOJTROyZ4KxNhOkwqyE6OFSiImZKPfjMwJg9S533yM2/ePDh+CNfB25LdUfzM1I/MlClThg8fvmnTJj/CscqMPvMTa68o8hyWbhvce++9AwYMoESeNR01atSSJUvgMGb9zYixREmEwE96PPjcBX9qndUmrM24/erVq/v06YP/mMC4ceNKSkoiBROTUSkEGguBjIyM/Pz8G989+uGpynNzs57t1ybnyAEyraqqqmOF+9ec32JE65zSyuqvvFOc0+YzOTk5Ye1EHv6ECRMo46YZM2Zs2bLFu1MIxYRfyrh1JnLHBQsWtGzZMjQzS2Sb47MthgwsvgHUK/UQ6NatG5PavXs3pUgIGAI/7v6T68/+1zUHnzxaGfGLDAfGoUOH7DQiDyOP37hxo3VXKQQSEIHc3NyKz+SP3lb0t7LKjjlZz/dv06zowInCfU/3ajGkZc6xiqprCorezWndqlWrSMaTme3YsWPgwIFxX0PQsV27dmvXro00ROrxeVvjG8ugQYNSb2pBM4o/AyOAcgsKTBDXY1wnotrL5AYF1yGNzcvLmzVrlpNBLJQQQ4+Ru3dBLBKfJiMToGQsLtswwPiMbnrgwEfArGUzIGkyQSWvO0EyaECPE+MRco9UaHUcEGCODASfkvqaNWuCZmR8JJHBMBsOGSQxEg5EZc6cv39g9crTC50IQ25Q9DjyGkNHxCCG8EYH9MOBDyFPX1P70EMPGd/hwxDDhw/v2bMnkmijoxlGndVkTRcvXowMj1iFEqcKeYgmOBCjvPDCC8g4zTBFKYbA97reObXD9Ac+WvyjDxZEnxopl12DkYeRjZGTIY+T4DMQToinwaGkDgeiFY5ICDQKAk2aNAm0zR+1reidkxXtszM39mtD+vXPLbKPVlRdXVD0t2Z53NZEN+y9997jBmvSpEkWJ4OEcW+c3Ih6UCuPgwcPZqesW7eOuiM2iAVkOPQi3kJBShiOwGtMWpGEvEy2GHpgWhgnUCNMHY4jjktCN3zINTEij5DTEFYtyjGS0w1JM8CrDSU2Stu2bdGDDAMhYEw6kneiwR5TtYw/A7vkkks2bNjAZ8m5c+fignxQACO7LIU5efJk0CS8cnFaVFTEFyuOcxJbZEKJdQVoZKwj2mxtIvGdBifAKI4ZWuEtZOzYsfPnz0c/fjxt2jSGCxILK/PWW2/RBd9CmC44BOcHdT/UoUOHsrIyujMvLo0w1dsLbQsXLjQAwapTp04Y4BUIqmMDGQ8+ikLkgShIoVeeJubLuiC8fPnyXr16Wat3UFo5CJ27Dx061PDhZssiBZ8X2b07d+5EiRde6syINUUDMqaZMoqFHTt25PMTZuAPSIpSAIHLWo1ws5jd+bavd54z96+zaky/6IIPcJzcdNNNuJ/tJjY7PoZXU3JQEUMQo6QOBz6RBI5ICDQWAiRhOWd3vLKgeNuJj9tmZ/Zvnn3k46ox24r2t2jbvHlzP1YtXboUsZkzZ1J6CefneoxYiqtTUid6ewWot2/f/uDBg1SiEK/KdlqtWrVqyJAhBPZIAZlQX1BQwHDsrJKSkgmffB7lwHr11Vfhz5v3j18xQgnHAYcmfMzbv38/NmAzj3SnZJOyVWFGUsu5xmmFJIcFVnH4Llu2jEe0HT58mI4QfYNOH5icRJQcnZQpTDFkYKRQZAAQ6SpnOScxBDQsz969e7t06UIdwl0oSbbuuusuKn6Iy8bXXnuN0IwwHV988UVWiLWPxEcM6tu3L3kGy2kd4UQivsSTiGAnAuvXr8ftSB+peymsDMLIWHJJl1OnTuGjcPwQzmq7DvNwJoeP9UUbZph+pkyCggHWFLbER4kCdhGNPBABTlhJmDSxMWy+jA62MCHvoLRu376dtyv4ELkgHCocigzEbqQeE0WxkOljRkzaJJzICHw+78q1/TbcmH8zRn6zy7e+3XX+Le/euPLACh79EHu2e/fu5GF4BduczY4/49X0xcOJ14QX6nFEEnqJhEA9IZCRkVH5yb+vUhUIQHB8joV7E+R56zDftl7m/C72EoGJ20Rva/WWe/bs8T6G1nlVtuOYM4XMhu85kQIym2769OlowCROc9tlPHJg0ZdKKNnhhXn33Xef2Ry6YSOp5VzjTDGdY8aMYYJI8oi22bNnU4EcAki60wd7OHCZCAIpTDFkYNyIECuhAQMGAB8rAYclhEjADSPyXCpwaEKAeo2EGDHX62GFhYUsw+WXXx6Wb8kBmfXnPvc5Vs6Ws8ZRnABuR+rjHsNWnAwV5mJbgtK5XdheMTHxacxAv89eOKJ9+MMe6NprrwUcoAvtDpMmL55OhkFB77HHHkMDRErttp+Tibvi38K4h1DHBEHg+aJnH9n/87vPu29V32fuOOe7M3d+9ZnDn/pEEt1OYivOzys7Yjgk7oo/45AQF718kuDFN45IgrY6IKkQAiEIfPzxxyWF+1f3ajWwRXZxRdXbJyvaZWf+tl9ey6OHSktLQ8TDMziqeOuwGyOTwPk56Tjv7JGSuM12IIZTryVFCch8EGSvQRwB0UfhhOKyikMfYXohjM1YGLphaUIAMSisWiZFRyaIpMghEEMG5vpQAU1iJRkJawORgMM0InTCYRkQQMyYUUrWmHBMcuCVgfPSSy9RhvIJ30iSWf/hD3/gfSL0zpbWKIRJ+EEUAZq8MvY1+tZbb6XX5s2baa0TwhFRyECmjd1CTmn1sCW79IMPPrCLX+CF8HKgCxWGGYSbS7MYlJWiryMWK1RDfBz/FsanX70SCoHvvH/bLwsfHdF6JOnX2kOr4raN7cwr+5IlS5xPuq/VOCdM/5EkbhvUUQhEQcDSr7W9Ww1umX20omrstqKr3y5+92QFnyN/069Nk+KD/pMwbn87dep06aWX2nA4f+g1D9GbGG4Crgw6Bx0/SiVSQCZP4psmOwvioiSKBmvCGM4ahHmkLzaH3bA0RVeLHqYW00Q45ZkF46YwxZmBkQi75J00CK8CI/KJNWvWUFLnsKf0SbwN26dr5OnOh2e6s2CR+IhBb7/9Ng7N6JaE8amLJIYPbTTxvRmFVIzgc/9pdfsSH3rdGknGXlxuuOEGTgJu/kyJK7GTuWMDHDQDCxU/hGPxrm/fN5nyiBF//60a/Js9aR8HUctnVtPG108sZAh7jF6yEwYOHEh3xICCGwUqEBkk1hpcPIZSbTgxWVibgdQ3QRC4bdc3xhdcVZv0i4mwzdlEbHl2AY9G1OOLJNZdpRCoKwQqKiqOFu4j/broTPp1TUHRgeZ5ue07jC0o2lVakZ+TxU0YSVhZWZmfETlB+G5z4YUXEsyRx/k5VgjyFqspqXPq0eQl4rl7i/byo9fDBmR2Fm/+7Dj6Ure8inokwiQ+nlorZlDBZrqHblg/apka5zJHEnrQfP/991OJRHxFRSfHeiSB1ODHmYHhSdu3b581axYOtHDhQnJb4GBtgMw+cuFJ99xzDxwnSbrNkiMWSnzARsy0WfcpU6YgFolPkxHpER25ESUBp4JzU8ck/GPr1q0mQ0kqjYXwIVITMwy+l6LI4DctWrTgMswrb3Us3Lt3L7d9aM7NzSV/Mn6NJZZb+kjHFStWFBQUYAC9QAyPx03hAyy7CCYEH7MxHr5RlEQK9PjcblZ5oQCi5cuX4/qmYceOHbYZ0B+W1q5dS8aGcJSxXMeYLHS9VElqBDYd+3Pt7cdd2Z628XE29jK+FBpJaj+QNAiBmBCoqqrat2/fE+e3Iv0qqawaV1D0UdM2nAXkT9ntO1xVUEwS1rlJ1oZ+eScP/uMfa40+BEcGHyKcDM7vYjURmyMMAddqFY6edu3aEbft0WfJJgo9MmDy5cpOSc4dO3SiKORE69y5M7sSIl1bsGABwtgcumH9qGVqnEF20DPZoLtDNHuJ70J8tEXey0y9ut8MjC8C4O6dP48sCTRgwABuKXmkFTE4EEyHHU1wkGH5kTGiDoclsUcqyBghb0zKsHw0c0tEEuMEGNfVUYLmiRMnGhM+9PLLL8OHvIbBNzKFdEEACpXh3tUlQ9bFlYxCF4jujIvBNFFSZ47UIWRsUl4+9vPBhY6U3OchZuT4mDF9+nSnByPhIG+EKpN3JUMwkD1SNzG6Y5jjO+W0Mi6PGImM0wYHbBkLPZQ2Iq3U4dMKn5I6HCQAsQEAABAASURBVOo00R0l1OGYPMohmmBiiRudR5EQwFvwGXMPQwMPwWGMqMOktEc8Cr+CIxICDYxAZmYm+dZP957k4+P4guI9TdvwYmA28Akos10+SdgHZZWrD5aVZzfJzs62Jm8Z6uq04tteryZCmqtTejcFkkbEW3IR+0uLCLB3UMumIAjThAwa0EkFogkBxKgjw0CoNTImpT0S/0eOHGkdYdKLvvTyEhz4Jk+FR2ullzEpqcNEA3XIqxYDnJHIQE4MSeooRC0VmiCmgzy9uKzhuxB3HzBTm/xmYKmNQpTZ8ebBfR4JPr4SRUxNQiAdEKiuqK4u80Wn/6pYOiBSN3OUlgRFIC8v78+VTS5449D7TVq59MtsJQnLaHv2Z7ceuftgJRc2/v9epHWPqeSDCR9A/HyLiEltwgpz2cY1m8vMEtbO2humDCwahnwQ4bKUW+J0cIVoQKhNCJxBoGxF5eErSv1QZcGZDiqEQJIj0LZt22Znd/D+u9ZuQrm5uU3bd6jv9IvhuBbiNit9jiHu1SAmnvKU+hkYvsvFJtebcawlTsBlKXe8cfSNqQvmYSSmxtQrRYQ1jSRBoE2bNufG8sMlQZLMTGYKgWgI5ObmRmrGyev19ivSuOKnBgKpn4GlxjppFkJACAgBISAEhEBdItDYupSBNfYKaHwhIASEgBAQAkIg/RBQBpZ+a64ZCwEhIAQCAWEgBIRA4yKgDKxx8dfoQkAICAEhIASEQDoioAwsHVddcw4EhIEQEAJCQAgIgcZEQBlYY6KvsYWAEBACQkAICIF0QuAfc1UG9g8sVBMCQkAICAEhIASEQMMgoAysYXDWKEJACAgBIRAICAMhIAQ+QUAZ2CdI6E8hIASEgBAQAkJACDQUAsrAGgppjSMEAgFhIASEgBAQAkLAEFAGZjioFAJCQAgIASEgBIRAwyHQkBlYw81KIwkBISAEhIAQEAJCIJERUAaWyKsj24SAEBACQqD2CEiDEEhEBHxlYM31IwSEgBAQAkJACAiBNEOgXhM3XxnYCf0IASGQvAjIciEgBISAEIgLgcbPwOrVAikXAkJACAgBISAEhEC6IeDrDiypQZHxQkAICAEhIASEgBBINASUgSXaisgeISAEhIAQSAUENAchEB0BZWDR8VGrEBACQkAICAEhIATqHgFlYHWPqTQKASEQCAgDISAEhIAQiIaAMrBo6KhNCAgBISAEhIAQEAL1gYAysPpANRCQViEgBISAEBACQkAIREZAGVhkbNQiBISAEBACQiC5EJC1yYOAMrDkWStZKgSEgBAQAkJACKQKAsrAUmUlNQ8hIAQCAWEgBISAEEgWBJSBJctKyU4hIASEgBAQAkIgdRBQBpY6axkIaC5CQAgIASEgBIRAciCgDCw51klWCgEhIASEgBBIVARkVzwIKAOLBzX1EQJpiEBJScm+WH7Ky8vTECVNOfUQqKqqijSpKE2RuogvBBwCysAcFKoIASEQDYHKysqMKyuaPpjhhyrOKa+uro6mLpXaNJfURaC0tPTDDz88depU6BTZEXv37i0qKgptEkcI+EFAGZgflCQjBITAaQQy22dm983yQxnNTsvrPyGQ1AiQfjU/emhjv9aBw4VBd7qkX0f273v8n5pfFDhZXFyc1NOU8Y2FgK8M7LkzP14TYaxcudLLadz6+PHj33jjjTlz5jSKGUDxyiuvDBs2LL7RAXPXrl2UkbovWrQoVH+NU8aqKDqDxqpRm5NnmhiDweg3Zm1KLKwTPbWxQX3rCoGMQMbZ2fmRtJnneJfbOLh3pC5R+Hjs1q1bI/XFr6Ao3V0TGvBnLHGc2lQIQVhFWRsl6psgCHCJe+DAgYd7trq4Zc6z/fKyj/wjCSP9Olq47/GeLUblNVl+fuuKY8VB+ZlNAb/Cu3AJ3NU4lLgHp5WXA1OUngj4ysCWLVvWrl07/MYwotKkSZOlS5fao8opU6YMHz5806ZNcUDBAdCyZcvJkyePHj06ju4N32XmzJklJSXnnXces67v0QlShCr8rb4Hkv46QeAnPR587oI/tc5qE1YbG2T16tV9+vRhWU1g3Lhx+NK8efPsMaZyxowZW7ZsidSX3QTFpLBOhO+9994NGzZMmjSJo7dOFEpJIyKQkZGRn59/47tHPzxVeW5u1rP92uQcOUCmVVVVdaxw/5rzW4xonVNaWf2Vd4pz2nwmJycnrKnIw58wYQKlqM4RSHaFvjKwdevWbd++fcyYMcyWyEJ8efXVV4mnPIpqiUCXLl04hJIIzPbt2x88eLCWs1b31EPgx91/cv3Z/7rm4JNHKyN+kSFBOXTokJ1G5GGjRo3auHFjHFCQlPNOuHbt2jj61neXzZs384I6dOjQ+h5I+hsAgdzc3IrP5I/eVvS3ssqOOVnP92/TrOjAicJ9T/dqMaRlzrGKqmsKit7Nad2qVatIxpCZ7dixY+DAgThtJBnx0xYBXxkY6BDsCHn4EK+tPK5fv56S+xu+Rhm5O39kuLcgvCIA8dHBNfFoREfuZtesWRPUl1aajInXogoOhDYuco2PQjgQuSBKjHnTTTfBCSITeOihh6wvZhiHLl7l9EInTAhJxoLjJL1MbGPEULONTxcIATeidxTUohxtMBEwiDBp+PDhPXv2hI8SzIDD6JCpgkm9RkIMDUYo8crzaHynmVbHxCQMg+OlSK1mEtZiM7Ow1XHCjELd9GAPOLzwwgswqRvTlYjBh5DhrDK+KYcJmVXop29eXt6sWbOQRABTaUIAMo71VdnoCHyv651TO0x/4KPFP/pgQXRjSLnsGow8jGyMnAx55xKsL6sMh5I6Cw3RCsdLgwcPpi9vhjiJbSVrdY90MYfHbXAVlEAoRK1Jhi3p4mTwPbpA5uqmB6Z1tEdG4ZFeiEEMBB+rsA0LaapnkvqGQOB0jGqbP2pb0TsnK9pnZ27s14b0659bZB+tqLq6oOhvzfL4iBHdjvfee4/7Wm4ucI9QSbwI5zGiHiogTgoj4DcDI6xwDUb6NWLEiBdffJE7G4IR4WzJkiV8kOIjGl4Yk/d06NChrKyMvmjo1q0b2kCZcuzYsXPnzoXPiOayjLJw4ULu9mHSRPgmzuLKixcvxmthQmySFi1aoCGUeBmdP38+HTt16rRixQq+gyC/e/duu9JDHrPhMAVK9glfN2DSq6CgAA587qg4LWBCYc2G7yX6MiJ9GSV0ClOnTu3Xrx8vRnThQwlRe+fOnQhH+p6CWI3Uo0cPJoiSVatW8bIFYtaFbIkKfGbhFijsfBEzAlsQNm2PPPKIMa1k0cm9sBabe/XqxdmJKoYzYUrqrKAJAxQXpQwdNC+6wMQeShypa9euJg9oQYCjn75FRUV4COMy+iWXXOLcgOngjdZXZcMjcFmrEW7Q2Z1v+3rnOXP/OqvG9IsuLCsJCq9MuBnZGByvS7gNyDakjpPgKuRAiHnJXcTiY6dOncIxrJVNTZgidNgjZahfwQxLJFI41S233EJ33DgoENGFaDNo0CAqEGqJObyXIkkvjMTUZ599liaIS2IspCJKDQRY65yzO15ZULztxMdtszP7N88+8nHVmG1F+1u0bd68uZ852i/tzJw5M0gY5ydsEjzxH0rqeFSQjB5TGAG/GRgQ4EOWN9gFGMHotddeI57SxOnIaYoPkRjx6If279+PQiTRQKbCxzjq6CTsEgGpMwpf0Il0hFdyIB5h0kSE5f0SPruCCAgTWrZs2fHjx6mEEmc2vaC9e/cyEMMh89ZbbxE3sRbCbIxnCvBRCJ8MBrHp06fDgU/kdfE0rNmIeclGhMMBg5HkIt4poJAskKkhUFdEnscE0cYXEDST0VKHyJbst7UYlDky069+9auU1OEg4OZL3RGrbBruu+8+U+uavBWDzk0WSdaOFTQZgLIls0crrYsbnQQLC60pEuDWaiXyEHXG2rt3r/kMj6IGRuDzeVeu7bfhxvybGfebXb717a7zb3n3xpUHVvDoh9it3bt3Jw9j0YNcwuuQtulw1LvuuitU7Z49e2DSyvY0r2Pbck/PlRh8RwwRdiM7Aatw+LHxKVEIB4U4M25GHTdmTxFwsA39vKLAJARhvwnQkT0OEzutO7bBZGowRSmDQEZGRuUn/75KVSAAwfE5OxyDsM9bB17quuAhRONIIdSJqZLCCMSQgeFDZELEOyq4DiGGQOOgKSwstGzDcWKtmE5uOxgCeuyxx7ggyc/P56AlwPEIE0KA0Ayfd1+Oef+j8GIKBcmjmYlce+21aIa4V2vbtq3lH7wTw4EYMahXrI9MAejALdaOPuU5FbgnwFTsj3QXyAJxkHzmM5+JNF8bixNr+fLl3ECgLfrbGNCx4qi1jpT4A8pZR+phKbSLV6xGwNHM9RuGQXa95+2ueoMh8HzRs4/s//nd5923qu8zd5zz3Zk7v/rM4XX+R2fbsh14C6ILLoHPhG5ArodpZaFZcdadeiQiMUIDBxvvOWRFOHCQZI1+hQ3c6d5zzz22QxkOhex6RoeIPBaIyLfQT+6FADua9ysG4pWAE5R9xwZkG8IRpR4CH3/8cUnh/tW9Wg1skV1cUfX2yYp22Zm/7ZfX8uih0tJSn/PFM/EfQquTx/FiDaGuryqNiUDdjR1DBuYdlFBFDCUMeZlwiK1eTkx108l3NF4LHBHgONe5KXEcKkRnDn58Fw+2IciZuLmxekwlBh8+fJjvXKg1IhazVYjapGvG4QyISWdYYWI6gduaSB/js9a6B5XEfS66AApreYmPdBdogx45ciTsfL06mT4goIoPMVGSMKAjCUatty8+wDp6Od56UBcAARYTqBFwhDnnuD9jmhAuYR1VNgoC33n/tl8WPjqi9UjSr7WHVsVtAy4RySHZ5iw0ORDrzuoHDeGCD4kRXkf6xcWVZXVeyRr9CmFsIH9auHAhaRyPODAKQwMRTejHpCuuuII6H0ApIdt6XOxNmzaNzQgHQgN6qIiSHQFLv9b2bjW4ZfbRiqqx24qufrv43ZMVfI78Tb82TYoP+k/CcJJOnTpdeumlhgmOF2sItY4qUwaBODMw5k8wGjJkiEUc4iMfwkiVCDp86SO9ICAiQysyVHwSOjn1LQ66Lps3b8Zrg1IBG8X9etaYMWMY1HXxX8FgzMZ4puB6USczgA+HOjGXSm2ILyNcrdnvLaFwxIh//A6NVy0jMlOb/syZM11+6ZUJrZMDsY3ZzDQBu/cOjMSUJYCPToAlfXn44YcZJWi+CDgCZ4hHFHKKUIlEQMfpiFqUI0NJnRWkHonogk6mDwjIAIjNkccaAUeSnJvMm46MBVBURI2IwG27vjG+4KrapF8Yj0uEOiT+sGbNGkoEaKUMIt6OuAh3TLwOp8KFiBWOSQUNME0D9SgbmSSPz44uCUMhzoybocRL9kWSGzvSLyyn6aGHHrItRkTijhkORC6IhVRSktJqUhUVFUcL95F+XXQm/bqmoOhA87zc9h3GFhTtKq3Iz8niJowkrKyszA8svC2zHfelAAAQAElEQVRwY3rhhRfaaYULxRpC/YwimSRCIP4MjDc//GnWrFn4EBf1lNzEMHOYOBlBCg4n/datW2H6JHQSB4mG9IW4fCJuopDvYkRDOBBvq4Q8mPPnzx84cCAc6IMPPjge4ffAahwas0kLbAqo4qWZjUGyYlNYsWKFC6w1qookwK0SBjuFBQUFYXUy/b1799r0c3NzyYEiKfTyORV4NPs5h7w47Nu3jyVgUugEWPQjGTpfmI5IcQxqU2hdXGtQBVWoRbkNwbpHl6c7FxsObQ4qu8qKBDigbd++HR/DE0DD6ozFSYkStIkaF4FNx/5cewPwIlbT/I3FtQ1I5mQcMiH3fdCNxStNu3btcFTjkHghT18cxjhWRvIraw0qMcN2H28guLFzbNTifgQi5FFo+Rwj8ghxgYd/IsMu+N3vfsdOR5JXBSykVZTUCFRVVRFCnzi/FelXSWXVuIKij5q24RWX/Cm7fYerCopJwjo3ydrQL+/kwX/8Y63Rp4xrWdAzMbzOeRou5CeEWkeVqYFAbBkYxyce42aOM/FaaRSWP3z48IkTJ9LLdbEKHWkinNkjAq47FVNI6WSIa3wXgwNR4ZGORNsBAwbAgaZPnz548GDj02SEfjQwlj2iGbI6TJoQsEcMQIkRdZgI2CPDjRw50jGDeplChI2PQio8ogHCHqzCTuownUKitru1QoMpRwaibmLg5lTRlzrKEXCEWpQzBHxarRcVYyKGZiyHY008wjRyo9BEHabThkKmDB/ydkHGCHkvnzqSRthpMlQYF8PsMahEg8lTgdCAAF2MyeiYDR8mRCt802Z1Hll3ODwi0LCk0eoAARyD5WPFnS6Wm2U1og6f0h5Za5wTjpfw0kOf/Lti8BFAzOsP1NFAE6OYniC/oskIAYzBJB7pgjAc6migbuQE4EMkaoxIBULYZCipw+FmlxOaSzLqoqRGIDMzk3zrp3tP8vFxfEHxnqZtSPRtRiTZme3yScI+KKtcfbCsPLtJdna2NXlL/ArnMcdwfNwMd3Uu5PW0IEnXRZVURSC2DCxVUWjIefHizms9L81szoYcV2MJgdojUF1RXV3mi07/VbHajxdZw7Jly7gC574qskjdt3D7zqD2O/hhtSPA7l69erV2d1h8ko6Zl5f358omF7xx6P0mrVz6ZbMgCctoe/Zntx65+2Blfn6+/78Xad1VCgEQiCUDQ1wUFwJkXXyNJeuCuGrm2pn3nrg0qZMQaEwEylZUHr6i1A9VFtSvnVwhcJHQYHcGfFvkWyQfHPlOxA1cpLnRhFWUkQTETzoE2rZt2+zsDmH/1fvc3Nym7Tso/Uq6NU0cg5WBNcRa2GnBdwojpV8NAbrGqGsE2rRpc24sP1wS1LUJjaaPOy0+J7F/Gyzna7SpJubAjWpVbm5upPFxct1+RQJH/BoRUAZWI0QSEAJCQAgIASEgBIRAHSOgDKyOAZU6IVDnCEihEBACQkAIpB4CysBSb001IyEgBISAEBACQiDREUj8DCzREZR9QkAICAEhIASEgBCIFQFlYLEiJnkhIASEgBBIBwQ0RyFQvwgoA6tffKVdCAgBISAEhIAQEAKhCCgDC8VEHCEgBAIBYSAEhIAQEAL1iYAysPpEV7qFgBAQAkJACAgBIRAOAWVg4VAJBMQVAkJACAgBISAEhED9IaAMrP6wlWYhIASEgBAQArEhIOn0QUAZWPqstWYqBISAEBACQkAIJAoCysASZSVkhxAQAoGAMBACQkAIpAsCysDSZaU1TyEgBISAEBACQiBxEPCVgTXXT8MgoFGEgBAQAkJACAiBhEGgXtM1XxnYCf0IASEgBISAEBACqYqA5hUBgcbPwOrVAikXAkJACAgBISAEhEC6IeDrDizdQNF8hYAQSCsENFkhIASEQMMjoAys4THXiEJACAgBISAEhEC6I6AMLN09IBAQAkJACAgBISAEhEBDI6AMrKER13hCQAgIASEgBIRAIJDuGCgDS3cP0PyFgBAQAkJACAiBhkdAGVjDY64RhYAQEAKBgDAQAkIgvRFQBpbe66/ZCwEhIASEgBAQAo2BgDKwxkBdYwYCwkAICAEhIASEQDojoAwsnVdfcxcCQkAICAEhkF4IJM5slYElzlrIEiEgBISAEBACQiBdEFAGli4rrXkKASEgBAIBYSAEhECiIKAMLFFWQnYIASEgBISAEBAC6YOAMrD0WWvNNBAQBnWBQFVVVSQ11Wd+IrWKLwSSCIHDhw/vi+UniaYmUxMEAWVgCbIQMkMIJAcCFRUVe/bsOXbsWKi5ZF8HDhwoLCykEtoqjhBILgTKy8uzZ1c3fTCjZnogo6ysLLlmJ2sbGoFw4ykDC4eKeEJACIRDgPSreP/eNb1a9vr4WElJSZAI6dfXP5NxR/ssJWFByOgxSRHI6paZ3TerZuqflaQTlNmNi0Cm/+HHjx+/devWXZ/8rFy50mdfJJ977jmfwmkiBiDAEsdkWYU33nhjzpw5VFiORYsWxaGkcbskr+WNi1sijH7o0KFbOzb9f22aPN03r/+nkzDSrzvaZ36na4s5XZr/81kVYS/Jhg0b9sorr+C3+ICbDs6MS3s5rqnGCr3QFnYXxLHFzLyw2mq0RALREUjJ1tZZbXIzcyNNzdzJG+eNIweLhFga8v1mYERJ/GbLli3nnfmZPHkyfxJMcanERM0bfwnThHimkJimxmfVunXrBgwYMG/evJi6Ew5AJqYudS4cn+W1MYMpM/E4NKSk58SBg+vSvn37n+wr+1PxqZzMjNV92gyqOHb8+HFaSb8W5mfe2rk59W+/X7KlMrtVq1bUQ4kvOzAnTJhA6Z/YvGxhliOoS8P7UpABekxbBFpltX66/7OP9no8EgKbNm1avXp1nz59nN+OGzeOm+NYg3Yk/eKnAAK+MjDSrEmTJr322mtTpkyxOeNbc+fOpY5LUYqEgBCIjEDqtGRlZbXt2Om69078ruhUdmbGE33aXFx5bP++fT/ukHVzh2bV1dVzdx37ZUlmfn5+RkZG2Gnn5OTs2LFj4MCBJFVhBcQUAomPQNPMpk/2XderWZ+H9y2LYu29997LtbG9b5CHjRo1auPGjVHk1ZRuCPjKwIYOHdqkSZO1a9d60SEJ44PkoEGDYHI9xn3YCy+8AIe6cahDfCPwvg3jhXDgQ3YtQXpH3zVr1hCXqfBIdyOEefF96KGHaDJ5ONadkrqJoYdWI0ZHA3p69uw5fPhwOv7qV7+CmZeXN2vWLPi00st1cXrQxliYgR6uTHikiTqEMF2CCCZNRtStlYEYwouD8a1EzOSRAU/HZDirYxtNKOGRkvr999/vutAK3xGPCCBmHM4zJmvCDAST0h4pTYyBwARkHCfsNF1HEEAAVV5yrU6JWQJ0GIBJPNKLvghAyHu7U0cAMTOJkjp9kaQ7s4BDHcJahCE4yISFwjsQI/KIPKVbypdeeom+TJmJm34bHf2Q62JDmBnwbWgzJshz0J/mRBLWvmOnG3edfOpQ2VkZGSt7tf5Vj6ZT8psCy9f/emzVibO4J6Mehd577z1u03mpYy1CxXAYlsCIOgKsDpuXhVi8eLEtDUwjNLC+CNgj8tYRpttiNCFgfPMBOJBj0kRHOCIh4AeBJhlNnujzVP/mF0x957o/FD8fvQspl12DkYeRjZGTIY+/4XWQC0FELepwIFqREaUDAr4yMN5oT506tX///iBE9uzZ07JlS4Ig/A4dOrz66qt8muSKldA2duxYLsl4XL58ea9evRCAcLKFCxdu2LABPq34JYccfKhTp05Tp07lmCSx49ERb8z9+vWjacmSJUOGDKH7/Pnz+QbKXS4OjRij5+bmwkEnYXfEiBEw0bNz504eGfrLX/4yJhUVFaEBPvrxb4StCyfBjBkz6AIxFtOhafTo0TBpoo4YUZtWL6GBl3imgAAldaZsAl4cjGMlXRBGG+WLL77YtWtX40cpUdW7d2/kIea7YMGCSMLAOG3atGXLliGJPYcPHw6FBQ7zAhOQQQxMwi4HqlgXlCDzyCOPBI2IkiC04ZiMW0HMZpnCrrJJBpXIl5WVMRyXrBy05PTUWSwUYowJIxMKhdlvy0QXKrfffrvZ45by8ssvZ9GZMhPHGQh/vE4UFBQgz1qAqnkRozCEmcHQ3bp1Y0ERBiWv5yAmAoHMzMz2HTp+7W9lqw6WZmRkjGidU1VdPXVH8a/Lctq1a4dAjbR06VJkZs6cSekltgm7ydyPkjoLwSqwKCwEHHzYK++t09eWldK7xdDgwhFfLV3m16NHDxQivGrVKgbCnbzaVBcCDoFmmc0HNj991wAnK5C1ovcTfZv3/+K2Mc8XPQsnOhFGSLxuuukm4irZGMJeRyVqcdbApKSONxKXQk8cBEQpiUBmXc2K/Gz9+vWmjUMUZyLY8Yj/cbJSgS655BLOPBOjdfv27YMHD4YPETHJjagEUXl5OZ/SaSK9I7EwtTzyomCv2tQnTpxISUduPnjx5SilHok4ofFyNxwXe2RdFnwZy3aI9XX677rrLuNYaRrIMJgCHEqsYsrUIS8OPBpZFzcoJwo5gTVFKVHlsi4M42wzO0O7jBkzBhuAmibsmT17NoDUCEuk5SB9IQVB1X333Yc2Ko6iqHWzi6TWKQmqME07j1m+EydOMFMEWG5chdSfOoRMKBQ2kPVFhqVk9UmwqActJRxHoDR9+nQemYvzIh4ZwlQhsHv37i5dusAURUeg/JN/F6w6EICiC3tbAZ99zZnkdWnbJpF2lrd7aN36Oif0bjH2JrvDPJngg2+Yk5CKGXPz5s0wzedDNYuTxAjUkel3nPPdp/ptGNRiMLdfj/Z+/MIWF31h66g3j7/uUz3vxt27dycPI7YEOSpRyx1AkU4cn6NILBkR8JWBFRYWcraFZjacUhyTBFPvzPEwXIrrMS/T6sij5LHHHuPkg7icMJ+z1uglozBWWLWLFi1CG8QNCtlDdD0YgHnXXnst8hDfNdq2bRsafO1VGwHuTpiRVycaQANMHBOr0Bkk5lqphHaBGRORE3ANGbYL4zI6NgS11ghL2OUgRixfvpwXMuaOhiCdPMKkCYqEdli1dKyRmCNLTBldEgGDgoGQxzFMnhQKvkvajBm25EsW9kN4YFgBMaMjUF1dDdr/0TmHj4/UXz5anpWR8ej5rS8/6xQ3VdH7ulY8jTMJT3Oc0G2CV+PbeLiTiVQJ7WuS9EUDC81yQwQfrp/NSbhh5bIBJkGgRYsWJq9SCIQicPeHP3qndPuqvuuf6f/8xS2HfrFgzLul74SKReKwWYhUb731FgI4Kg4ZegBFOXHoJUpVBHxlYFxIcLZx5eBFgdDGZZJ5lZfPiYi3cTo6pkuziKfc/dDLkbmdk4yjQkLAl0dubtHJpwreZaMrYTNwl4Yk8kb2cSq0F7YhYAGayToBNICGBXHHZMpM3D0GVYK6oI1NGCQT/ZEckbQvrAzjMroXcMT8wBJpOTgawYQPNHy7QQ/aqhuFJwAAEABJREFUHPFYI9qR1Doltaw4KBgIGAHTKWT1vZmx43srpF8HDx5kZSHSa29TitXraTqkXPgz6de0M796/287j43bfnT9obLMjIxf9Gp9UeBkcXGxz6G5G+Bb86WXXmryqI11Z1lHyqC+eAW+Ad92B98ZWW5H3JCRfk2ZMoUKTFzd/kYn8iIhEIrAyaoTkwqueb9s13lNe4wvuHL7ybdDZXxycNRIB1CkE8enZoklIwK+MjCiGJ8M+F7AAWyTJMDx4sjBTwgzjrfkhBs4cCDyMOfMmcORSQXitp+A65TAqT2ReWAGFqKKb5o13oEhycnNBwimQJewRNOaNWsoaUWY0ktoIC0jO7EJUlIPzUSDumAkuYvpHDduHG9CJoB+MEEJjzNnznR8HqkjSYVeGMxHW/toAieIGH3IkCFADR9V999/vx9Ywi4HqwOhh0iBzVS8FLdar5I46mGhwH5OWUAzhVRYfd4W7DFsCZJ0AXNaqXP6UhH5R8DSrx91yra/+Tjrr8d+W3ZW53PO+bf3T/72yOlfzH+8d5vB1SfC/mNgoaPgz3xzvPDCC1k4WuPYWfQyoi/uGnaLsTvYoewLk7SSNyiyPZycR94tdQcGDqIoCJCETSy4ety2MbVJv9CPoxJ/iOfEHx6NqEc5cUxGZUoi4CsDY+bci5BsEchIPiAu8ynJ2WkKJV4ut2zZQoqGDK62detWkyHg8oWLUAgf4hOAJQ3WGl/Jd3QyGLRB5Afl5eVn9AQ2btxIUmJDMC7pC1/NuPPA1zGPYG1ToBeXItbFlWwSzmkTYMr33HMPHNdKBQ1ugkyTUwRw4EchsHKDDho0iLtAE6bj3r17UYIlubm5diRYE/WhQ4fCxxL6MqjxQ0uUMEcmiDCqSktLI8Hi+KRZdAldDu6QbIEYFG1o9g7nutPkRdsrE1atVyCOelgoGGj+/Pnk+hgDkU5xmRG0UjaWcwbwfPHFF+0TwIoVK5y3mFhoyRBezwkVSDfOgQMHvtY2k/SLic/dVfL0ybO44c7MzDy7Y8ebd538zeGynMyMJ3q36X7qGB6LTI2Eg7m9gDBOHnZnEX/4ZIlvh+5WehlF2WJOJ35iQWD9mV9aNScnb9MdmGGoMgoCxyqPvn1yWxQBn004ObvDfA+HxKWJWtFPHJ+aJZZ0CPjNwJgYp9GAAQM454xwI5hGhNHhw4fjRvZISauJwZ84cSLBESZEJOULlzVR4ZFeyKCB1iBiRK61kDE+SpwY+nmEj4yzauTIkcjDgU8v9ENUeESeQRmI4XikL49G1OHQi74mzCNMa0U5TXCCyBSajLOKihsiSJ5Hp5MKhAaYEHXTA1B0RwlMo29/+9vWhIxxMMbsZCJeYXqZJCV1xLCcOuSFxfGRQSHzBSJkICo8QlR4hJyFSBq57rQ6tUGWIOlVgjYeYTryymMGs4BDK8qpU1KHQ51W6kahUMBH2E0TeXoZ0yCiboQBmAFRQSfGQzwyBQMWputOF5hu7lQQ9rYikLbUqlWr9UfKC8sr5+469qvjmaRfBsXpf6KiQ8fp75/8fdGpTSUfv1Ne3bTp6X+fwlpdyQKBJGg7DhXQZhFZSuqQAQ7mkFcSMTiUyDgKUkgrMhAVCFUmSQWmEQbQC6LiOOYwxvQOat1VCoFYEAiWDfUrnNN8j5I6HSipQ969AF+U2gjEkIGlNhCanRAQAjUiQF51onW7S/73yJMlmWeffbZX3pKwf33v+PXvHsvL73jWWWd5W1UXAkmJQHl1dVnNVHUipr8KnJRIyOj6QEAZWH2gKp1CIGURIAlr2j4/KP2y2ZKEte3QsY3SL4NDZZIjwOf1Y3PKD19RWiMdGV2K8yf5dGV+IyCgDKwRQPczJJ9C+ErC9bUf4dSWERSJtr65uRH/b8RcfWVnZyeawbJHCMSBQH5+/rm+f7r6+Ee247BBXVIbAWVgdbm+0iUEhIAQEAJCQAgIAT8IKAPzg5JkhIAQEAJCQAgkLgKyLBkRUAaWjKsmm4WAEBACQkAICIHkRkAZWHKvn6wXAkIgEBAGQkAICIHkQ0AZWPKtmSwWAkJACAgBISAEkh0BZWDJvoKBgGYgBISAEBACQkAIJBsCysCSbcVkrxAQAkJACAiBREBANtQOAWVgtcNPvYWAEBACQkAICAEhEDsCysBix0w9hIAQEAKBgDAQAkJACNQGAWVgtUFPfYWAEBACQkAICAEhEA8CysDiQU19AgFhIASEgBAQAkJACMSPgDKw+LFTTyEgBISAEBACQqBhEUid0ZSBpc5aaiZCQAgIASEgBIRAsiDgKwNrrh8hIASEgBBIBARkgxAQAg2IQL0mc74ysBP6EQJCQAgIASEgBIRAmiHQ+BlYvVog5ULAPwKSFAJCQAgIASGQGgj4ugNLjalqFkJACAgBISAEhIAQiAOB+uiiDKw+UJVOISAEhIAQEAJCQAhEQ0AZWDR01CYEhIAQEAKBgDAQAkKg7hFQBlb3mEqjEBACQkAICAEhIASiI6AMLDo+ahUCgYAwEAJCQAgIASFQ1wgoA6trRKVPCAgBISAEhIAQEAI1IVBzBlaTBrULASEgBISAEBACQkAIxIaAMrDY8JK0EBACQkAINAwCGkUIpDYCysBSe301OyEgBISAEBACQiAREVAGloirIpuEQCAgDISAEBACQiCVEVAGlsqrq7kJASEgBISAEBACiYlAomZgiYmWrBICQkAICAEhIASEQF0goAysLlCUDiGQxghUV1en8ew19ZRD4JMJHT58eF8sP5/0059CwC8CysD8IiU5ISAEQhGorKw8cOBAKF8cIZDsCJSXl2fPrm76YEbN9EBGWVlZss9X9jc8AsrAGh5zjSgEEheBWC0rLi6uqjyp4ydW3CSfFAhkdcvM7ptVM/XPSorpyMhEQyDTj0HPnfnxSsJYuXKll5MC9WHDhr3yyiuLFi1KxrnMmTNn69atlA1j/Pjx4xkuSbFqGIjSYRQuwDIzSp5YGigqKvIzX9tiuz75YbvB8dMxkozXD/HGsAqReeONN3xuDcIawS3ScI3Cx3L2GmXQ6DHNy/WNr5frrooXgdZZbXIzc70cbx3fxiHxKMc0Do7qOKqkOQK+MrBly5a1a9fOhQAqTZo0Wbp0aYJgR8T0ermzCjuJvEQcx6mpksTt995774ABAyiZQwNMfN26dQw3b948hhOlLQLFxcV3/Hv11aMClwwqO3nypE8cVq1add6Zn5KSksWLF3Ms+ewYKtbofkh4Iciw40Jti5WDElShMKgjm5q9RhnE12PjItAqq/XT/Z99tNfjkczYtGnT6tWr+/Tp49Z03Lhx+LzCZiTE0pDvKwMjzG3fvn3MmDEARLicNGnSq6++invxKBICQiA9EaioqGieW/KNm07Pfv6tfq/BTkt/8h+vdlQ7dOhAKRICSYRA08ymT/Zd16tZn4f3LYtiNnnzoUOHJkyYgAx52KhRozZu3Eg9HImXjgj4ysAAZu3atXYNRhbP4/r16ym5Tf3ke8IuLqLgQEFvctxOuSZaIa8ATskFO3rgk9txZ0vdKqaZVmRopeQF8aGHHtqxYwdNxjfJnj17Dh8+HD6akTRCz6xZs/Ly8njJNgNMmL5QkLB1CSrRgKSRaTCBsHwzjyYMo0sk/YiZADJUeEQnykGJipF7pBUZJCETsCmsWbMG/WDFo3WhRBh8QAAbokwc5QhDKKQOoZxR6A6HOkQFAQhtDAQHQi0cRwyNAcakpI5ViEHodGKuElYVAyEPmQEmjDY4EMxnnnnGtNGd2WGkydDR+DzCRBJ5CD4csw1XMT5ToDt8IzoiCdFKX5j04hFyHJiiGhHgy+Pt/16de+YjzGeHBoYNLvd/DWbKu3Xrxm06dVsylgDyrhcLxyNMCMdAMohjHa2JVugrX/kKwhA+SSscL8GBTyuEJ3ibvHXnEk4GjqubEgbFGEqCDDsOtfCdEupwwjqhNWEAxOxQQi/0oARVLl7BNMJLcX4T8/a96aYzya8JBQJYiELI68aOCZ8hPpHVn7VCoElGkyf6PNW/+QVT37nuD8XPR9dFymXXYORhZGPkZMi7dXGLxSpTZ5kgWpERpQMCfjMwuwYj/RoxYsSLL77IBRj7GadZsmQJ3xMmT57csmVLn37D/dmpU6cuueQS8KVs3rz5oEGDqNur8ObNm4cOHVpQUGBqubPFcWmFcnJy+vXrN3XqVIaDP2PGDMwg99q5cyfBrlevXubcSELc9GIbh8TcuXNHjx5N5CK00Qu1ENOZNm0a9iMZliLNLhIfJZg3duzY+fPnR9LPcAsXLtyyZQsCEJXbb78dw9566y0eqaCEOEumS75rwhs2bKCJKbCHaUIA6tSpEyAwcabPYxCFnTi7Gj3gxjIxBetC5mpD7927F3BgIrNq1aqBAwcyOvZw2QlQMDFg//79CEQi1q6srAxJMOdYdUOYfFhVeAvymEQJFKwmwnQEQ4aDuXz5ctYUZhTCTiANixJeZGuxe/duJoIN6LFDFOXQH//4RzhhzYAvio4AF2Atmh6/5frArg8CfUaelv3BnJivwbhW50zCtRYvXhy6N1kyFs7rgaGc0wN7/sMPe/fuzeJCKFywYIGnMUB3/DzsXvCKsS94RAPOyX7BQ3gMSwQcthtBBrcPux9DndBswDb0Q8zOAhF6UIIqnJ94FXY462v205fktUWLFiaJkXAwmNLtJuRzc3ONSYQkdMMxeZUxIdAss/nA5qcPKXplBbJW9H6ib/P+X9w25vmiZ+FEJ5wEJyddJoaTjSEcdrEIgCwcy8d6kZcjJkoHBDL9T3Lp0qUkGcjbBRhp02uvvYZ7wSEVIC3De/zscIQJIl26dKEj5ZtvvkkooSPZGIGJkITO6dOn02qS7du3pw6Vl5fzWR0mxHAER3rB90OEQkaxrx7IMwXGYkTqYSnS7CLxUYJ5JA3YTz2sfoZjUGBEACLNwiQMI+m0CszBgwezXVFiwuiBySNfgWmiDjF3EKDih9CPcsZCmF70ZQrUITJX4j4V8rATJ06YDMYwEbIo+BALRIkB9913H5VIxCFq82Ltdu/ebb2ChI1pqlg4vAVjMAkxhmY1SaewjTCEDExU4WBUolAUlEjLTA9RDwQ4m0lhyW6dD8yePRuzw5oRZUQ1GQLkCnd8LWAXYMYZcUngyv9Xfvz4cXuMUl577bVEAAgZsg1zUbcu+DzbhJWlFfK6DY9QKAemEQvqsi7WneXGqayJ0gbC2ajjeLgf/kY9iNgXU6ZMgWkyeAjuymMcFOqEZkOkyUYfwvqa/UiixNDGPIxkOhgMHwHbTTxOnDiREia3aLYLqItiReCOc777VL8Ng1oM5vbr0d6PX9jioi9sHfXm8dd96mGlunfvTmAnpkVaLFTZScd63XXXXTyK0gGBGDIwPIPISNykghuxyffs2eMwKiws9L/D6UjIIDjic7/97W9RQnAhGpIKUIe4q2AgiDdLHmtP+fn5XLwRoE0VU2AuFgt3+vMAABAASURBVMqN4y0jze7yyy/3OWvT79VJneEYlCbqEMZgUn5+PomCJViMiwwnB61USBoee+wxQIDAAazgx0pM3D5toATi8GMKDOTVw9odPnwYe7xM7OR1nGWiF8vhbYq1HqqKqWEGxqAc4maibdu2l112GUx8w7/+mFACCgD3TjOsGS779G9GukmSo9sFWNDEff42GPes+BVE+oWGoHXBW9gmrCyVIA8M5dA9EvEmwHJ7Wxmoxr3glafO1mCyVOqKsAGrnBMyI5usH/1BfV2XKG68aNEi9hfEJ057f3a9VPGPwN0f/uid0u2r+q5/pv/zF7cc+sWCMe+WvuO/O8vNKtvpFmmxbC+wUtxWBsVn/wNJMukQiCED884tbODAyXA1r1ikOhctpGtXXXUVwYh7Iw7dSy+9FA7xji6c9wcPHiRAQ7gjnNoTmtGP93tVMa730dUjze6ll15ijpwNTpIKnNBZs4VIJmj1EsPBpMkxCe4YxiNvqKi94oorqPOVlhJh3sVBwJFtUZpiIvR/8MEH3Gw7PSRzTNCPEsQQpiPCLApl3BSkCsTI+fjsgnIjPjhy3AImOLhRakw6Y0IJKIJ8IKwZvKc6A1QJiwAXYPPnfOoCzMQG9g2M/VyFXcwYx08Zui70YmUpg9wmLAdmWCKTZrm9TQwU614g6anbxAUbsMpnIPIaTz2oLxM02yK5MekXXx5t77PXiDYoEcWBwMmqE5MKrnm/bNd5TXuML7hy+8m341BiXSItFq1EeIIhSRhvpN5jgqb6I2luXATizMAwmox+yJAhc+bMoY67TJo0iaBJxOTVk7hgHxFoRQaBIOLWhyvZCy+88O23T7sy+QeXtMiQfKCKNAVVPFLHI6nUntBMtse3dlNFbOrUqROJoD2GlpFmF4mPBmY95sxfF6U+c+ZMSr6nUDpiOKZmTTCp0AXDqFv5uc99jomDIRyEsRA7qdeG0MwojBWrEm4o+eZrvUiIrRJfGaqKOTJTfIYl9upkIPstNJg4D2cMFSiSU8WEElB4feD+++/nIAxrBiOKIiHAQd6h3cmbv/L39rzWgZlT/17nD7sGi+n/UxS0Lvg8ns/KhrpNKIcRvcSCjhs3Dg5+hXdxtUyo4dGIgfzsBbwO36MLw40dO9a+7uEnWAUHPruJgajEQdjgdUI3WT+qbBe434sl2jAdOkbaTbzM8EpDKzKDBw82YeqiOBAgCZtYcPW4bWNqk34xLsuBL+GcuCiPRtTXrFlDySOtlKI0QSD+DGzevHlENy63ydntY5n98gTMDRs22Acm/Gzr1q1hoSSVISIQZ2m1yILn4Z0QIc+6r1ixgnCPQHTisx153o4dOyxuOmEuM8jzeJ/g/ga1XLGQAGEtRGCdP38+pjrhoEqk2UXi0x1TiXcoh0gj7rnnHgaF74jhGJQmBCCSS0wyGUqmz5e4tWvXmjzC3A4S8ZGEQmdnYmHLoIljiRsUVQT9sL2CmLyrde7cGXkIU92v1wSJ+XkMqwpvAS7zHIZgjVAFc8uWLSwZHK/zgEZYp4LvHyVABnDnA/gMhjFiqBlYIoqEABdg35sdyIrwb4DbNRiQRuoeyg9aF7c3WZ0gDwzlBGlDYOjQoTgPfoUNLK5XgIE+vRd2hd0L+/btw/dQgh/ijWx5lFDaX1iBn5uby0AwITyQPI8wyG29naAwoxA2eJ3QTZYu3m3LYygxljeAcJ/nrhuZKfNl1pgH2W4imJA18giRjRGgQnWK4x+BY5VH3z65zb98JMnQxcIriEu2fLgEXgonUnfxUwmB2DIwrknxHjd/ohJns1FYPt+wJk6cSC/XxVXoO2DAAGIKHErqTgNNppMvUyNHjrTuyPAaR5BCHkIG5eamMJGEqNDkJfqiihImwnThEWI4FML0kgmg2ZhUkDRyttEUiU/Tyy+/bPJh9SPAoDSZDMYwIkwjhqAJAXukZDpMyoSp8Ig8vTCA1iCioxcfpkxHSsRoQjOPRtad4awVATSDM8qpI2x6eGQs60KFR1od8QjTVFFSh2OtqEW51a2kCYFQVUgak5K6CdOXR4guZZ7/1RqjwITge50K4wEHPkSFRxsOeVMIhxkxLx6tCUkIPTzCZGgejajDEUVCgFOcC7DJ4yO1n+ZzDVZSUhz2GgzAgd0tzWnpM/8Z35YAX420WF4x9PAIUTGFlNTxZNPjlhJtOABuwFDU0W8ClHSB6SXcDw3ooRXi0bWiEA6E+yHg+iIDEw7GOGHqcJwMo2MDoyNgTXSBMMaY8CEbgpK6IwToiwY41OlCR2j69OmOTxO9YBpRh+MVZlIIw4GomDZkRA2AgK24cwZGZIFspSipezmsL2sER5QOCMSWgaUDIukyR81TCMSOwJEjR4IuwPgK+fWpn1LENdh14yq5kvkUVw9CIBkRKK+uLquZqk5UJ+PkZHOjI6AMrNGXQAYIgeRAgCvJ0tLSaXMDZ51bA/1idaC4OPw1WHJMVVYKgUAgMzPz2Jzyw1eU1khHRpdmRfowLyRDERDnEwSUgX2CRO3+5N5Yd/u1gzBMb77v2BV9mDaxGhyB3Nzc7r5/unbtmpGR0eA2akAhUGcI5Ofnn+v7B4evs4GlKG0QUAaWNkutiQoBIZAACMgEISAEhIAhoAzMcFApBISAEBACQkAICIGGQ0AZWMNhrZECAWEgBISAEBACQkAInEZAGdhpFPSfEBACQkAICAEhkLoIJOLMlIEl4qrIJiEgBISAEBACQiC1EVAGltrrq9kJASEgBAIBYSAEhEDiIaAMLPHWRBYJASEgBISAEBACqY6AMrBUX2HNLxAQBkJACAgBISAEEg0BZWCJtiKyRwgIASEgBISAEEgFBKLPQRlYdHzUKgSEgBAQAkJACAiBukdAGVjdYyqNQkAICAEhEAgIAyEgBKIhoAwsGjpqEwJCQAgIASEgBIRAfSCgDKw+UJVOIRAICAMhIASEgBAQApER8JWBNdePEBACQkAICAEhIATSDIHI6VMdtPjKwE7E/qMeQkAICAEhIASEgBBIagTqIM+KrMJXBha5u1qEgBAQAkJACCQQAjJFCCQLAsrAkmWlZKcQEAJCQAgIASGQOggoA0udtdRMhEAgIAyEgBAQAkIgORBQBpYc6yQrhYAQEAJCQAgIgVRCILUysFRaGc1FCAgBISAEhIAQSF0ElIGl7tpqZkJACAgBIdAwCGgUIRA7AsrAYsdMPYSAEBACQkAICAEhUDsElIHVDj/1FgJCIBAQBkJACAgBIRArAsrAYkVM8kJACAgBISAEhIAQqC0CysBqi2AgIA1CQAgIASEgBISAEIgNAWVgseElaSEgBISAEBACiYGArEhuBJSBJff6yXohIASEgBAQAkIgGRFQBpaMqyabhYAQCASEgRAQAkIgmRFQBpbMqyfbhUADIlBSUrIvlp/y8vIGtE5DCYE6RuDw4cOx+Pu+Oh5e6tIAAWVgybrIslsINDAClZWVGVdWNH0www9VnFNeXV3dwBZqOCFQhwjwCpE9u9qPtzd9IKOsrKwOh5aqNEFAGViaLLSmKQTqAIHM9pnZfbP8UEazOhhOKoRA4yKQ1c2fw/fPalw7G3h0DVdXCGT6UfTcmR+vJIyVK1d6OYlcx1QMrlcL0Q/V6xAoZwiISsPTnDlz3njjjfHjx8c39KJFi7Zu3Up3Krs8Pzz6VIjkK6+8MmzYMJ/yfsSwB6vMnFDljGhNrkSYLlE006VGmSjdk70pI5BxdnZ+pFmwdoDMZnQCxgE0x/FfYSGAOrQv+m2P4LEIUPrXmZ6SQOR/a4MtlJ5Ahc66dVab3MzcUL5xzL1xSHukNE6o09IkSk8EfGVgy5Yta9euHRvVMKLSpEmTpUuX2mP6lAR9QhXTD53y6DM/ofxacoJGPDPI6FrqbPjuzGLUqFHLly9ft24do+/fv3/y5MnnnXfekiVLaIoSj4j13vhF37qlSy65ZMOGDViCPWieOXMmpaN58+bR5Gjnzp1btmyxKTiZoApdkJkxY0YQP00ef9Ljwecu+BPHUtj5btq0afXq1X369GHRTWDcuHElJSWAZo8xlYAM1FH63nvvvQMGDKCMpDZe74qkLy34CxYsaNmyZZQ9mxYonJlkq6zWT/d/9tFej595ClPUrcOHGUCs5EfAVwbGqbN9+/YxY8YwX7L4SZMmvfrqq7gXjyIhUCMCEyZMOHToUOhZCOe1117r0qVLjRrqSYDzG0I5zsxFV/v27amHJdJuXkLWrl3rbYX5wgsvsCO8THJ0JF2S4W1K7fqPu//k+rP/dc3BJ49WFkeaKSuOJ+APCAARefnGjRupx0ogD8hByxGrEsnHgYDtlEGDBsXRN5W6NM1s+mTfdb2a9Xl437Io86orh48yhJqSGgFfGRgzJNgR8gh8vLbyuH79ekrehDi3jHihhAMhwyFEeKUOcYfhmnh0hNiOHTusLzLwvdqMw9nGZ4s1a9YgSYVHiIr1Cqs2VAmajdAZ2tEr7xRiW+gUYCKcl5c3a9YsbMASU2slyq07MrRic9BYAMI3EWMibL0QNg4TRD9MxBjaur/++usIeEeko41ikk4hFTrCxCpGf+ihh+Cg2amlyUsImwAyVHik1foyNL1QwiN8WpGBLr30UmQCZ/6jCQGYkLMH20hH4NPd5nJGNoAw10hvvfWWPQaVlvSghO6uiceXXnoJVT179hw+fLhX4dy5cxkUQsbJgxIcI8fHeJAECrrTxETguC5BFZq4m4mSDfD6wUsIryJBHUMfeTk5deoUt2uhTSnM+V7XO6d2mP7AR4t/9MGC6NMEZKAGcPIwsjGOKORZfdYIcsuEAHU4EK3IeGnw4MH0dcvhHIAurVq1Mkk04ADOFZ0MCrmODfIuxMxPaEXSNLgSA/ArSloh6taEJHpwe5jUYToZLMEAOJTUEYBohQMhzCPEoAwNBzGsZffBNOdHBj7EDmIUe6REAHIdEfCSE0DG2elVbkw4zirv1vbynbVUmCM22KDYyVmApHfctKo3yWjyRJ+n+je/YOo71/2h+Pnoc68Th48+hFqTFwG/GRjBjhOI9GvEiBEvvvgib0JsdTYhH5I4X/mIw9U0G9UnEASdadOm8XGTvpyphw8fpmOPHj2ow1m1atXAgQNRDhPq1KnT1KlTOYmpL168mMiCjI2IDTC9FEkJZzlirqOZSndG8TkFjgruS4qKipDHGBBAYVjq0KFDWVkZYyHZrVs3RkHMPprAxHICGRz4Y8eOtSkDLzeLhFr4OTk5gInkRRddFGlEzF64cCFfYRCDqNx+++3WHQ1Dhw6dP38+/N27dzu18I2i93VoMwuGcB/p4GMYGhgl0ip07NiRz0y9evUCKySN0MM368LCQnv0lrgBagno5GdYi2ZaMY/4/tRTTwEyH/6I+04hqkKBBUa6ADUawBbobHFRhcH9+vXDeeDztYslgBlEHEh4FDP94Q9/6DXbK4admMRLiJcZqY5jMFYjXuxFMqxu+Ze1GuHVBVJfAAANvUlEQVQUzu5829c7z5n711k1pl90AWSSp5tuuok8jMMJDutla0eJJ9syUVKHw9rZfkHSEYn7wYMH7REHcPuI1ApvMb639MrgKu+//77Xu0ia2SbsQYZjP/KV3NvX6mEDCE34JN3pyFb1ORGvMQzK0Ob5uCvei6rLL78cn3T3TERdBuKlN1JHWo0QiLIXTPno0aORweFDt7aXDw4sEJ5vmr1bm6gCk8hGmSbULLP5wOZ/v/bLCmSt6P1E3+b9v7htzPNFz9aIQJ04fI2jpIVAKk4y0/+kli5dSoxAnlhASYDgExLuRZ1Th7SM2GGhBE504kaB8Gp9iUGzZ89GnkhEncrmzZvLy8vdDkcz+uGTWHCW20EIBz42wPdSJCWc5VOmTEHSOpqpdI97CqiKRERwsKKVCRKt3GHMsQETA+666y4qjA4INmUgZcpMED4VO5moRyKuWDjmbRRkwARkrDuPxFZTix74HBIwHUXvC6pYiLCJYRh1OKRWGEadUdDJiNThI89EqENMlilTCSLuhGhyTOx57LHHOGM4ZTky6WKj2EnDuMhzqjl5VwkLLKNHWkQMxmyMhLCTEyjUPzmQcAYSVs4kTlA3lrfCjQuvHwYpfJSQF2I/t6Fdu3a1uXj7khzYWiOckvT5vCvX9ttwY/7NzO6bXb717a7zb3n3xpUHVvDoh3j16t69O3kYSw+Y4M/qsEb0xa9YJlIB6oYhfNsvcLy0Z88ee8QB3D5CIc5gfFcyBO+NblMgE1ah7VNW+b777nN9XSVsAKEVnzTvZRSfE/EaTF+8lD2FKipsWCoQryUk/YYD8jgbOFBxM/V2RN4IAabPBHlEHlQxCcN49CpnixE90AAfMfYIrdS9fHDA5/F8+NDu3btNLXWmzA7Nz8+nniZ0xznffarfhkEtBnP79Wjvxy9scdEXto568/jrPqdfJw7vcyyJJRcCMWRg7FX2rcUCdjWB0gVB5swlBwczhyv16BTa1+R53+JlF/1csbRo0cKY3pI9zyc5WpGBrr32WmxAm1emRiUIYyoRh9sRusc3BZTESpz0dMFsDm9shhidF3E4EKc4ZzkTRMYPcVqwFqyICccUE332DRKzgSgxssZVQCwKYS0XG5wNXFdYWGcigMD5QS9KTg441Gskg7H2i8h5Qy7IS7+ded5xGQIoOBEdE9tYOOznNuWDDz6wuVh+72RSu8Kr/yP7f373efet6vsMh9PMnV995vDpv2Phc9Y4AN7LxSfyRAw2AnsZB4DY3W3btuXtK2i/IBmWWB26ex0gVIwhCE3s+tAm47CgXPmwoBjAnagxo5SoIoAECTAKltQ4ETMY/2EsKNLGZ1+QoZIS4ZCoXbt2bY0dTcALBXYycQwLMhV/Bn9mHcpHGJMwDMJIS4KDxNLw8e4Pf/RO6fZVfdc/0//5i1sO/WLBmHdL3/GPQx06vP9BJZkUCMSQgXnnw+5lD7OTvUw4uJqXE7Yeti+ZE2cYN/nEQaLh8ePHQ/sSUNyBhxhEjECbk/SjBGFyCC7zCgoKMDi+KaAkDuJQwWZCG8cM3Rmd761wHDF9+H6IOEtcJuY6YY4E8HGPUSo++waJGWioZZToq4BMEHEMcKYGMYMeSXF46b/11luZ1+bNm4NaIz2y+sBYr4to9xNh7+QiWQWfazDKFKbvvH/bLwsfHdF6JOnX2kOr4p4pEePw4cPksm4XuLzcu1+8rm5j2aKHOkBo0sAQNd7ZoIdggg0orzEJc3sBYUeM4mciyOOxfjY+GSpvIyRhyPOGgIVUonQ0AYOFUYzogmFWd2WkrQ2fqz5AcMQSuF7eiv9o4+2VvPWTVScmFVzzftmu85r2GF9w5faTb8c9F5bDj5+EOnzcI6pjIiMQZwbGlAgQQ4YMmTNnDnXchc9/bGCiAPfV5DcEDvi0IkMliLx9ecm7//77CWpESbwTSfqGvQPjFERz0D8ZgLyjKErIADAGSYYbO3as3bJ4zYh1CqjyTyhfs2YNJV1AiRJidCzBHuqxEjkKmYqDggrIgI8fPT77kmlxG2FfBrGc7zimnFEYixHtscaSNWVlWZrokvbSf8MNN5Chct58WjjaEzDiY7a42On8MFqfT9r4/mL4W0duHRgaVVu3bqU0KT7EYD+ObY81lqjiAHOrXKN88grctusb4wuuqk36xdwBFqxYNXDj0Yh66H6xJitJcF2mRd392iirxk43GVcyBE7l9hoy3//+910rFXwAT6ACoY0ylFBLR/gIo8oCCI+OGMXnRPBYNKDH9Q1bsX3KvkPeBKhE74iAn70QaWszYqdOnRYtWmTDRSp5JyH4EOcjCaQknyRsYsHV47aNqU36BTL+/QRhUcojEH8GxoUNx9WsWbOIbnZxzSUWeMHcsGGD3cYTWDnMYAaRty8XQqWlpfZLCaaHoHM83B0YvnvPPfcQbRnRKChYRFGyb98+jKEXw23ZsgUDMIkSa/1PAeHt27cjb18S0eCTsJyYZbMjhjILOIyOJdiDVVBYnZFGhD9//nwHBUc+F4fo9GOPz76kRMuWLeOcwLYVK1ZwZciLL/oZBfvd0LQGrQIyXkIeGd7mvcywdc4PMm8uw1zrxo0bOVH4Nm2Hn+N7K8DIjFgURjGEzQ+9MpHqpFaGPx25LQj7xs9Jj2FhNQDRyJEjmaC3le84PHKYUaY8bTr259rPkfUCfJaAFYS4ggLS0P3iHQgn4cYU54RJd7eP2ONhA45XZsaMGRZenHdddtllnTt3ZmiIrbRgwQLUBlHYABIkwyh+JoLHOoMZMezGRzNejTYqFtao1NgRAXrVuBfw27Bbm758iwdVrIIi7TvepuxdBZPSio5VHn375LbaT9mnn9R+IGmoCwTqV0dsGRhHFN7jLGLDE7CMwvK52J84cSK9XBdX8falTsxF2FRR4eKBMGFMWl0vYsSAAQNMjNLbhIzJw4ecEvjYxkkJBz7EI0wjNMAxCsunl3cKyCAMk7FMg5XwbZoo9LbCpAkZKnSEsJ9ZwIFogmNkvWiyudNqZDLWSh09xkcSVd6+8LEKSWygDoEh2pCk7iU4NfZFnu58EmIIyunTpztV3u602nBe2+jrpbVr13JeWhaFMBZip1fA1bmf547NPZoBjE4lqCM4MKJJ0oQZRo6JkRhMRycTOi7C1osShSZJF8ChtEf46Le6n3LChAkcnIzuRzg9ZVh91sKLKiCzBEbUgYXSHlmLUDBZHZIAoEYScuuIWrdb6TV48GAkEYCcjLkTHJqoQ7y90NGGo4J5tAYRyTpNJoMqa2UKML3yzmwkqSNGSR3yTgQNcIxMQ5C1dIToa63UjUI7Gt+VmGRqKRE2fqhymzsyTN+7tR3fmnhEA3qwhArE9SRvyJHeSRAQhSKAh7COLI1rAk8QNqIOn9IevX4CX5TaCMSWgaU2FppdPSHAAfC73/1u2rRpvF5HGoImbgdDP+5Ekk9MPteB3A5ywZCY5tXequqK6uoyXxSoqv1o0TQAMlADeDQhtdUSgZDuXBDyguFNJkJEUotR7svbq05Up9a0NZsGQkAZWAMBnebDELKjvNvx4YmvgXyaQSypgcL+KNNM6qmZ8WUrKg9fUeqHKgusR32VpPVADeD1NYD0hkOAqxooXEsK8jIzM4/NKffj7UdGl2ZlZaUgBJpSPSOgDKyeAZZ6HwgQ07mB52OHD9mGE9FIQQi0adPm3Fh+mjRpEqQhSR/xTFw0SY2X2XEjkJ+f79/fu3btGvdA6pi2CCgDS9ul18SFgBAQAkJACAiBRkMgUgbWaAZpYCEgBISAEBACQkAIpDwCysBSfok1QSEgBIRAEiEgU4VAuiCgDCxdVlrzFAJCQAgIASEgBBIHAWVgibMWskQIBALCQAgIASEgBNIDAWVg6bHOmqUQEAJCQAgIASGQSAgkVgaWSMjIFiEgBISAEBACQkAI1BcCysDqC1npFQJCQAgIgWRBQHYKgYZHQBlYw2OuEYWAEBACQkAICIF0R0AZWLp7gOYvBAIBYSAEhIAQEAINjYAysIZGXOMJASEgBISAEBACQkAZWCAgLxACQkAICAEhIASEQMMioAysYfHWaEJACAgBISAEDAGV6Y2AMrD0Xn/NXggIASEgBISAEGgMBJSBNQbqGlMICIFAQBgIASEgBNIZAWVg6bz6mrsQEAJCQAgIASHQOAgoA2sc3AMBjSsEhIAQEAJCQAikLwLKwNJ37TVzISAEhIAQSD8ENONEQUAZWKKshOwQAkJACAgBISAE0gcBZWDps9aaqRAQAoGAMBACQkAIJAYCysASYx1khRAQAkJACAgBIZBOCCgDS6fVDgQ0WyEgBISAEBACQiAREFAGlgirIBuEgBAQAkJACKQyAppbKALKwEIxEUcICAEhIASEgBAQAvWLgDKw+sVX2oWAEBACgYAwEAJCQAgEI6AMLBgRPQsBISAEhIAQEAJCoL4RUAZW3whLfyAgDISAEBACQkAICIFPI6AM7NN46EkICAEhIASEgBBIDQQSexbKwBJ7fWSdEBACQkAICAEhkIoIKANLxVXVnISAEBACgYAwEAJCIJERUAaWyKsj24SAEBACQkAICIHUREAZWGquq2YVCAgDISAEhIAQEAKJi4AysMRdG1kmBISAEBACQkAIJBsCfu1VBuYXKckJASEgBISAEBACQqCuEFAGVldISo8QEAJCQAgEAsJACAgBfwj8fwAAAP//icEKVAAAAAZJREFUAwDu7ieLgxFIAgAAAABJRU5ErkJggg==)"
      ],
      "metadata": {
        "id": "VEIk2fUS5PNh"
      }
    },
    {
      "cell_type": "markdown",
      "source": [
        "**Ques12 :- Describe a scenario where using a tuple would be preferable over a list**  \n",
        "- scenario : You’re passing data to a function and want to prevent it from being accidentally modified\n",
        "- Why tuple?\n",
        "   - Ensures function treats input as read-only.\n",
        "    - Makes debugging and reasoning about code easier."
      ],
      "metadata": {
        "id": "c1z07s4a8hqX"
      }
    },
    {
      "cell_type": "code",
      "source": [
        "# Example\n",
        "def print_info(info):\n",
        "    # info is a tuple; any attempt to change it will raise an error\n",
        "    print(f\"Name: {info[0]}, Age: {info[1]}\")\n",
        "\n",
        "user_info = ('Jane', 28)\n",
        "print_info(user_info)\n",
        "print_info(type(user_info))\n"
      ],
      "metadata": {
        "colab": {
          "base_uri": "https://localhost:8080/"
        },
        "id": "FjXKHV6u-Mci",
        "outputId": "1e1dd9ee-1e13-44b0-a5dd-2fb3516a0c7b"
      },
      "execution_count": null,
      "outputs": [
        {
          "output_type": "stream",
          "name": "stdout",
          "text": [
            "Name: Jane, Age: 28\n",
            "Name: tuple[0], Age: tuple[1]\n"
          ]
        }
      ]
    },
    {
      "cell_type": "markdown",
      "source": [
        "**Ques13 :- How do sets handle duplicate values in Python ?**\n",
        "- Python set objects are inherently designed to store only unique elements. They do not allow duplicate values. When you attempt to add a duplicate value to a set, the set simply ignores the addition; it does not raise an error, nor does it store the duplicate. The element already present in the set remains, and the new, identical element is not added."
      ],
      "metadata": {
        "id": "HVsNX6pk-0R2"
      }
    },
    {
      "cell_type": "code",
      "source": [
        "# Example\n",
        "my_set = {1, 2, 3}\n",
        "print(f\"Initial set: {my_set}\")\n",
        "\n",
        "# Attempt to add a duplicate value\n",
        "my_set.add(2)\n",
        "print(f\"Set after adding a duplicate: {my_set}\")\n",
        "\n",
        "# Create a set with initial duplicate values\n",
        "another_set = {1, 2, 2, 3, 4, 4}\n",
        "print(f\"Set created with initial duplicates: {another_set}\")"
      ],
      "metadata": {
        "colab": {
          "base_uri": "https://localhost:8080/"
        },
        "id": "bD11iP0R_eNq",
        "outputId": "f126bde4-a5d3-4c93-a36c-284c2889c181"
      },
      "execution_count": null,
      "outputs": [
        {
          "output_type": "stream",
          "name": "stdout",
          "text": [
            "Initial set: {1, 2, 3}\n",
            "Set after adding a duplicate: {1, 2, 3}\n",
            "Set created with initial duplicates: {1, 2, 3, 4}\n"
          ]
        }
      ]
    },
    {
      "cell_type": "markdown",
      "source": [
        "**Ques14 :- How does the “in” keyword work differently for lists and dictionaries?**\n",
        "-  The in keyword is used for membership testing in Python — but it behaves differently for lists and dictionaries.\n",
        "- **\"in\" with Lists :-**\n",
        "   - When used with a list, in checks if a value exists among the elements of the list.\n",
        "- **\"in\" with Dictionaries :-**\n",
        "   - When used with a dictionary, in checks if a key exists in the dictionary  not the values.\n",
        "   - It checks keys by default.\n"
      ],
      "metadata": {
        "id": "dcWgbnQF_rPw"
      }
    },
    {
      "cell_type": "code",
      "source": [
        "# Example of list with \"in\" operator\n",
        "my_list = [10, 20, 30, 40]\n",
        "print(20 in my_list)     # ✅ True\n",
        "print(50 in my_list)     # ❌ False\n",
        "\n",
        "# Example of dictionary with \"in\" operator\n",
        "my_dict = {'a': 1, 'b': 2}\n",
        "print('a' in my_dict)        # ✅ True (key)\n",
        "print(1 in my_dict)          # ❌ False (not a key)\n",
        "print(2 in my_dict.values()) # ✅ True (value)\n"
      ],
      "metadata": {
        "colab": {
          "base_uri": "https://localhost:8080/"
        },
        "id": "QG4ep3S8EdBA",
        "outputId": "c50691dd-195b-4345-9484-3916bea84dfd"
      },
      "execution_count": null,
      "outputs": [
        {
          "output_type": "stream",
          "name": "stdout",
          "text": [
            "True\n",
            "False\n",
            "True\n",
            "False\n",
            "True\n"
          ]
        }
      ]
    },
    {
      "cell_type": "markdown",
      "source": [
        "**Ques15 :- Can you modify the elements of a tuple? Explain why or why not**\n",
        "- No, you cannot modify the elements of a tuple in Python.\n",
        "- This is because tuples are immutable — once created, their elements cannot be changed, added, or removed.\n",
        "- **Why Tuples Are Immutable:-**\n",
        "   - Tuples are designed to be fixed collections of items.\n",
        "    - Immutability means their contents stay constant, making them:\n",
        "      - Hashable (if they contain only hashable elements)\n",
        "      - Safe to use as dictionary keys\n",
        "      - Less error-prone in code that depends on consistency\n",
        "\n",
        "**- But What If the Tuple Contains a Mutable Object :-**\n",
        "  - While you can't change the tuple itself, you can modify the contents inside it — if those contents are mutable (like lists or dictionaries).\n"
      ],
      "metadata": {
        "id": "pQZ9thJ_E8V9"
      }
    },
    {
      "cell_type": "code",
      "source": [
        "# Attempting to Modify a Tuple\n",
        "t = (1, 2, 3)\n",
        "t[0] = 99   # ❌ Raises TypeError\n",
        "\n",
        "\n"
      ],
      "metadata": {
        "colab": {
          "base_uri": "https://localhost:8080/",
          "height": 211
        },
        "id": "IN-NjOcNGwbR",
        "outputId": "b6d17920-3468-4fda-d802-509eb39f5ef0"
      },
      "execution_count": null,
      "outputs": [
        {
          "output_type": "error",
          "ename": "TypeError",
          "evalue": "'tuple' object does not support item assignment",
          "traceback": [
            "\u001b[0;31m---------------------------------------------------------------------------\u001b[0m",
            "\u001b[0;31mTypeError\u001b[0m                                 Traceback (most recent call last)",
            "\u001b[0;32m/tmp/ipython-input-902733443.py\u001b[0m in \u001b[0;36m<cell line: 0>\u001b[0;34m()\u001b[0m\n\u001b[1;32m      1\u001b[0m \u001b[0;31m# Attempting to Modify a Tuple\u001b[0m\u001b[0;34m\u001b[0m\u001b[0;34m\u001b[0m\u001b[0m\n\u001b[1;32m      2\u001b[0m \u001b[0mt\u001b[0m \u001b[0;34m=\u001b[0m \u001b[0;34m(\u001b[0m\u001b[0;36m1\u001b[0m\u001b[0;34m,\u001b[0m \u001b[0;36m2\u001b[0m\u001b[0;34m,\u001b[0m \u001b[0;36m3\u001b[0m\u001b[0;34m)\u001b[0m\u001b[0;34m\u001b[0m\u001b[0;34m\u001b[0m\u001b[0m\n\u001b[0;32m----> 3\u001b[0;31m \u001b[0mt\u001b[0m\u001b[0;34m[\u001b[0m\u001b[0;36m0\u001b[0m\u001b[0;34m]\u001b[0m \u001b[0;34m=\u001b[0m \u001b[0;36m99\u001b[0m   \u001b[0;31m# ❌ Raises TypeError\u001b[0m\u001b[0;34m\u001b[0m\u001b[0;34m\u001b[0m\u001b[0m\n\u001b[0m\u001b[1;32m      4\u001b[0m \u001b[0;34m\u001b[0m\u001b[0m\n\u001b[1;32m      5\u001b[0m \u001b[0;34m\u001b[0m\u001b[0m\n",
            "\u001b[0;31mTypeError\u001b[0m: 'tuple' object does not support item assignment"
          ]
        }
      ]
    },
    {
      "cell_type": "code",
      "source": [
        "# But What If the Tuple Contains a Mutable Object?\n",
        "t = ([1, 2, 3], \"hello\", 42)\n",
        "t[0].append(4)\n",
        "print(t)   # ([1, 2, 3, 4], 'hello', 42)"
      ],
      "metadata": {
        "colab": {
          "base_uri": "https://localhost:8080/"
        },
        "id": "BRFL59ZcHJxZ",
        "outputId": "ef530d2f-39a2-40ce-8003-335208206cc5"
      },
      "execution_count": null,
      "outputs": [
        {
          "output_type": "stream",
          "name": "stdout",
          "text": [
            "([1, 2, 3, 4], 'hello', 42)\n"
          ]
        }
      ]
    },
    {
      "cell_type": "markdown",
      "source": [
        "**Ques16 : What is a nested dictionary, and give an example of its use case?**\n",
        "- A nested dictionary in Python is a dictionary inside another dictionary — meaning one or more values are themselves dictionaries. This allows you to represent structured or hierarchical data in a compact and readable way.\n",
        "- **Example Use Case: Student Grades by Subject :-**\n",
        "  - Imagine you want to store multiple students, each with multiple subjects and grades."
      ],
      "metadata": {
        "id": "Dwb7lKGOHL9r"
      }
    },
    {
      "cell_type": "code",
      "source": [
        "# Example Use Case: Student Grades by Subject\n",
        "students = {\n",
        "    \"Alice\": {\n",
        "        \"Math\": 90,\n",
        "        \"Science\": 85\n",
        "    },\n",
        "    \"Bob\": {\n",
        "        \"Math\": 78,\n",
        "        \"Science\": 88\n",
        "    },\n",
        "    \"Charlie\": {\n",
        "        \"Math\": 95,\n",
        "        \"Science\": 92\n",
        "    }\n",
        "}\n",
        "\n",
        "print(students[\"Alice\"][\"Math\"])     # 90\n",
        "print(students[\"Bob\"][\"Science\"])    # 88\n",
        "\n"
      ],
      "metadata": {
        "colab": {
          "base_uri": "https://localhost:8080/"
        },
        "id": "nF2X9DpNHxsR",
        "outputId": "7b6e4f43-a1ac-4874-fc4b-e530cb096bd8"
      },
      "execution_count": null,
      "outputs": [
        {
          "output_type": "stream",
          "name": "stdout",
          "text": [
            "90\n",
            "88\n"
          ]
        }
      ]
    },
    {
      "cell_type": "markdown",
      "source": [
        "**Ques17 :- Describe the time complexity of accessing elements in a dictionary**\n",
        "- Accessing elements in a Python dictionary is generally very fast because dictionaries are implemented as hash tables.\n",
        "- **Average Case:-**\n",
        "  - O(1) — Constant time\n",
        "  - Accessing a value by key typically takes constant time because the key is hashed, and the hash value is used to directly locate the position in memory.\n",
        "- **Worst Case:-**\n",
        "  - O(n) — Linear time\n",
        "  - In rare cases, when many keys hash to the same slot (hash collisions), access can degrade to linear time, as the dictionary may need to check multiple entries.\n",
        "\n",
        "  "
      ],
      "metadata": {
        "id": "4C1u_9QkIHpm"
      }
    },
    {
      "cell_type": "markdown",
      "source": [
        "**Ques18:- In what situations are lists preferred over dictionaries ?**\n",
        "- While dictionaries are powerful for key-based lookups, lists are preferred in certain situations because of their characteristics.\n",
        "- **1. Ordered Collection of Items :-**\n",
        "  - Lists maintain the order of elements.\n",
        "   - Use lists when the sequence/order matters, like maintaining a playlist, queue, or steps in a process.\n",
        "- **2.Indexed Access by Position :-**\n",
        "  - Lists let you access elements by integer index (e.g., my_list[0]).\n",
        "  - When you care about the position of items rather than keys.\n",
        "- **3. Duplicate Values Allowed :-**\n",
        "   - Lists allow duplicates.\n",
        "   - When you need to store repeated values (e.g., a list of votes or repeated sensor readings).\n",
        "\n",
        "- ![image.png](data:image/png;base64,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)"
      ],
      "metadata": {
        "id": "DRWlJvlvJIJJ"
      }
    },
    {
      "cell_type": "markdown",
      "source": [
        "**Ques19 : Why are dictionaries considered unordered, and how does that affect data retrieval ?**\n",
        "- Dictionaries were unordered.\n",
        "- This means the order of items when you iterate over the dictionary was unpredictable.\n",
        "- You could not rely on the order in which key-value pairs were inserted.\n",
        "- **How Does This Affect Data Retrieval :-**\n",
        "  - Retrieval by key is always fast and reliable (dict[key]) because hashing doesn’t depend on order.\n",
        "  - Iteration order affects how you loop through keys or items."
      ],
      "metadata": {
        "id": "1reV5ny-KgWp"
      }
    },
    {
      "cell_type": "code",
      "source": [
        "# Example\n",
        "\n",
        "d = {'a': 1, 'b': 2, 'c': 3}\n",
        "for key in d:\n",
        "    print(key)  # Order could be 'b', 'a', 'c' or anything else\n"
      ],
      "metadata": {
        "id": "yNbfzAxDLtvX"
      },
      "execution_count": null,
      "outputs": []
    },
    {
      "cell_type": "markdown",
      "source": [
        "**Ques20 :- Explain the difference between a list and a dictionary in terms of data retrieval**\n",
        "- Lists are best when you want to retrieve items by their position.\n",
        "- Dictionaries are best when you want to retrieve items by a unique key, quickly and directly.\n",
        "- ![image.png](data:image/png;base64,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)"
      ],
      "metadata": {
        "id": "3EMXukjYL1vt"
      }
    },
    {
      "cell_type": "markdown",
      "source": [
        "# **Practical Questions**\n",
        "\n",
        "---\n",
        "\n"
      ],
      "metadata": {
        "id": "If_fPwFkoVmU"
      }
    },
    {
      "cell_type": "markdown",
      "source": [
        "**Ques1 :- Write a code to create a string with your name and print it**\n"
      ],
      "metadata": {
        "id": "-e9CaPC3oc_V"
      }
    },
    {
      "cell_type": "code",
      "source": [
        "# code to create a string with your name and print it\n",
        "name = 'SACHIN'\n",
        "print(f\"My Name is {name}\")"
      ],
      "metadata": {
        "colab": {
          "base_uri": "https://localhost:8080/"
        },
        "id": "26eTtpS2ps74",
        "outputId": "be42e5cb-31d7-4c11-d0b6-0bc6ab2e2917"
      },
      "execution_count": 2,
      "outputs": [
        {
          "output_type": "stream",
          "name": "stdout",
          "text": [
            "My Name is SACHIN\n"
          ]
        }
      ]
    },
    {
      "cell_type": "markdown",
      "source": [
        "**Ques2:- Write a code to find the length of the string \"Hello World\"**"
      ],
      "metadata": {
        "id": "CIQW-8A6smSi"
      }
    },
    {
      "cell_type": "code",
      "source": [
        "# code to find the length of the string \"Hello World\"\n",
        "string = \"Hello World\"\n",
        "print(f\"Length of the string is {len(string)}\")\n"
      ],
      "metadata": {
        "colab": {
          "base_uri": "https://localhost:8080/"
        },
        "id": "qMJbK6DPsxbB",
        "outputId": "5a73908c-3185-4e47-9a83-a1d72175dd91"
      },
      "execution_count": 3,
      "outputs": [
        {
          "output_type": "stream",
          "name": "stdout",
          "text": [
            "Length of the string is 11\n"
          ]
        }
      ]
    },
    {
      "cell_type": "markdown",
      "source": [
        "**Ques3 :-  Write a code to slice the first 3 characters from the string \"Python Programming\"**\n"
      ],
      "metadata": {
        "id": "INOeVMwJtF9F"
      }
    },
    {
      "cell_type": "code",
      "source": [
        "#  code to slice the first 3 characters from the string \"Python Programming\"\n",
        "string = \"Python Programming\"\n",
        "print(f\"First 3 characters are {string[0:3]}\")\n"
      ],
      "metadata": {
        "colab": {
          "base_uri": "https://localhost:8080/"
        },
        "id": "WSl-iK9_tMMx",
        "outputId": "39de0c16-60cc-47db-e4c6-502993d33301"
      },
      "execution_count": 5,
      "outputs": [
        {
          "output_type": "stream",
          "name": "stdout",
          "text": [
            "First 3 characters are Pyt\n"
          ]
        }
      ]
    },
    {
      "cell_type": "markdown",
      "source": [
        "**Ques4 :- Write a code to convert the string \"hello\" to uppercase**"
      ],
      "metadata": {
        "id": "Lo2TCG8BtrwV"
      }
    },
    {
      "cell_type": "code",
      "source": [
        "#  code to convert the string \"hello\" to uppercase\n",
        "\n",
        "string = \"hello\"\n",
        "print(f\"Uppercase of the string is {string.upper()}\")\n"
      ],
      "metadata": {
        "colab": {
          "base_uri": "https://localhost:8080/"
        },
        "id": "pB-lYuB3ty69",
        "outputId": "1e0d6dc5-945c-424d-b254-fa68e2c07b7d"
      },
      "execution_count": 6,
      "outputs": [
        {
          "output_type": "stream",
          "name": "stdout",
          "text": [
            "Uppercase of the string is HELLO\n"
          ]
        }
      ]
    },
    {
      "cell_type": "markdown",
      "source": [
        "**Ques5 :- Write a code to replace the word \"apple\" with \"orange\" in the string \"I like apple\"**"
      ],
      "metadata": {
        "id": "Q1mID3VjuE_v"
      }
    },
    {
      "cell_type": "code",
      "source": [
        "# code to replace the word \"apple\" with \"orange\" in the string \"I like apple\"\n",
        "\n",
        "string = 'I like apple'\n",
        "print(f\"Replaced string is : {string.replace('apple','orange')}\")\n"
      ],
      "metadata": {
        "colab": {
          "base_uri": "https://localhost:8080/"
        },
        "id": "VD7IqCQ7uMnq",
        "outputId": "b064eb28-aea1-4bf9-bccf-ab2f92cd7ef6"
      },
      "execution_count": 9,
      "outputs": [
        {
          "output_type": "stream",
          "name": "stdout",
          "text": [
            "Replaced string is : I like orange\n"
          ]
        }
      ]
    },
    {
      "cell_type": "markdown",
      "source": [
        "**Ques6 :- Write a code to create a list with numbers 1 to 5 and print it**"
      ],
      "metadata": {
        "id": "JNoIyrjdwBWP"
      }
    },
    {
      "cell_type": "code",
      "source": [
        "# code to create a list with numbers 1 to 5 and print it\n",
        "\n",
        "lst = []\n",
        "for i in range(1,6):\n",
        "  lst.append(i)\n",
        "print(lst)\n"
      ],
      "metadata": {
        "colab": {
          "base_uri": "https://localhost:8080/"
        },
        "id": "88wgj8_OwHCG",
        "outputId": "17dc1611-43a4-43cc-8751-45f6a3a58778"
      },
      "execution_count": 10,
      "outputs": [
        {
          "output_type": "stream",
          "name": "stdout",
          "text": [
            "[1, 2, 3, 4, 5]\n"
          ]
        }
      ]
    },
    {
      "cell_type": "markdown",
      "source": [
        "**Ques7 :- Write a code to append the number 10 to the list [1, 2, 3, 4]**"
      ],
      "metadata": {
        "id": "aowRyYhGwzf3"
      }
    },
    {
      "cell_type": "code",
      "source": [
        "# code to append the number 10 to the list [1, 2, 3, 4]\n",
        "\n",
        "list =  [1, 2, 3, 4]\n",
        "list.append(10)\n",
        "print(list)"
      ],
      "metadata": {
        "colab": {
          "base_uri": "https://localhost:8080/"
        },
        "id": "8kq8ao0pw6GQ",
        "outputId": "4799f4e4-f634-474d-c69d-0345eef8e479"
      },
      "execution_count": 13,
      "outputs": [
        {
          "output_type": "stream",
          "name": "stdout",
          "text": [
            "[1, 2, 3, 4, 10]\n"
          ]
        }
      ]
    },
    {
      "cell_type": "markdown",
      "source": [
        "**Ques8 :- Write a code to remove the number 3 from the list [1, 2, 3, 4, 5]**"
      ],
      "metadata": {
        "id": "AzwnEtAsxXFY"
      }
    },
    {
      "cell_type": "code",
      "source": [
        "# code to remove the number 3 from the list [1, 2, 3, 4, 5]\n",
        "\n",
        "list = [1, 2, 3, 4, 5]\n",
        "list.remove(3)\n",
        "print(list)"
      ],
      "metadata": {
        "colab": {
          "base_uri": "https://localhost:8080/"
        },
        "id": "2eypiID7xesc",
        "outputId": "be945a92-eedd-49ff-f382-8dfcf36b1b5c"
      },
      "execution_count": 19,
      "outputs": [
        {
          "output_type": "stream",
          "name": "stdout",
          "text": [
            "[1, 2, 4, 5]\n"
          ]
        }
      ]
    },
    {
      "cell_type": "markdown",
      "source": [
        "**Ques9 :- Write a code to access the second element in the list ['a', 'b', 'c', 'd']**"
      ],
      "metadata": {
        "id": "hYDvGXv9yTaP"
      }
    },
    {
      "cell_type": "code",
      "source": [
        "\n",
        "list = ['a', 'b', 'c', 'd']\n",
        "print(f\"The second element is : {list[1]}\")"
      ],
      "metadata": {
        "colab": {
          "base_uri": "https://localhost:8080/"
        },
        "id": "jMhJWWzeycXO",
        "outputId": "56739213-dcc3-49d2-9c5e-0e6970ef1319"
      },
      "execution_count": 21,
      "outputs": [
        {
          "output_type": "stream",
          "name": "stdout",
          "text": [
            "The second element is : b\n"
          ]
        }
      ]
    },
    {
      "cell_type": "markdown",
      "source": [
        "**Ques10 :-  Write a code to reverse the list [10, 20, 30, 40, 50]**"
      ],
      "metadata": {
        "id": "ycthI7kzy-v3"
      }
    },
    {
      "cell_type": "code",
      "source": [
        "\n",
        "list = [10, 20, 30, 40, 50]\n",
        "print(f\"The reverse of the list is : {list[::-1]}\")"
      ],
      "metadata": {
        "colab": {
          "base_uri": "https://localhost:8080/"
        },
        "id": "MGFNC4oEzb6k",
        "outputId": "6f805d82-36ae-4c68-8e7d-f6a67da1aa5c"
      },
      "execution_count": 22,
      "outputs": [
        {
          "output_type": "stream",
          "name": "stdout",
          "text": [
            "The reverse of the list is : [50, 40, 30, 20, 10]\n"
          ]
        }
      ]
    },
    {
      "cell_type": "markdown",
      "source": [
        "**Ques11 :- Write a code to create a tuple with the elements 100, 200, 300 and print it**\n",
        "\n"
      ],
      "metadata": {
        "id": "DkTIq-oS1yC4"
      }
    },
    {
      "cell_type": "code",
      "source": [
        "tuple = (100,200,300)\n",
        "print(f\"Your tuple is : {tuple}\")\n",
        "print(type(tuple))"
      ],
      "metadata": {
        "colab": {
          "base_uri": "https://localhost:8080/"
        },
        "id": "iwqndwc12DtL",
        "outputId": "e270feaf-89c7-44f1-c5b4-05927216d27f"
      },
      "execution_count": 24,
      "outputs": [
        {
          "output_type": "stream",
          "name": "stdout",
          "text": [
            "Your tuple is : (100, 200, 300)\n",
            "<class 'tuple'>\n"
          ]
        }
      ]
    },
    {
      "cell_type": "markdown",
      "source": [
        "**Ques12 :- Write a code to access the second-to-last element of the tuple ('red', 'green', 'blue', 'yellow')**"
      ],
      "metadata": {
        "id": "MEyZ8BZD2XJ-"
      }
    },
    {
      "cell_type": "code",
      "source": [
        "\n",
        "tuple = ('red', 'green', 'blue', 'yellow')\n",
        "print(f\"{tuple[1::]}\")"
      ],
      "metadata": {
        "colab": {
          "base_uri": "https://localhost:8080/"
        },
        "id": "IugoPCUd2kgs",
        "outputId": "268e8cfe-8dc6-4db3-9198-5d504c4fbf18"
      },
      "execution_count": 31,
      "outputs": [
        {
          "output_type": "stream",
          "name": "stdout",
          "text": [
            "('green', 'blue', 'yellow')\n"
          ]
        }
      ]
    },
    {
      "cell_type": "markdown",
      "source": [
        "**Ques13 :- Write a code to find the minimum number in the tuple (10, 20, 5, 15)**"
      ],
      "metadata": {
        "id": "bu1Aabz-3XGk"
      }
    },
    {
      "cell_type": "code",
      "source": [
        "tuple = (10, 20, 5, 15)\n",
        "print(f\"The minimum value in this tuple is : {min(tuple)}\")"
      ],
      "metadata": {
        "colab": {
          "base_uri": "https://localhost:8080/"
        },
        "id": "58NmdrkB3hgB",
        "outputId": "f17ca502-a074-4441-f728-4eb73e6532d1"
      },
      "execution_count": 32,
      "outputs": [
        {
          "output_type": "stream",
          "name": "stdout",
          "text": [
            "The minimum value in this tuple is : 5\n"
          ]
        }
      ]
    },
    {
      "cell_type": "markdown",
      "source": [
        "**Ques14 :- Write a code to find the index of the element \"cat\" in the tuple ('dog', 'cat', 'rabbit')**"
      ],
      "metadata": {
        "id": "8aNBLCF834dN"
      }
    },
    {
      "cell_type": "code",
      "source": [
        "\n",
        "tuple = ('dog', 'cat', 'rabbit')\n",
        "index = tuple.index('cat')\n",
        "print(f\"the index of cat is : {index}\")"
      ],
      "metadata": {
        "colab": {
          "base_uri": "https://localhost:8080/"
        },
        "id": "RX2qgChE3-44",
        "outputId": "54043f66-7433-4e2c-e40a-74a85d3ca241"
      },
      "execution_count": 36,
      "outputs": [
        {
          "output_type": "stream",
          "name": "stdout",
          "text": [
            "the index of cat is : 1\n"
          ]
        }
      ]
    },
    {
      "cell_type": "markdown",
      "source": [
        "**Ques15 :- Write a code to create a tuple containing three different fruits and check if \"kiwi\" is in it**"
      ],
      "metadata": {
        "id": "pGY3NMDv4zGx"
      }
    },
    {
      "cell_type": "code",
      "source": [
        "fruit=(\"mango\",\"kiwi\",\"apple\")\n",
        "for i in fruit:\n",
        "  if i=='kiwi':\n",
        "    print(f\"{i} is available in thie tuple\")\n",
        "\n",
        "'kiwi' in fruit"
      ],
      "metadata": {
        "colab": {
          "base_uri": "https://localhost:8080/"
        },
        "id": "CEtrISWZ45Rb",
        "outputId": "8f08b8fb-5f78-47af-89f0-1375c27a4ec8"
      },
      "execution_count": 40,
      "outputs": [
        {
          "output_type": "stream",
          "name": "stdout",
          "text": [
            "kiwi is available in thie tuple\n"
          ]
        },
        {
          "output_type": "execute_result",
          "data": {
            "text/plain": [
              "True"
            ]
          },
          "metadata": {},
          "execution_count": 40
        }
      ]
    },
    {
      "cell_type": "markdown",
      "source": [
        "**Ques16 :- Write a code to create a set with the elements 'a', 'b', 'c' and print it**"
      ],
      "metadata": {
        "id": "XrMN9qfX56iY"
      }
    },
    {
      "cell_type": "code",
      "source": [
        "set = {'a','b','c'}\n",
        "print(set)\n",
        "print(type(set))\n"
      ],
      "metadata": {
        "colab": {
          "base_uri": "https://localhost:8080/"
        },
        "id": "rxuCV3gA6Bpi",
        "outputId": "c2b6f385-9453-4760-f7fc-59f08b6d382e"
      },
      "execution_count": 43,
      "outputs": [
        {
          "output_type": "stream",
          "name": "stdout",
          "text": [
            "{'c', 'b', 'a'}\n",
            "<class 'set'>\n"
          ]
        }
      ]
    },
    {
      "cell_type": "markdown",
      "source": [
        "**Ques17 :- Write a code to clear all elements from the set {1, 2, 3, 4, 5}**"
      ],
      "metadata": {
        "id": "cJ1jpHai6eVe"
      }
    },
    {
      "cell_type": "code",
      "source": [
        "set = {1, 2, 3, 4, 5}\n",
        "set.clear()\n",
        "print(set)\n",
        "\n"
      ],
      "metadata": {
        "colab": {
          "base_uri": "https://localhost:8080/"
        },
        "id": "_j_EH0dP6jg2",
        "outputId": "32d31b7a-550a-4994-e167-2d1655e9ff52"
      },
      "execution_count": 47,
      "outputs": [
        {
          "output_type": "stream",
          "name": "stdout",
          "text": [
            "set()\n",
            "<class 'set'>\n"
          ]
        }
      ]
    },
    {
      "cell_type": "markdown",
      "source": [
        "**Ques18 :- Write a code to remove the element 4 from the set {1, 2, 3, 4}**"
      ],
      "metadata": {
        "id": "iUfqApjK7Z0T"
      }
    },
    {
      "cell_type": "code",
      "source": [
        "set = {1, 2, 3, 4}\n",
        "set.remove(4)\n",
        "print(set)"
      ],
      "metadata": {
        "colab": {
          "base_uri": "https://localhost:8080/"
        },
        "id": "FSG7zhys7hdL",
        "outputId": "327f0c44-2dc3-4cb2-8e38-74951b505b5d"
      },
      "execution_count": 48,
      "outputs": [
        {
          "output_type": "stream",
          "name": "stdout",
          "text": [
            "{1, 2, 3}\n"
          ]
        }
      ]
    },
    {
      "cell_type": "markdown",
      "source": [
        "**Ques19 :- Write a code to find the union of two sets {1, 2, 3} and {3, 4, 5}**"
      ],
      "metadata": {
        "id": "TLHg8VdP7tfW"
      }
    },
    {
      "cell_type": "code",
      "source": [
        "set1 = {1, 2, 3}\n",
        "set2 = {3, 4, 5}\n",
        "\n",
        "print(f\"The Union of set1 and set2 is : {set1 | set2}\")"
      ],
      "metadata": {
        "colab": {
          "base_uri": "https://localhost:8080/"
        },
        "id": "jnmcukoU73Aa",
        "outputId": "29831c84-04db-4e9f-940d-46b91d7fd398"
      },
      "execution_count": 50,
      "outputs": [
        {
          "output_type": "stream",
          "name": "stdout",
          "text": [
            "The Union of set1 and set2 is : {1, 2, 3, 4, 5}\n"
          ]
        }
      ]
    },
    {
      "cell_type": "markdown",
      "source": [
        "**Ques20 :- Write a code to find the intersection of two sets {1, 2, 3} and {2, 3, 4}.**"
      ],
      "metadata": {
        "id": "49RKEGe38ri7"
      }
    },
    {
      "cell_type": "code",
      "source": [
        "set1= {1, 2, 3}\n",
        "\n",
        "set2 = {2, 3, 4}\n",
        "print(f\"The intersection of set1 and set2 is : {set1 & set2}\")\n"
      ],
      "metadata": {
        "colab": {
          "base_uri": "https://localhost:8080/"
        },
        "id": "xhFAGZ8s820B",
        "outputId": "e7b462ba-4b28-40ae-c6c3-9e3ae97117eb"
      },
      "execution_count": 52,
      "outputs": [
        {
          "output_type": "stream",
          "name": "stdout",
          "text": [
            "The intersection of set1 and set2 is : {2, 3}\n"
          ]
        }
      ]
    },
    {
      "cell_type": "markdown",
      "source": [
        "**Ques21 :- Write a code to create a dictionary with the keys \"name\", \"age\", and \"city\", and print it.**"
      ],
      "metadata": {
        "id": "yMFDkOhx9R5l"
      }
    },
    {
      "cell_type": "code",
      "source": [
        "dict = {\"name\":\"sachin\", \"age\":26,  \"city\":\"new delhi\"}\n",
        "print(dict)"
      ],
      "metadata": {
        "colab": {
          "base_uri": "https://localhost:8080/"
        },
        "id": "FNJ_jk959ZB6",
        "outputId": "d491b830-ecad-4ad2-ad97-b6a0419d5c40"
      },
      "execution_count": 53,
      "outputs": [
        {
          "output_type": "stream",
          "name": "stdout",
          "text": [
            "{'name': 'sachin', 'age': 26, 'city': 'new delhi'}\n"
          ]
        }
      ]
    },
    {
      "cell_type": "markdown",
      "source": [
        "Ques22 :- Write a code to add a new key-value pair \"country\": \"USA\" to the dictionary {'name': 'John', 'age': 25}"
      ],
      "metadata": {
        "id": "582tKiwv--7t"
      }
    },
    {
      "cell_type": "code",
      "source": [
        "dictionary = {'name': 'John', 'age': 25}\n",
        "dictionary[\"country\"]= \"USA\"\n",
        "print(dictionary)"
      ],
      "metadata": {
        "colab": {
          "base_uri": "https://localhost:8080/"
        },
        "id": "iTT6-BXT_IQk",
        "outputId": "7816b411-cac6-4f4e-a488-f889cef91679"
      },
      "execution_count": 56,
      "outputs": [
        {
          "output_type": "stream",
          "name": "stdout",
          "text": [
            "{'name': 'John', 'age': 25, 'country': 'USA'}\n"
          ]
        }
      ]
    },
    {
      "cell_type": "markdown",
      "source": [
        "**Ques23 : Write a code to access the value associated with the key \"name\" in the dictionary {'name': 'Alice', 'age': 30}.**"
      ],
      "metadata": {
        "id": "CFyyDEm6_rUg"
      }
    },
    {
      "cell_type": "code",
      "source": [
        "dictionary ={'name': 'Alice', 'age': 30}\n",
        "print(dictionary[\"name\"])"
      ],
      "metadata": {
        "colab": {
          "base_uri": "https://localhost:8080/"
        },
        "id": "yaZ6gHYu_xv1",
        "outputId": "d591b9db-a698-4476-d8a2-9b3e4cc9ffa6"
      },
      "execution_count": 57,
      "outputs": [
        {
          "output_type": "stream",
          "name": "stdout",
          "text": [
            "Alice\n"
          ]
        }
      ]
    },
    {
      "cell_type": "markdown",
      "source": [
        "**Ques24 :- Write a code to remove the key \"age\" from the dictionary {'name': 'Bob', 'age': 22, 'city': 'New York'}.**"
      ],
      "metadata": {
        "id": "WRzh1wz9__fU"
      }
    },
    {
      "cell_type": "code",
      "source": [
        "dictionary = {'name': 'Bob', 'age': 22, 'city': 'New York'}\n",
        "dictionary.pop(\"age\")\n",
        "print(dictionary)"
      ],
      "metadata": {
        "colab": {
          "base_uri": "https://localhost:8080/"
        },
        "id": "GVd1OHB3AIEJ",
        "outputId": "26bc2fa8-a95c-4595-efe3-9aefe8e5fadc"
      },
      "execution_count": 60,
      "outputs": [
        {
          "output_type": "stream",
          "name": "stdout",
          "text": [
            "{'name': 'Bob', 'city': 'New York'}\n"
          ]
        }
      ]
    },
    {
      "cell_type": "markdown",
      "source": [
        "**Ques25 :- Write a code to check if the key \"city\" exists in the dictionary {'name': 'Alice', 'city': 'Paris'}**"
      ],
      "metadata": {
        "id": "sR2EBHTvAngT"
      }
    },
    {
      "cell_type": "code",
      "source": [
        "dictionary = {'name': 'Alice', 'city': 'Paris'}\n",
        "for key in dictionary:\n",
        "  if key=='city':\n",
        "    print(f\"The {key} is avaiable in dictionary\")\n",
        "\n",
        "\n",
        "\"city\" in dictionary"
      ],
      "metadata": {
        "colab": {
          "base_uri": "https://localhost:8080/"
        },
        "id": "iiUTwnP8ArtF",
        "outputId": "6feb73ed-e12d-47a7-9c6f-2b4ccd7ec41d"
      },
      "execution_count": 63,
      "outputs": [
        {
          "output_type": "stream",
          "name": "stdout",
          "text": [
            "The city is avaiable in dictionary\n"
          ]
        },
        {
          "output_type": "execute_result",
          "data": {
            "text/plain": [
              "True"
            ]
          },
          "metadata": {},
          "execution_count": 63
        }
      ]
    },
    {
      "cell_type": "markdown",
      "source": [
        "**Ques26 :- Write a code to create a list, a tuple, and a dictionary, and print them all.**\n",
        "\n"
      ],
      "metadata": {
        "id": "UpcLz4zQBRF9"
      }
    },
    {
      "cell_type": "code",
      "source": [
        "# Create a list\n",
        "my_list = [1, 2, 3, 4, 5]\n",
        "\n",
        "# Create a tuple\n",
        "my_tuple = ('apple', 'banana', 'cherry')\n",
        "\n",
        "# Create a dictionary\n",
        "my_dict = {'name': 'Alice', 'age': 30}\n",
        "\n",
        "# Print them all\n",
        "print(\"List:\", my_list)\n",
        "print(\"Tuple:\", my_tuple)\n",
        "print(\"Dictionary:\", my_dict)"
      ],
      "metadata": {
        "colab": {
          "base_uri": "https://localhost:8080/"
        },
        "id": "ypgeWXJYBXdP",
        "outputId": "a9c25d57-66dc-422e-fca3-1e00415a2b23"
      },
      "execution_count": 64,
      "outputs": [
        {
          "output_type": "stream",
          "name": "stdout",
          "text": [
            "List: [1, 2, 3, 4, 5]\n",
            "Tuple: ('apple', 'banana', 'cherry')\n",
            "Dictionary: {'name': 'Alice', 'age': 30}\n"
          ]
        }
      ]
    },
    {
      "cell_type": "markdown",
      "source": [
        "**Ques27 :- Write a code to create a list of 5 random numbers between 1 and 100, sort it in ascending order, and print the result.(replaced)**"
      ],
      "metadata": {
        "id": "I1Rt6OLTBkx-"
      }
    },
    {
      "cell_type": "code",
      "source": [
        "import random\n",
        "\n",
        "# Create a list of 5 random numbers between 1 and 100\n",
        "random_numbers = [random.randint(1, 100) for i in range(5)]\n",
        "\n",
        "# Sort the list in ascending order\n",
        "random_numbers.sort()\n",
        "\n",
        "# Print the sorted list\n",
        "print(\"Sorted random numbers:\", random_numbers)"
      ],
      "metadata": {
        "colab": {
          "base_uri": "https://localhost:8080/"
        },
        "id": "SAds9rGbBzos",
        "outputId": "05f68ffc-ad96-4e2b-9198-8e03b8864ef2"
      },
      "execution_count": 67,
      "outputs": [
        {
          "output_type": "stream",
          "name": "stdout",
          "text": [
            "Sorted random numbers: [5, 18, 23, 24, 47]\n"
          ]
        }
      ]
    },
    {
      "cell_type": "markdown",
      "source": [
        "**Ques28 :- Write a code to create a list with strings and print the element at the third index.**"
      ],
      "metadata": {
        "id": "IkjxnA4HCYx8"
      }
    },
    {
      "cell_type": "code",
      "source": [
        "words = [\"apple\", \"banana\", \"cherry\", \"date\", \"elderberry\"]\n",
        "\n",
        "# Print the element at the third index\n",
        "print(\"Element at index 3:\", words[2])"
      ],
      "metadata": {
        "colab": {
          "base_uri": "https://localhost:8080/"
        },
        "id": "cGr-pepsCdmH",
        "outputId": "77c84fe0-22b3-4a1c-8b81-d0f4562b58c3"
      },
      "execution_count": 69,
      "outputs": [
        {
          "output_type": "stream",
          "name": "stdout",
          "text": [
            "Element at index 3: cherry\n"
          ]
        }
      ]
    },
    {
      "cell_type": "markdown",
      "source": [
        "**Ques 29 :- Write a code to combine two dictionaries into one and print the result.**"
      ],
      "metadata": {
        "id": "nnYLfEuCC4AC"
      }
    },
    {
      "cell_type": "code",
      "source": [
        "dict1 = {'name': 'Alice', 'age': 30}\n",
        "dict2 = {\"city\":\"new delhi\",\"country\":\"india\"}\n",
        "\n",
        "combined_dict = {**dict1, **dict2}\n",
        "\n",
        "# Print the combined dictionary\n",
        "print(\"Combined dictionary:\", combined_dict)\n"
      ],
      "metadata": {
        "colab": {
          "base_uri": "https://localhost:8080/"
        },
        "id": "yEDvfzQZDBgw",
        "outputId": "e38d8cae-8ebd-4db8-ab8e-dca8ca5c12a3"
      },
      "execution_count": 73,
      "outputs": [
        {
          "output_type": "stream",
          "name": "stdout",
          "text": [
            "Combined dictionary: {'name': 'Alice', 'age': 30, 'city': 'new delhi', 'country': 'india'}\n"
          ]
        }
      ]
    },
    {
      "cell_type": "markdown",
      "source": [
        "**Ques30 :- Write a code to convert a list of strings into a set.**"
      ],
      "metadata": {
        "id": "dXE9Zs2nIQ7C"
      }
    },
    {
      "cell_type": "code",
      "source": [
        "lst = [\"sachin\", \"sanchit\", \"sachin\", \"saurabh\", \"sumit\"]\n",
        "my_sets = set(lst)\n",
        "print(my_sets)"
      ],
      "metadata": {
        "id": "VDNWBNnpIOw4"
      },
      "execution_count": null,
      "outputs": []
    }
  ]
}