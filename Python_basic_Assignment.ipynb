{
  "cells": [
    {
      "cell_type": "markdown",
      "metadata": {
        "id": "p_gTYLpxk3oX"
      },
      "source": [
        "# Python Basics Questions\n",
        "\n",
        "---\n",
        "\n",
        "\n",
        "\n",
        "**Ques1: What is Python, and why is it popular ?**\n",
        "- Python is a popular, high-level, general-purpose programming language known for its easy-to-learn syntax and versatility, used across web development, data science, artificial intelligence, and automation\n",
        "- it is popular because of\n",
        "  - **Beginner-Friendly:** Its simple and intuitive syntax makes it accessible for non-programmers and those just starting with coding.\n",
        "  - **Vast Ecosystem of Libraries:** Python boasts a huge collection of built-in and third-party libraries and frameworks (like NumPy, Pandas, TensorFlow) that simplify complex tasks, especially in data science and machine learning.\n",
        "  - **Strong Community Support:** A large and active global community provides extensive support, tutorials, and resources, making it easier to find help when needed.\n",
        "  - **Open Source and Free:** Python is an open-source language, meaning it is free to download and use, fostering innovation and wide adoption.\n",
        "\n",
        "**Ques2: What is an interpreter in Python ?**\n",
        "- A Python interpreter is a program that directly executes Python code. Unlike compiled languages where the entire source code is translated into machine code before execution, Python is an interpreted language. This means the interpreter reads your Python code, analyzes it, and executes it line by line or in small blocks, translating it into a lower-level form (bytecode) that the computer can understand and run.\n",
        "\n",
        "**Ques3: What are pre-defined keywords in Python ?**\n",
        "- Pre-defined keywords in Python are reserved words that possess specific, immutable meanings within the language's syntax. These keywords are fundamental to defining the structure and logic of Python programs and cannot be used as identifiers\n",
        "- Examples of pre-defined Python keywords:\n",
        "  - Control Flow: if, else, elif, for, while, break, continue, pass\n",
        "  - Functions and Classes: def, class, return, lambda\n",
        "  - Exception Handling: try, except, finally, raise, assert\n",
        "  - Boolean Values and Null: True, False, None\n",
        "\n",
        "**Ques4: Can keywords be used as variable names ?**\n",
        "- No, keywords cannot be used as variable names in most programming languages\n",
        "\n",
        "**Ques5:  What is mutability in Python ?**\n",
        "-  mutability refers to whether an object's state or value can be changed after it has been created.\n",
        "\n",
        "\n",
        "\n",
        "\n",
        "\n",
        "\n",
        "\n",
        "\n",
        "\n",
        "\n",
        "\n",
        "\n",
        "\n"
      ]
    },
    {
      "cell_type": "code",
      "execution_count": null,
      "metadata": {
        "colab": {
          "base_uri": "https://localhost:8080/"
        },
        "id": "HuxEv1bEyDkt",
        "outputId": "b2900a8e-697b-4a34-9835-341f27ef66ab"
      },
      "outputs": [
        {
          "name": "stdout",
          "output_type": "stream",
          "text": [
            "[1, 2, 3, 4]\n"
          ]
        }
      ],
      "source": [
        "# Examples for mutable type in python\n",
        "my_list = [1, 2, 3]\n",
        "my_list.append(4)  # Modifies the list in place\n",
        "print(my_list)     # Output: [1, 2, 3, 4]"
      ]
    },
    {
      "cell_type": "markdown",
      "metadata": {
        "id": "XNskuQJ1yUdl"
      },
      "source": [
        "**Ques6: Why are lists mutable, but tuples are immutable ?**\n",
        "- list the mutable because it is volatile in nature . once the elements are added to the list and the list has been created it can be altered ( can be modified ) according to user requirement whereas\n",
        "- tuple the immmutable because it is non volatile in nature . once the elements are added to the tuple and the tuple has been created it remains unchanged\n",
        "\n",
        "**Ques7: What is the difference between “==” and “is” operators in Python ?**\n",
        "- == (Equality Operator):\n",
        "  - This operator compares the values of two objects.\n",
        "  - It evaluates whether the content or data represented by the objects is the same.\n",
        "- is (Identity Operator):\n",
        "  - This operator compares the identity of two objects.\n",
        "   - It checks whether two variables refer to the exact same object in memory.\n",
        "   - It essentially compares the memory addresses of the objects.\n",
        "\n",
        "\n"
      ]
    },
    {
      "cell_type": "code",
      "execution_count": null,
      "metadata": {
        "colab": {
          "base_uri": "https://localhost:8080/"
        },
        "id": "2eD9n0mR0u8H",
        "outputId": "40906147-a390-4c90-ca47-555dc32f8c5f"
      },
      "outputs": [
        {
          "name": "stdout",
          "output_type": "stream",
          "text": [
            "True\n",
            "False\n",
            "True\n"
          ]
        }
      ],
      "source": [
        " # == (Equality Operator)\n",
        "a = [1, 2, 3]\n",
        "b = [1, 2, 3]\n",
        "print(a == b)  # Output: True (values are equal)\n",
        "\n",
        "# is (Identity Operator)\n",
        "print(a is b)  # Output: False (a and b are different objects in memory, even if their values are the same)\n",
        "\n",
        "c = a\n",
        "print(a is c)  # Output: True (c now refers to the exact same object as a)"
      ]
    },
    {
      "cell_type": "markdown",
      "metadata": {
        "id": "tUZQY6_i1mIT"
      },
      "source": [
        "**Ques8: What are logical operators in Python ?**\n",
        "- Logical operators in Python are used to combine conditional statements and evaluate the truth value of expressions. They are also known as Boolean operators because they operate on Boolean values (True or False) and return a Boolean result.\n",
        "- Examples of Logical operators are:\n",
        "  - AND\n",
        "  - OR\n",
        "  - NOT"
      ]
    },
    {
      "cell_type": "code",
      "execution_count": null,
      "metadata": {
        "colab": {
          "base_uri": "https://localhost:8080/"
        },
        "id": "Uyvh_CO52qjw",
        "outputId": "66340620-eeff-410e-81a4-3cfd72fd89e8"
      },
      "outputs": [
        {
          "name": "stdout",
          "output_type": "stream",
          "text": [
            "True\n",
            "False\n"
          ]
        }
      ],
      "source": [
        "# Example of 'and' operator\n",
        "x = 5\n",
        "y = 10\n",
        "print(x > 0 and y < 20) # Output: True (both conditions are true)\n",
        "print(x > 0 and y < 5)  # Output: False (second condition is false)"
      ]
    },
    {
      "cell_type": "markdown",
      "metadata": {
        "id": "07JRKnXE2xUS"
      },
      "source": [
        "**Ques9: What is type casting in Python ?**\n",
        "- Type casting in Python, also known as type conversion, is the process of converting a value or variable from one data type to another.\n",
        "\n",
        "**Ques10: What is the difference between implicit and explicit type casting ?**\n",
        "-  **implicit** : In this, method, Python converts the datatype into another datatype automatically. Users don't have to involve in this proces\n",
        "- **explicit** : In this method, Python needs user involvement to convert the variable data type into the required data type."
      ]
    },
    {
      "cell_type": "code",
      "execution_count": null,
      "metadata": {
        "colab": {
          "base_uri": "https://localhost:8080/"
        },
        "id": "QqLEN1fOJHqF",
        "outputId": "5a847ebc-4a00-4f8b-b165-8f5dc6920181"
      },
      "outputs": [
        {
          "name": "stdout",
          "output_type": "stream",
          "text": [
            "<class 'int'>\n",
            "<class 'float'>\n",
            "10.0\n",
            "<class 'float'>\n",
            "21.0\n",
            "<class 'float'>\n",
            "5.9\n",
            "<class 'float'>\n"
          ]
        }
      ],
      "source": [
        "# implicit type Casting\n",
        "\n",
        "# Python automatically converts\n",
        "# a to int\n",
        "a = 7\n",
        "print(type(a))\n",
        "\n",
        "# Python automatically converts\n",
        "# b to float\n",
        "b = 3.0\n",
        "print(type(b))\n",
        "\n",
        "# Python automatically converts\n",
        "# c to float as it is a float addition\n",
        "c = a + b\n",
        "print(c)\n",
        "print(type(c))\n",
        "\n",
        "# d to float as it is a float multiplication\n",
        "d = a * b\n",
        "print(d)\n",
        "print(type(d))\n",
        "\n",
        "#----------------------------------\n",
        "# explicit type Casting\n",
        "\n",
        "# string variable\n",
        "a = \"5.9\"\n",
        "\n",
        "# typecast to float\n",
        "n = float(a)\n",
        "\n",
        "print(n)\n",
        "print(type(n))"
      ]
    },
    {
      "cell_type": "markdown",
      "metadata": {
        "id": "-f3RW9UUJtaA"
      },
      "source": [
        "**Ques11:  What is the purpose of conditional statements in Python ?**\n",
        "- The purpose of conditional statements in Python is to enable decision-making within a program, allowing different blocks of code to be executed based on whether specific conditions are true or false\n",
        "- Example : if, if-else, and if-elif-else  so on\n"
      ]
    },
    {
      "cell_type": "code",
      "execution_count": null,
      "metadata": {
        "colab": {
          "base_uri": "https://localhost:8080/"
        },
        "id": "EasSOB8gKNDq",
        "outputId": "a10f76fd-6427-4edd-b1f6-7a1eeab77ce9"
      },
      "outputs": [
        {
          "name": "stdout",
          "output_type": "stream",
          "text": [
            "b is greater than a\n"
          ]
        }
      ],
      "source": [
        "#conditional statements\n",
        "a = 33\n",
        "b = 200\n",
        "if b > a:\n",
        "  print(\"b is greater than a\")\n",
        "else:\n",
        "  print(\"b is not greater than a\")\n"
      ]
    },
    {
      "cell_type": "markdown",
      "metadata": {
        "id": "DfFPSiM2Kdag"
      },
      "source": [
        "**Ques12: How does the elif statement work ?**\n",
        "- The elif statement, short for \"else if,\" is a conditional control flow statement used in programming languages like Python. It allows for the evaluation of multiple conditions in a sequential manner, providing an alternative path of execution when the preceding if or elif conditions are not met.\n",
        "- If the if condition is False, the program moves to the first elif statement and so on."
      ]
    },
    {
      "cell_type": "code",
      "execution_count": null,
      "metadata": {
        "colab": {
          "base_uri": "https://localhost:8080/"
        },
        "id": "IeiOzCHELOlu",
        "outputId": "cb87d2ab-436c-4e31-8ea3-107e54ad9094"
      },
      "outputs": [
        {
          "name": "stdout",
          "output_type": "stream",
          "text": [
            "Grade: C\n"
          ]
        }
      ],
      "source": [
        "score = 75\n",
        "\n",
        "if score >= 90:\n",
        "    print(\"Grade: A\")\n",
        "elif score >= 80:\n",
        "    print(\"Grade: B\")\n",
        "elif score >= 70:\n",
        "    print(\"Grade: C\")\n",
        "else:\n",
        "    print(\"Grade: F\")"
      ]
    },
    {
      "cell_type": "markdown",
      "metadata": {
        "id": "U5VsgOUxLwWk"
      },
      "source": [
        "**Ques13: What is the difference between for and while loops ?**\n",
        "- **for loop** :\n",
        "  - The for loop is used when you know in advance how many times you want to execute the block of code.\n",
        "  - It iterates over a sequence (e.g., a list, tuple, string, or range) and executes the block of code for each item in the sequence.\n",
        "  - The loop variable (variable) takes the value of each item in the sequence during each iteration.\n",
        "-  **while loop** :\n",
        "   - The while loop is used when you don't know in advance how many times you want to execute the block of code. It continues to execute as long as the specified condition is true.\n",
        "    - It's important to make sure that the condition eventually becomes false; otherwise, the loop will run indefinitely, resulting in an infinite loop."
      ]
    },
    {
      "cell_type": "code",
      "execution_count": null,
      "metadata": {
        "colab": {
          "base_uri": "https://localhost:8080/"
        },
        "id": "k1xkVCCcM0Xz",
        "outputId": "698266e4-d56d-45f3-ea84-4ebac58e4378"
      },
      "outputs": [
        {
          "name": "stdout",
          "output_type": "stream",
          "text": [
            "0 1 2 3 4 \n",
            "\n",
            "0 while loop \n",
            " 1 while loop \n",
            " 2 while loop \n",
            " 3 while loop \n",
            " 4 while loop \n",
            " "
          ]
        }
      ],
      "source": [
        "#For loop\n",
        "\n",
        "for i in range(5):\n",
        "    print(i,end=' ')\n",
        "print('\\n')\n",
        "\n",
        "#while loop\n",
        "count = 0\n",
        "while count < 5:\n",
        "    print(count,'while loop \\n', end=' ')\n",
        "    count += 1\n"
      ]
    },
    {
      "cell_type": "markdown",
      "metadata": {
        "id": "ORE-vtoUOQG0"
      },
      "source": [
        "**Ques14: Describe a scenario where a while loop is more suitable than a for loop.**\n",
        "- Consider a program that needs to repeatedly prompt the user for input until a specific valid input is provided. The program has no way of knowing how many times the user might enter invalid input before providing the correct one."
      ]
    },
    {
      "cell_type": "code",
      "execution_count": 81,
      "metadata": {
        "colab": {
          "base_uri": "https://localhost:8080/"
        },
        "id": "2m0lhInrOozV",
        "outputId": "52a33dc8-a058-4cdb-96f0-4f77633226ab"
      },
      "outputs": [
        {
          "output_type": "stream",
          "name": "stdout",
          "text": [
            "Enter a command (type 'quit' to exit): gfhgh\n",
            "You entered: gfhgh\n",
            "Enter a command (type 'quit' to exit): hgfgf\n",
            "You entered: hgfgf\n",
            "Enter a command (type 'quit' to exit): hj\n",
            "You entered: hj\n",
            "Enter a command (type 'quit' to exit): quit\n",
            "You entered: quit\n"
          ]
        }
      ],
      "source": [
        "user_input = \"\"\n",
        "while user_input != \"quit\":\n",
        "    user_input = input(\"Enter a command (type 'quit' to exit): \")\n",
        "    print(f\"You entered: {user_input}\")\n",
        "    if user_input == \"quit\":\n",
        "        break;\n",
        ""
      ]
    },
    {
      "cell_type": "markdown",
      "metadata": {
        "id": "Aqqmzn83PBLa"
      },
      "source": [
        "# Practical Questions\n",
        "\n"
      ]
    },
    {
      "cell_type": "markdown",
      "source": [
        "**Ques1: Write a Python program to print \"Hello, World!\"**"
      ],
      "metadata": {
        "id": "8YbXqLohTEFN"
      }
    },
    {
      "cell_type": "code",
      "source": [
        "#Python program to print \"Hello, World!\n",
        "\n",
        "text = \"Hello World!\"\n",
        "print(text)"
      ],
      "metadata": {
        "colab": {
          "base_uri": "https://localhost:8080/"
        },
        "id": "ebBoIY8lTODp",
        "outputId": "33701e01-6b52-41f3-a601-5fba6eb21598"
      },
      "execution_count": null,
      "outputs": [
        {
          "output_type": "stream",
          "name": "stdout",
          "text": [
            "Hello World!\n"
          ]
        }
      ]
    },
    {
      "cell_type": "markdown",
      "source": [
        "**Ques2 :  Write a Python program that displays your name and age .**"
      ],
      "metadata": {
        "id": "i_aHVGcnT4fR"
      }
    },
    {
      "cell_type": "code",
      "source": [
        "#Python program that displays your name and age\n",
        "\n",
        "name = input(\"Enter your Name :\")\n",
        "age = int(input(\"Enter your age :\"))\n",
        "print(f\"My name is {name} and my age is {age}\")\n"
      ],
      "metadata": {
        "colab": {
          "base_uri": "https://localhost:8080/"
        },
        "id": "6IxHyYjmUBsP",
        "outputId": "7494ec71-f378-44c1-c335-0526fbf903f9"
      },
      "execution_count": null,
      "outputs": [
        {
          "output_type": "stream",
          "name": "stdout",
          "text": [
            "Enter your Name :sachin\n",
            "Enter your age :23\n",
            "My name is sachin and my age is 23\n"
          ]
        }
      ]
    },
    {
      "cell_type": "markdown",
      "source": [
        "**Ques3: Write code to print all the pre-defined keywords in Python using the keyword library.**\n"
      ],
      "metadata": {
        "id": "v-oTxBKCUpiq"
      }
    },
    {
      "cell_type": "code",
      "source": [
        "#Python program to print all the pre-defined keywords in Python using the keyword library\n",
        "\n",
        "import keyword\n",
        "print(keyword.kwlist)\n"
      ],
      "metadata": {
        "colab": {
          "base_uri": "https://localhost:8080/"
        },
        "id": "TynyKkAxUw6h",
        "outputId": "5e293c54-013e-4ffc-9b50-52b8c3febf5c"
      },
      "execution_count": null,
      "outputs": [
        {
          "output_type": "stream",
          "name": "stdout",
          "text": [
            "['False', 'None', 'True', 'and', 'as', 'assert', 'async', 'await', 'break', 'class', 'continue', 'def', 'del', 'elif', 'else', 'except', 'finally', 'for', 'from', 'global', 'if', 'import', 'in', 'is', 'lambda', 'nonlocal', 'not', 'or', 'pass', 'raise', 'return', 'try', 'while', 'with', 'yield']\n"
          ]
        }
      ]
    },
    {
      "cell_type": "markdown",
      "source": [
        "**Ques4 : Write a program that checks if a given word is a Python keyword.**"
      ],
      "metadata": {
        "id": "sPikXOW0V6qH"
      }
    },
    {
      "cell_type": "code",
      "source": [
        "#program that checks if a given word is a Python keyword\n",
        "\n",
        "import keyword\n",
        "\n",
        "word = input(\"Enter a word: \")\n",
        "\n",
        "if keyword.iskeyword(word):\n",
        "    print(f\"'{word}' is a Python keyword.\")\n",
        "else:\n",
        "    print(f\"'{word}' is not a Python keyword.\")"
      ],
      "metadata": {
        "colab": {
          "base_uri": "https://localhost:8080/"
        },
        "id": "PmQOzNgfWKOM",
        "outputId": "0c7c4fec-56ee-4c6f-f79f-ccd0752a135e"
      },
      "execution_count": null,
      "outputs": [
        {
          "output_type": "stream",
          "name": "stdout",
          "text": [
            "Enter a word: sachin\n",
            "'sachin' is not a Python keyword.\n"
          ]
        }
      ]
    },
    {
      "cell_type": "markdown",
      "source": [
        "**Ques5 : Create a list and tuple in Python, and demonstrate how attempting to change an element works differently for each**"
      ],
      "metadata": {
        "id": "ZZW4NOBNW74i"
      }
    },
    {
      "cell_type": "code",
      "source": [
        "#Create a list and tuple in Python, and demonstrate how attempting to change an element works differently for each\n",
        "\n",
        "lst = [23,13,15,16,10]\n",
        "print(f\"This is my original created lsit '{lst}'\")\n",
        "\n",
        "lst[0]=100\n",
        "print(f\"This is my modified list '{lst}'\")\n",
        "\n",
        "print(\"-\" * 50) # Separator\n",
        "\n",
        "tpl = (23,13,15,16,10)\n",
        "print(f\"This is my original created tuple '{tpl}'\")\n",
        "try:\n",
        "   tpl[0]=100\n",
        "   print(f\"This is my original created tuple '{tpl}'\")\n",
        "except TypeError as e:\n",
        "  print(f\"tuple can not be modify due to {e}\")"
      ],
      "metadata": {
        "colab": {
          "base_uri": "https://localhost:8080/"
        },
        "id": "76V7P6POXJrr",
        "outputId": "4c323d20-f0c4-4483-b79c-d397395c09ad"
      },
      "execution_count": null,
      "outputs": [
        {
          "output_type": "stream",
          "name": "stdout",
          "text": [
            "This is my original created lsit '[23, 13, 15, 16, 10]'\n",
            "This is my modified list '[100, 13, 15, 16, 10]'\n",
            "--------------------------------------------------\n",
            "This is my original created tuple '(23, 13, 15, 16, 10)'\n",
            "tuple can not be modify due to 'tuple' object does not support item assignment\n"
          ]
        }
      ]
    },
    {
      "cell_type": "markdown",
      "source": [
        "**Ques6 : Write a function to demonstrate the behavior of mutable and immutable arguments**"
      ],
      "metadata": {
        "id": "t94ICH4ecDVp"
      }
    },
    {
      "cell_type": "code",
      "source": [
        "#Python a function to demonstrate the behavior of mutable and immutable arguments\n",
        "\n",
        "lst = [34,64,778,34,'sachin']\n",
        "print(f\"This is my original created lsit '{lst}'\")\n",
        "\n",
        "lst[0]=100\n",
        "print(f\"This is my modified list '{lst}' Hence it is mutable\")\n",
        "\n",
        "print(\"-\" * 50) # Separator\n",
        "\n",
        "tpl = (23,13,15,16,10)\n",
        "print(f\"This is my original created tuple '{tpl}'\")\n",
        "try:\n",
        "   tpl[0]=100\n",
        "   print(f\"This is my original created tuple '{tpl}'\")\n",
        "except TypeError as e:\n",
        "  print(f\"tuple can not be modify due to {e} , Hence it is immutable\")\n"
      ],
      "metadata": {
        "colab": {
          "base_uri": "https://localhost:8080/"
        },
        "id": "APuXMjKXcI31",
        "outputId": "5cbed291-bf3f-4267-f13c-7dfa0aecf927"
      },
      "execution_count": null,
      "outputs": [
        {
          "output_type": "stream",
          "name": "stdout",
          "text": [
            "This is my original created lsit '[34, 64, 778, 34, 'sachin']'\n",
            "This is my modified list '[100, 64, 778, 34, 'sachin']' Hence it is mutable\n",
            "--------------------------------------------------\n",
            "This is my original created tuple '(23, 13, 15, 16, 10)'\n",
            "tuple can not be modify due to 'tuple' object does not support item assignment , Hence it is immutable\n"
          ]
        }
      ]
    },
    {
      "cell_type": "markdown",
      "source": [
        "**Ques7 : Write a program that performs basic arithmetic operations on two user-input numbers**"
      ],
      "metadata": {
        "id": "BWj1uuC1dPt6"
      }
    },
    {
      "cell_type": "code",
      "source": [
        "#program that performs basic arithmetic operations on two user-input numbers\n",
        "\n",
        "number1 = int(input(\"Enter the first number: \"))\n",
        "number2 = int(input(\"Enter the second number: \"))\n",
        "\n",
        "# Addition\n",
        "sum = number1 + number2\n",
        "print(f\"Addition of: {number1} and {number2} = {sum}\")"
      ],
      "metadata": {
        "colab": {
          "base_uri": "https://localhost:8080/"
        },
        "id": "kOA7oHogdX85",
        "outputId": "f4dcddd1-bc8a-4fc7-e25b-7e8ee6ff5ea2"
      },
      "execution_count": null,
      "outputs": [
        {
          "output_type": "stream",
          "name": "stdout",
          "text": [
            "Enter the first number: 10\n",
            "Enter the second number: 20\n",
            "Addition of: 10 and 20 = 30\n"
          ]
        }
      ]
    },
    {
      "cell_type": "markdown",
      "source": [
        "**Ques8 : Write a program to demonstrate the use of logical operators**"
      ],
      "metadata": {
        "id": "65ui_DQ7d33M"
      }
    },
    {
      "cell_type": "code",
      "source": [
        "#program to demonstrate the use of logical operators\n",
        "\n",
        "name=input(\"Enter Your Name : \")\n",
        "marks = int(input(\"Enter Your Marks : \"))\n",
        "if marks >=80 and marks <=100:\n",
        "  print(f\"Hi {name} your Grade is A\")\n",
        "elif marks >=60 and marks <80:\n",
        "  print(f\"Hi {name} your Grade is B\")\n",
        "elif marks >=40 and marks <60:\n",
        "  print(f\"Hi {name} your Grade is C\")\n",
        "else:\n",
        "  print(f\"Hi {name} your Grade is F\")"
      ],
      "metadata": {
        "colab": {
          "base_uri": "https://localhost:8080/"
        },
        "id": "jupgAaebd86M",
        "outputId": "1945f032-5534-46e4-9748-b33fda32060f"
      },
      "execution_count": null,
      "outputs": [
        {
          "output_type": "stream",
          "name": "stdout",
          "text": [
            "Enter Your Name : sachin\n",
            "Enter Your Marks : 10\n",
            "Hi sachin your Grade is F\n"
          ]
        }
      ]
    },
    {
      "cell_type": "markdown",
      "source": [
        "**Ques9 : Write a Python program to convert user input from string to integer, float, and boolean types**"
      ],
      "metadata": {
        "id": "EjbeIVxOfrLi"
      }
    },
    {
      "cell_type": "code",
      "source": [
        "# Python program to convert user input from string to integer, float, and boolean types\n",
        "\n",
        "txt = input(\"Enter a string: \")\n",
        "\n",
        "int_value = int(str)\n",
        "float_value = float(str)\n",
        "bool_value = bool(str)\n",
        "\n",
        "print(f\"you have Entered '{txt}' and it is of type \",type(txt))\n",
        "print(f\"Converted value is  '{int_value}' and it is of type \",type(int_value))\n",
        "print(f\"Converted value is '{float_value}' and it is of type \",type(float_value))\n",
        "print(f\"Converted value is '{bool_value}' and it is of type \",type(bool_value))\n"
      ],
      "metadata": {
        "colab": {
          "base_uri": "https://localhost:8080/"
        },
        "id": "MBIqojn4fz4p",
        "outputId": "17b7c9aa-ab1a-453b-db7d-36b75c43b3f8"
      },
      "execution_count": null,
      "outputs": [
        {
          "output_type": "stream",
          "name": "stdout",
          "text": [
            "Enter a string: 877\n",
            "you have Entered '877' and it is of type  <class 'str'>\n",
            "Converted value is  '44' and it is of type  <class 'int'>\n",
            "Converted value is '44.0' and it is of type  <class 'float'>\n",
            "Converted value is 'True' and it is of type  <class 'bool'>\n",
            "44.0\n"
          ]
        }
      ]
    },
    {
      "cell_type": "markdown",
      "source": [
        "**Ques10 : Write code to demonstrate type casting with list elements**\n"
      ],
      "metadata": {
        "id": "Pb2i5mVoijpD"
      }
    },
    {
      "cell_type": "code",
      "source": [
        "# code to demonstrate type casting with list elements\n",
        "\n",
        "lst = [12,20,30,40,50,'sachin']\n",
        "print(f\"This is my original created lsit '{lst}' and it is of type\",type(lst))\n",
        "\n",
        "tpl = tuple(lst)\n",
        "print(f\"This is my converted tuple '{tpl}' and it is of type\",type(tpl))\n",
        "\n"
      ],
      "metadata": {
        "colab": {
          "base_uri": "https://localhost:8080/"
        },
        "id": "tI126EPviw-m",
        "outputId": "cf0e03ed-4979-4c38-a17d-7eba41a4b795"
      },
      "execution_count": null,
      "outputs": [
        {
          "output_type": "stream",
          "name": "stdout",
          "text": [
            "This is my original created lsit '[12, 20, 30, 40, 50, 'sachin']' and it is of type <class 'list'>\n",
            "This is my converted tuple '(12, 20, 30, 40, 50, 'sachin')' and it is of type <class 'tuple'>\n"
          ]
        }
      ]
    },
    {
      "cell_type": "markdown",
      "source": [
        "**Ques11 : Write a program that checks if a number is positive, negative, or zero**"
      ],
      "metadata": {
        "id": "SzRdonUekBLq"
      }
    },
    {
      "cell_type": "code",
      "source": [
        "# program that checks if a number is positive, negative, or zero\n",
        "\n",
        "number = int(input(\"Enter a number: \"))\n",
        "\n",
        "if number > 0:\n",
        "    print(f\"{number} is a positive number.\")\n",
        "elif number < 0:\n",
        "    print(f\"{number} is a negative number.\")\n",
        "else:\n",
        "    print(f\"{number} is zero.\")"
      ],
      "metadata": {
        "colab": {
          "base_uri": "https://localhost:8080/"
        },
        "id": "GtKG3BxxkHQm",
        "outputId": "8d0e793d-0130-4e4b-f96b-3404ecc5fe50"
      },
      "execution_count": null,
      "outputs": [
        {
          "output_type": "stream",
          "name": "stdout",
          "text": [
            "Enter a number: -88\n",
            "-88 is a negative number.\n"
          ]
        }
      ]
    },
    {
      "cell_type": "markdown",
      "source": [
        "**Ques12 :  Write a for loop to print numbers from 1 to 10**"
      ],
      "metadata": {
        "id": "nmx-tY2fkgw5"
      }
    },
    {
      "cell_type": "code",
      "source": [
        "# Write a for loop to print numbers from 1 to 10\n",
        "\n",
        "for i in range(1,11):\n",
        "  print(i, end=' , ')"
      ],
      "metadata": {
        "colab": {
          "base_uri": "https://localhost:8080/"
        },
        "id": "sm0VKH78kmoc",
        "outputId": "447cc95c-b4c6-48fe-b82b-ea464fb6f68e"
      },
      "execution_count": null,
      "outputs": [
        {
          "output_type": "stream",
          "name": "stdout",
          "text": [
            "1 , 2 , 3 , 4 , 5 , 6 , 7 , 8 , 9 , 10 , "
          ]
        }
      ]
    },
    {
      "cell_type": "markdown",
      "source": [
        "**Ques13 :  Write a Python program to find the sum of all even numbers between 1 and 50**"
      ],
      "metadata": {
        "id": "LXDJ3gAPk8ZC"
      }
    },
    {
      "cell_type": "code",
      "source": [
        "#Python program to find the sum of all even numbers between 1 and 50\n",
        "\n",
        "sum=0\n",
        "for i in range(1,51):\n",
        "  if i%2==0:\n",
        "    sum=sum+i\n",
        "print(f\"sum of all even numbers between 1 and 50 is '{sum}'\")"
      ],
      "metadata": {
        "colab": {
          "base_uri": "https://localhost:8080/"
        },
        "id": "-gs4WGoqqkqz",
        "outputId": "ed3718f3-10d8-4f26-83f1-c5a514f6e6d2"
      },
      "execution_count": null,
      "outputs": [
        {
          "output_type": "stream",
          "name": "stdout",
          "text": [
            "sum of all even numbers between 1 and 50 is '650'\n"
          ]
        }
      ]
    },
    {
      "cell_type": "markdown",
      "source": [
        "**Ques14: Write a program to reverse a string using a while loop**"
      ],
      "metadata": {
        "id": "Mwpv4xDHr39z"
      }
    },
    {
      "cell_type": "code",
      "source": [
        "#Write a program to reverse a string using a while loop\n",
        "\n",
        "string = input(\"Enter a string: \")\n",
        "reversed_string = \"\"\n",
        "index = len(string) - 1\n",
        "\n",
        "while index >= 0:\n",
        "    reversed_string += string[index]\n",
        "    index -= 1\n",
        "\n",
        "\n",
        "print(f\"Reversed string: {reversed_string}\")"
      ],
      "metadata": {
        "colab": {
          "base_uri": "https://localhost:8080/"
        },
        "id": "pquMEmBYr9ax",
        "outputId": "1b73d8ca-54e0-4592-8117-586c35a5e992"
      },
      "execution_count": null,
      "outputs": [
        {
          "output_type": "stream",
          "name": "stdout",
          "text": [
            "Enter a string: sachin\n",
            "Reversed string: nihcas\n"
          ]
        }
      ]
    },
    {
      "cell_type": "code",
      "source": [
        "#Write a program to reverse a string using a while loop function\n",
        "\n",
        "def reverse_string(input_string):\n",
        "    reversed_string = \"\"\n",
        "    index = len(input_string) - 1\n",
        "\n",
        "    while index >= 0:\n",
        "        reversed_string += input_string[index]\n",
        "        index = index-1\n",
        "\n",
        "    return reversed_string\n",
        "\n",
        "original_str = input(\"Enter the Name : \")\n",
        "reversed_str = reverse_string(original_str)\n",
        "print(f\"Original string: {original_str}\")\n",
        "print(f\"Reversed string: {reversed_str}\")"
      ],
      "metadata": {
        "colab": {
          "base_uri": "https://localhost:8080/"
        },
        "id": "_TgBN-4ysedW",
        "outputId": "44d5c389-0f2b-421a-b440-5fd9170ec2c5"
      },
      "execution_count": null,
      "outputs": [
        {
          "output_type": "stream",
          "name": "stdout",
          "text": [
            "Enter the Name : sachin\n",
            "Original string: sachin\n",
            "Reversed string: nihcas\n"
          ]
        }
      ]
    },
    {
      "cell_type": "markdown",
      "source": [
        "**Ques15 : Write a Python program to calculate the factorial of a number provided by the user using a while loop**"
      ],
      "metadata": {
        "id": "2-f8Y6e-t-i1"
      }
    },
    {
      "cell_type": "code",
      "source": [
        "#Write a Python program to calculate the factorial of a number provided by the user using a while loop\n",
        "\n",
        "number = int(input(\"Enter a number: \"))\n",
        "factorial = 1\n",
        "current = 1\n",
        "\n",
        "while current <= number:\n",
        "    factorial *= current\n",
        "    current += 1\n",
        "\n",
        "print(f\"The factorial of {number} is {factorial}\")"
      ],
      "metadata": {
        "colab": {
          "base_uri": "https://localhost:8080/"
        },
        "id": "2V3ErXgvuGda",
        "outputId": "5d28c1d3-e7d8-497c-d1fe-2f613e91f0bd"
      },
      "execution_count": null,
      "outputs": [
        {
          "output_type": "stream",
          "name": "stdout",
          "text": [
            "Enter a number: 3\n",
            "The factorial of 3 is 6\n"
          ]
        }
      ]
    }
  ],
  "metadata": {
    "colab": {
      "provenance": []
    },
    "kernelspec": {
      "display_name": "Python 3",
      "name": "python3"
    },
    "language_info": {
      "name": "python"
    }
  },
  "nbformat": 4,
  "nbformat_minor": 0
}