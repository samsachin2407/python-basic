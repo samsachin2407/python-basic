{
  "nbformat": 4,
  "nbformat_minor": 0,
  "metadata": {
    "colab": {
      "provenance": []
    },
    "kernelspec": {
      "name": "python3",
      "display_name": "Python 3"
    },
    "language_info": {
      "name": "python"
    }
  },
  "cells": [
    {
      "cell_type": "markdown",
      "source": [
        "# **Python OOPs Questions**\n",
        "\n",
        "---\n",
        "\n",
        "\n",
        "\n",
        "\n",
        "\n",
        "\n"
      ],
      "metadata": {
        "id": "sVmwywySZF3d"
      }
    },
    {
      "cell_type": "markdown",
      "source": [
        "**Que1 : What is Object-Oriented Programming (OOP) ?**\n",
        "- OOP stands for Object-Oriented Programming.\n",
        "\n",
        "- Python is an object-oriented language, allowing you to structure your code using classes and objects for better organization and reusability.\n",
        "\n",
        "**Ques2 :- What is a class in OOP ?**\n",
        "- A class is a code template for creating objects. Objects have member variables and have behaviour associated with them. In python a class is created by the keyword class.\n",
        "\n",
        "**Ques3 :- What is an object in OOP ?**\n",
        "-  In OOP, an object is a specific instance of a class"
      ],
      "metadata": {
        "id": "JBpNDqDpZSHa"
      }
    },
    {
      "cell_type": "code",
      "source": [
        "# creating class\n",
        "class Dog:\n",
        "    def __init__(self, name, age):\n",
        "        self.name = name\n",
        "        self.age = age\n",
        "\n",
        "    def bark(self):\n",
        "        print(f\"{self.name} says Woof!\")\n",
        "\n",
        "# Creating objects (instances) of the Dog class\n",
        "my_dog = Dog(\"Buddy\", 3)\n",
        "your_dog = Dog(\"Lucy\", 5)\n",
        "\n",
        "print(f\"My dog's name is {my_dog.name} and he is {my_dog.age} years old.\")\n",
        "print(f\"Your dog's name is {your_dog.name} and he is {your_dog.age} years old.\")"
      ],
      "metadata": {
        "colab": {
          "base_uri": "https://localhost:8080/"
        },
        "id": "BwgQfF41c_pL",
        "outputId": "5f455592-2598-4289-b188-07bd48873ce5"
      },
      "execution_count": null,
      "outputs": [
        {
          "output_type": "stream",
          "name": "stdout",
          "text": [
            "My dog's name is Buddy and he is 3 years old.\n",
            "Your dog's name is Lucy and he is 5 years old.\n"
          ]
        }
      ]
    },
    {
      "cell_type": "markdown",
      "source": [
        "**Ques4 :- What is the difference between abstraction and encapsulation ?**\n",
        " - **Abstraction:-**\n",
        "\n",
        "   - Abstraction focuses on \"what\" the object does .\n",
        "   - Abstraction is process of hiding the implementation details and showing only the functionality to the users.\n",
        "   - Main feature: reduce complexity, promote maintainability, and also provide clear separation between the interface and its concrete implementation.\n",
        "   - In abstraction, problems are solved at the design or interface level.\n",
        "   - **Example**: CAR - the driver of the car only needs to know how to drive it. Not how its engine and the gear box and other internal components work.\n",
        "- **Encapsulation :-**\n",
        "   - Encapsulation focuses on \"How\" the object does it.\n",
        "   - Encapsulation is a process of binding data and methods together in a single unit, providing controlled access to data.\n",
        "   - Main feature: data hiding, providing access control and modularity.\n",
        "   - While in encapsulation, problems are solved at the implementation level.\n",
        "   - **Example**: A bank can be thought of as a fully encapsulated class that provides access to the customers through various methods (getters and setters). Rest of the data inside bank is hidden to protect from outside world.\n",
        "\n",
        "**Ques5 :- What are dunder methods in Python?**\n",
        "- Dunder methods are also called Python Magic methods\n",
        "- are the methods starting and ending with double underscores '__'. They are defined by built-in classes in Python and commonly used for operator overloading.\n",
        "- Built in classes define many magic methods, dir() function can show you magic methods inherited by a class."
      ],
      "metadata": {
        "id": "NvnnYR1Qdfik"
      }
    },
    {
      "cell_type": "code",
      "source": [
        "# This code displays the magic methods inherited by int class.\n",
        "print(dir(int))"
      ],
      "metadata": {
        "colab": {
          "base_uri": "https://localhost:8080/"
        },
        "id": "vd3rtcvchCLz",
        "outputId": "87d26afb-38a5-488f-cdae-19d5a7461f89"
      },
      "execution_count": null,
      "outputs": [
        {
          "output_type": "stream",
          "name": "stdout",
          "text": [
            "['__abs__', '__add__', '__and__', '__bool__', '__ceil__', '__class__', '__delattr__', '__dir__', '__divmod__', '__doc__', '__eq__', '__float__', '__floor__', '__floordiv__', '__format__', '__ge__', '__getattribute__', '__getnewargs__', '__getstate__', '__gt__', '__hash__', '__index__', '__init__', '__init_subclass__', '__int__', '__invert__', '__le__', '__lshift__', '__lt__', '__mod__', '__mul__', '__ne__', '__neg__', '__new__', '__or__', '__pos__', '__pow__', '__radd__', '__rand__', '__rdivmod__', '__reduce__', '__reduce_ex__', '__repr__', '__rfloordiv__', '__rlshift__', '__rmod__', '__rmul__', '__ror__', '__round__', '__rpow__', '__rrshift__', '__rshift__', '__rsub__', '__rtruediv__', '__rxor__', '__setattr__', '__sizeof__', '__str__', '__sub__', '__subclasshook__', '__truediv__', '__trunc__', '__xor__', 'as_integer_ratio', 'bit_count', 'bit_length', 'conjugate', 'denominator', 'from_bytes', 'imag', 'is_integer', 'numerator', 'real', 'to_bytes']\n"
          ]
        }
      ]
    },
    {
      "cell_type": "markdown",
      "source": [
        "**Ques6 :- Explain the concept of inheritance in OOPs**\n",
        "- Inheritance allows us to define a class that inherits all the methods and properties from another class.\n",
        "- **Parent class** is the class being inherited from, also called base class.\n",
        "- **Child class** is the class that inherits from another class, also called derived class."
      ],
      "metadata": {
        "id": "qbQf38ZlhKna"
      }
    },
    {
      "cell_type": "code",
      "source": [
        "class Person:             #creating parent class\n",
        "  def __init__(self, fname, lname):\n",
        "    self.firstname = fname\n",
        "    self.lastname = lname\n",
        "\n",
        "  def printname(self):\n",
        "    print(self.firstname, self.lastname)\n",
        "\n",
        "#Use the Person class to create an object, and then execute the printname method:\n",
        "\n",
        "x = Person(\"Sachin\", \"Sharma\")\n",
        "x.printname()\n",
        "\n",
        "class Student(Person):     #creating child class using inheritance\n",
        "  pass\n",
        "\n",
        "x = Student(\"Shilpi\", \"Kumari\")\n",
        "x.printname()"
      ],
      "metadata": {
        "colab": {
          "base_uri": "https://localhost:8080/"
        },
        "id": "BqhoffaHh1JB",
        "outputId": "7a06d09a-048c-4494-93ff-de732731adf9"
      },
      "execution_count": null,
      "outputs": [
        {
          "output_type": "stream",
          "name": "stdout",
          "text": [
            "Sachin Sharma\n",
            "Shilpi Kumari\n"
          ]
        }
      ]
    },
    {
      "cell_type": "markdown",
      "source": [
        "**Ques7:- What is polymorphism in OOP ?**\n",
        "- The word \"polymorphism\" means \"many forms\", and in programming it refers to methods/functions/operators with the same name that can be executed on many objects or classes.\n",
        "- Polymorphism is often used in Class methods, where we can have multiple classes with the same method name\n",
        "- For example, say we have three classes: Car, Boat, and Plane, and they all have a method called move():"
      ],
      "metadata": {
        "id": "SkUBoputiUgT"
      }
    },
    {
      "cell_type": "code",
      "source": [
        "class Vehicle:\n",
        "  def __init__(self, brand, model):\n",
        "    self.brand = brand\n",
        "    self.model = model\n",
        "\n",
        "  def move(self):\n",
        "    print(\"Move!\")\n",
        "\n",
        "class Car(Vehicle):\n",
        "  pass\n",
        "\n",
        "class Boat(Vehicle):\n",
        "  def move(self):\n",
        "    print(\"Sail!\")\n",
        "\n",
        "class Plane(Vehicle):\n",
        "  def move(self):\n",
        "    print(\"Fly!\")\n",
        "\n",
        "car1 = Car(\"Ford\", \"Mustang\")       #Create a Car object\n",
        "boat1 = Boat(\"Ibiza\", \"Touring 20\") #Create a Boat object\n",
        "plane1 = Plane(\"Boeing\", \"747\")     #Create a Plane object\n",
        "\n",
        "for x in (car1, boat1, plane1):\n",
        "  print(x.brand)\n",
        "  print(x.model)\n",
        "  x.move()"
      ],
      "metadata": {
        "colab": {
          "base_uri": "https://localhost:8080/"
        },
        "id": "4eZKKsmjnueu",
        "outputId": "b7a3b260-2a8f-4797-d22e-a106c257ffb7"
      },
      "execution_count": null,
      "outputs": [
        {
          "output_type": "stream",
          "name": "stdout",
          "text": [
            "Ford\n",
            "Mustang\n",
            "Move!\n",
            "Ibiza\n",
            "Touring 20\n",
            "Sail!\n",
            "Boeing\n",
            "747\n",
            "Fly!\n"
          ]
        }
      ]
    },
    {
      "cell_type": "markdown",
      "source": [
        "**Ques8 :- How is encapsulation achieved in Python ?**\n",
        "- Encapsulation is achieved by bundling a class's data and methods into a single unit (the class itself) and controlling access to that data using private access modifiers coupled with public getter and setter methods. Private variables are hidden from direct external access, while the public getter and setter methods provide a controlled interface for reading and modifying the private data, often including validation logic\n",
        "\n",
        "\n",
        "**Ques9 :- What is a constructor in Python?**\n",
        "- In Python, a constructor is a special method that is called automatically when an object is created from a class. Its main role is to initialize the object by setting up its attributes or state.\n",
        "- The method __new__ is the constructor that creates a new instance of the class while __init__ is the initializer that sets up the instance's attributes after creation. These methods work together to manage object creation and initialization."
      ],
      "metadata": {
        "id": "tpBd6z9Gn8JA"
      }
    },
    {
      "cell_type": "code",
      "source": [
        "class Car:\n",
        "    def __init__(self, make, model, year):\n",
        "\n",
        "        #Initialize the Car with specific attributes.\n",
        "        self.make = make\n",
        "        self.model = model\n",
        "        self.year = year\n",
        "\n",
        "# Creating an instance using the parameterized constructor\n",
        "car = Car(\"Honda\", \"Civic\", 2022)\n",
        "print(car.make)\n",
        "print(car.model)\n",
        "print(car.year)"
      ],
      "metadata": {
        "colab": {
          "base_uri": "https://localhost:8080/"
        },
        "id": "bje7Os8GpFjK",
        "outputId": "5367b83d-1971-46c8-8d14-5262b829ba4b"
      },
      "execution_count": null,
      "outputs": [
        {
          "output_type": "stream",
          "name": "stdout",
          "text": [
            "Honda\n",
            "Civic\n",
            "2022\n"
          ]
        }
      ]
    },
    {
      "cell_type": "markdown",
      "source": [
        "**Ques10 :- What are class and static methods in Python?**\n",
        "- **Class Methods :-**\n",
        "- **Definition :-** A class method is bound to the class and receives the class itself as its first argument, conventionally named cls. It is defined using the **@classmethod** decorator.\n",
        "- **Purpose :-**\n",
        "   - **Alternative Constructors:** Class methods are frequently used to create alternative ways of instantiating objects, allowing for different initialization logic than the standard **__init__** method.\n",
        "   - **Modifying Class State:** They can access and modify class-level attributes, affecting all instances of the class.\n",
        "\n",
        "- **Static Methods :-**\n",
        "- **Definition**: A static method is a function defined within a class but does not receive the class (cls) or instance (self) as its first argument. It is defined using the **@staticmethod** decorator.\n",
        "- **Purpose :-**\n",
        "  - **Utility Functions:** Static methods are primarily used for utility functions that logically belong to the class but do not depend on the state of an instance or the class itself.\n",
        "  - **Namespacing**: They help organize related functions within a class, improving code readability and maintainability.\n"
      ],
      "metadata": {
        "id": "SmFBk_fIpLic"
      }
    },
    {
      "cell_type": "code",
      "source": [
        "# classmethod\n",
        "class MyClass:\n",
        "        class_variable = \"Initial Value\"\n",
        "\n",
        "        def __init__(self, instance_variable):\n",
        "            self.instance_variable = instance_variable\n",
        "\n",
        "        @classmethod\n",
        "        def change_class_variable(cls, new_value):\n",
        "            cls.class_variable = new_value\n",
        "\n",
        "        @classmethod\n",
        "        def create_from_string(cls, data_string):\n",
        "            # Example of an alternative constructor\n",
        "            instance_variable = data_string.upper()\n",
        "            return cls(instance_variable)\n",
        "# Usage\n",
        "obj1 = MyClass(\"hello\")\n",
        "print(MyClass.class_variable) # Initial Value\n",
        "MyClass.change_class_variable(\"New Value\")\n",
        "print(MyClass.class_variable) # New Value\n",
        "\n",
        "obj2 = MyClass.create_from_string(\"world\")\n",
        "print(obj2.instance_variable) # WORLD"
      ],
      "metadata": {
        "colab": {
          "base_uri": "https://localhost:8080/"
        },
        "id": "hBg4Sa9JqSDC",
        "outputId": "ecb17b77-0d6b-440c-d498-7bb05cb3ea75"
      },
      "execution_count": null,
      "outputs": [
        {
          "output_type": "stream",
          "name": "stdout",
          "text": [
            "Initial Value\n",
            "New Value\n",
            "WORLD\n"
          ]
        }
      ]
    },
    {
      "cell_type": "code",
      "source": [
        "#staticmethod\n",
        "\n",
        "class MathOperations:\n",
        "        @staticmethod\n",
        "        def add(x, y):\n",
        "            return x + y\n",
        "\n",
        "        @staticmethod\n",
        "        def multiply(x, y):\n",
        "            return x * y\n",
        "\n",
        "    # Usage\n",
        "result_add = MathOperations.add(5, 3)\n",
        "print(result_add) # 8\n",
        "\n",
        "result_multiply = MathOperations.multiply(4, 2)\n",
        "print(result_multiply) # 8"
      ],
      "metadata": {
        "colab": {
          "base_uri": "https://localhost:8080/"
        },
        "id": "Q9OclPBqqnoW",
        "outputId": "486e014f-3d25-4b02-d7b7-9e32460fafd0"
      },
      "execution_count": null,
      "outputs": [
        {
          "output_type": "stream",
          "name": "stdout",
          "text": [
            "8\n",
            "8\n"
          ]
        }
      ]
    },
    {
      "cell_type": "markdown",
      "source": [
        "**Ques11 :- What is method overloading in Python ?**\n",
        "- In the method overloading, methods or functions must have the same name and different signatures.\n",
        "- Method overloading is a example of compile time polymorphism.\n",
        "- In the method overloading, inheritance may or may not be required.\n",
        "-It is used in order to add more to the behavior of methods.\n",
        "- In method overloading, there is no need of more than one class.\n",
        "\n",
        "**Ques 12 :- What is method overriding in OOP ?**\n",
        "- Whereas in the method overriding, methods or functions must have the same name and same signatures.\n",
        "- Whereas method overriding is a example of run time polymorphism.\n",
        "- Whereas in method overriding, inheritance always required.\n",
        "- Whereas it is used in order to change the behavior of exist methods.\n",
        "- Whereas in method overriding, there is need of at least of two classes."
      ],
      "metadata": {
        "id": "l5_y0tUPqxPL"
      }
    },
    {
      "cell_type": "code",
      "source": [
        "# method overloading\n",
        "def add(datatype, *args):\n",
        "\n",
        "    # if datatype is int initialize answer as 0\n",
        "    if datatype =='int':\n",
        "        answer = 0\n",
        "\n",
        "    # if datatype is str initialize answer as ''\n",
        "    if datatype =='str':\n",
        "        answer =''\n",
        "\n",
        "    for x in args:\n",
        "\n",
        "        answer = answer + x\n",
        "\n",
        "    print(answer)\n",
        "\n",
        "# Integer\n",
        "add('int', 5, 6)\n",
        "\n",
        "# String\n",
        "add('str', 'Hi ', 'Geeks')"
      ],
      "metadata": {
        "colab": {
          "base_uri": "https://localhost:8080/"
        },
        "id": "LV6dscerrzsq",
        "outputId": "09c864c4-6058-4486-ec7c-89d31bfab477"
      },
      "execution_count": null,
      "outputs": [
        {
          "output_type": "stream",
          "name": "stdout",
          "text": [
            "11\n",
            "Hi Geeks\n"
          ]
        }
      ]
    },
    {
      "cell_type": "code",
      "source": [
        "# method overriding\n",
        "\n",
        "class A:\n",
        "\n",
        "    def fun1(self):\n",
        "        print('feature_1 of class A')\n",
        "\n",
        "    def fun2(self):\n",
        "        print('feature_2 of class A')\n",
        "\n",
        "class B(A):\n",
        "\n",
        "    # Modified function that already exist in class A\n",
        "    def fun1(self):\n",
        "        print('Modified feature_1 of class A by class B')\n",
        "\n",
        "    def fun3(self):\n",
        "        print('feature_3 of class B')\n",
        "\n",
        "\n",
        "# Create instance\n",
        "obj = B()\n",
        "\n",
        "# Call the override function\n",
        "obj.fun1()"
      ],
      "metadata": {
        "colab": {
          "base_uri": "https://localhost:8080/"
        },
        "id": "NGn_YPMlr8Io",
        "outputId": "7f1eabbb-cc25-4af1-a326-25ff4701fc2f"
      },
      "execution_count": null,
      "outputs": [
        {
          "output_type": "stream",
          "name": "stdout",
          "text": [
            "Modified feature_1 of class A by class B\n"
          ]
        }
      ]
    },
    {
      "cell_type": "markdown",
      "source": [
        "**Ques13 :- What is a property decorator in Python ?**\n",
        "- **@property** decorator is a built-in decorator in Python which is helpful in defining the properties effortlessly without manually calling the inbuilt function property(). Which is used to return the property attributes of a class from the stated getter, setter and deleter as parameters.\n",
        "\n",
        "**Ques14 :- Why is polymorphism important in OOP ?**\n",
        "\n",
        "- Polymorphism is important in OOP because it enables code reusability, flexibility, and extensibility by allowing objects of different types to be treated as objects of a common supertype, respond to the same method calls in their own specific ways, and for new subclasses to be added without altering existing code\n",
        "- **Key Benefits of Polymorphism :-**\n",
        "  - Enhanced Code Reusability\n",
        "  - Greater Code Flexibility\n",
        "  - Improved Extensibility\n",
        "  - Better Code Organization and Readability\n",
        "  - Support for Different Implementations"
      ],
      "metadata": {
        "id": "epqEHU-LsF1S"
      }
    },
    {
      "cell_type": "markdown",
      "source": [
        "**Ques15 :- What is an abstract class in Python**\n",
        "- An Abstract Base Class (ABC) defines methods that must be implemented by its subclasses, ensuring that the subclasses follow a consistent structure. ABCs allow you to define common interfaces that various subclasses can implement while enforcing a level of abstraction."
      ],
      "metadata": {
        "id": "Loo0PSOGtHox"
      }
    },
    {
      "cell_type": "code",
      "source": [
        "# abstract class in Python\n",
        "from abc import ABC, abstractmethod\n",
        "class Animal(ABC):\n",
        "    @abstractmethod\n",
        "    def sound(self):\n",
        "        pass\n",
        "\n",
        "class Dog(Animal):\n",
        "    def sound(self):\n",
        "        return \"Bark\"\n",
        "\n",
        "dog = Dog()\n",
        "print(dog.sound())"
      ],
      "metadata": {
        "colab": {
          "base_uri": "https://localhost:8080/"
        },
        "id": "7DnoYM6Gtcrc",
        "outputId": "586c02d7-34f7-47c2-883a-4a430b7a320b"
      },
      "execution_count": null,
      "outputs": [
        {
          "output_type": "stream",
          "name": "stdout",
          "text": [
            "Bark\n"
          ]
        }
      ]
    },
    {
      "cell_type": "markdown",
      "source": [
        "**Ques16 :- What are the advantages of OOP ?**\n",
        "- **Benefits of OOP**\n",
        "   - We can build the programs from standard working modules that communicate with one another, rather than having to start writing the code from scratch which leads to saving of development time and higher productivity,\n",
        "   - OOP language allows to break the program into the bit-sized problems that can be solved easily (one object at a time).\n",
        "   - The new technology promises greater programmer productivity, better quality of software and lesser maintenance cost.\n",
        "   - OOP systems can be easily upgraded from small to large systems.\n",
        "   - It is possible that multiple instances of objects co-exist without any interference"
      ],
      "metadata": {
        "id": "-X5jnOdrtoLr"
      }
    },
    {
      "cell_type": "markdown",
      "source": [
        "**Ques17 :-  What is the difference between a class variable and an instance variable**\n",
        "- **Class Variable :-**\n",
        "   - It is a variable that defines a specific attribute or property for a class.  \n",
        "   - These variables can be shared between class and its subclasses.\n",
        "   - It is generally created when the program begins to execute.  \n",
        "   - It normally retains values until the program terminates.\n",
        "\n",
        "- **Instance Variable :-**\n",
        "  - It is a variable whose value is instance-specific and now shared among instances.\n",
        "  - These variables cannot be shared between classes. Instead, they only belong to one specific class.  \n",
        "  - It is generally created when an instance of the class is created.\n",
        "  - It normally retains values as long as the object exists."
      ],
      "metadata": {
        "id": "i7OMQJyMuCGl"
      }
    },
    {
      "cell_type": "markdown",
      "source": [
        "**Ques18 :- What is multiple inheritance in Python ?**\n",
        "- When a class is derived from more than one base class it is called multiple Inheritance. The derived class inherits all the features of the base case.\n",
        "-"
      ],
      "metadata": {
        "id": "1JLTVIsMvMPb"
      }
    },
    {
      "cell_type": "code",
      "source": [
        "# Python Program to depict multiple inheritance\n",
        "# when method is overridden in both classes\n",
        "\n",
        "class Class1:\n",
        "    def m(self):\n",
        "        print(\"In Class1\")\n",
        "\n",
        "class Class2(Class1):\n",
        "    def m(self):\n",
        "        print(\"In Class2\")\n",
        "\n",
        "class Class3(Class1):\n",
        "    def m(self):\n",
        "        print(\"In Class3\")\n",
        "\n",
        "class Class4(Class2, Class3):\n",
        "    pass\n",
        "\n",
        "obj = Class4()\n",
        "obj.m()"
      ],
      "metadata": {
        "colab": {
          "base_uri": "https://localhost:8080/"
        },
        "id": "qDFdXchIORyv",
        "outputId": "bf95cb48-4607-41cb-b313-a1bd1bc54d10"
      },
      "execution_count": null,
      "outputs": [
        {
          "output_type": "stream",
          "name": "stdout",
          "text": [
            "In Class2\n"
          ]
        }
      ]
    },
    {
      "cell_type": "markdown",
      "source": [
        "**Ques19 :- Explain the purpose of ‘__str__’ and ‘__repr__’  methods in Python**\n",
        "- In Python, __str__ and __repr__ are special methods (also known as \"dunder methods\") that define how an object is represented as a string. While both return string representations, their purposes and intended audiences differ.\n",
        "- **__str__ :- **\n",
        "   - **Purpose:** To provide a human-readable, informal, and user-friendly string representation of an object\n",
        "   - Usage: Automatically called by functions like ‘print()’ and ‘str()’.\n",
        "   = **Characteristics:** Prioritizes readability and conciseness. May omit details that are not essential for a casual understanding of the object.\n",
        "\n",
        "- **__repr__ :-**\n",
        "  - **Purpose:** To provide an unambiguous, formal, and information-rich string representation of an object, primarily for debugging and development.\n",
        "  - **Usage:** Automatically called when an object is evaluated in the Python REPL (interactive shell) or when the repr() function is used. If __str__ is not defined for a class, __repr__ will be used as a fallback for str() and print().\n",
        "  - **Characteristics:** Should ideally return a string that, when passed to eval(), could reconstruct a similar object. It should include enough information to uniquely identify the object's state."
      ],
      "metadata": {
        "id": "dWmta3ocOnnr"
      }
    },
    {
      "cell_type": "code",
      "source": [
        "# Python program to demonstrate writing of __repr__ and\n",
        "# __str__ for user defined classes\n",
        "\n",
        "# A user defined class to represent Complex numbers\n",
        "class Complex:\n",
        "\n",
        "    # Constructor\n",
        "    def __init__(self, real, imag):\n",
        "        self.real = real\n",
        "        self.imag = imag\n",
        "\n",
        "    # For call to repr(). Prints object's information\n",
        "    def __repr__(self):\n",
        "        return 'Rational(%s, %s)' % (self.real, self.imag)\n",
        "\n",
        "    # For call to str(). Prints readable form\n",
        "    def __str__(self):\n",
        "        return '%s + i%s' % (self.real, self.imag)\n",
        "\n",
        "\n",
        "# Driver program to test above\n",
        "t = Complex(10, 20)\n",
        "\n",
        "# Same as \"print t\"\n",
        "print (str(t))\n",
        "print (repr(t))"
      ],
      "metadata": {
        "colab": {
          "base_uri": "https://localhost:8080/"
        },
        "id": "u6ysRHFyQXcd",
        "outputId": "be416f71-23a7-4853-b9d9-ce6ec9125ca1"
      },
      "execution_count": null,
      "outputs": [
        {
          "output_type": "stream",
          "name": "stdout",
          "text": [
            "10 + i20\n",
            "Rational(10, 20)\n"
          ]
        }
      ]
    },
    {
      "cell_type": "markdown",
      "source": [
        "**Ques20:- What is the significance of the ‘super()’ function in Python?**\n",
        "- In Python, the super() function is used to call methods from a parent (superclass) inside a child (subclass). It allows you to extend or override inherited methods while still reusing the parent’s functionality.\n",
        "- **Syntax :**\n",
        "super()\n",
        "- Return: Return a proxy object which represents the parent's class\n"
      ],
      "metadata": {
        "id": "UzXAkDWGQvAN"
      }
    },
    {
      "cell_type": "code",
      "source": [
        "class Emp:\n",
        "    def __init__(self, id, name):\n",
        "        self.id = id\n",
        "        self.name = name\n",
        "\n",
        "class fun(Emp):\n",
        "    def __init__(self, id, name, email):\n",
        "        super().__init__(id, name)   #Calls Emp’s __init__\n",
        "        self.email = email\n",
        "\n",
        "obj = fun(101, \"Sachin\", \"sachin@email.com\")\n",
        "print(obj.id, obj.name, obj.email)"
      ],
      "metadata": {
        "colab": {
          "base_uri": "https://localhost:8080/"
        },
        "id": "qsyTMKeqRNxE",
        "outputId": "c664b618-9762-4ac7-d548-d1cfd13699cb"
      },
      "execution_count": null,
      "outputs": [
        {
          "output_type": "stream",
          "name": "stdout",
          "text": [
            "101 Sachin sachin@email.com\n"
          ]
        }
      ]
    },
    {
      "cell_type": "markdown",
      "source": [
        "**Ques21 :- What is the significance of the __del__ method in Python**\n",
        "- **Purpose:** The __del__ method is used to define the actions that should be performed before an object is destroyed. This can include releasing external resources such as files or database connections associated with the objec\n",
        "- **Usage:** When Python's garbage collector identifies that an object is no longer referenced by any part of the program, it schedules the __del__ method of that object to be called before reclaiming its memory."
      ],
      "metadata": {
        "id": "n584e7qSRe51"
      }
    },
    {
      "cell_type": "code",
      "source": [
        "class SimpleObject:\n",
        "    def __init__(self, name):\n",
        "        self.name = name\n",
        "\n",
        "    def __del__(self):\n",
        "        print(f\"SimpleObject '{self.name}' is being destroyed.\")\n",
        "\n",
        "# Creating and deleting an object\n",
        "obj = SimpleObject('A')\n",
        "del obj  # Explicitly deleting the object"
      ],
      "metadata": {
        "colab": {
          "base_uri": "https://localhost:8080/"
        },
        "id": "Eb8ShVYuR9yY",
        "outputId": "847a9a18-5dcb-4b8a-afa4-58cb0f9cf674"
      },
      "execution_count": null,
      "outputs": [
        {
          "output_type": "stream",
          "name": "stdout",
          "text": [
            "SimpleObject 'A' is being destroyed.\n"
          ]
        }
      ]
    },
    {
      "cell_type": "markdown",
      "source": [
        "**Ques22 :- What is the difference between @staticmethod and @classmethod in Python ?**\n",
        "- **Class Methods :-**\n",
        "- **Definition :-** A class method is bound to the class and receives the class itself as its first argument, conventionally named cls. It is defined using the **@classmethod** decorator.\n",
        "- **Purpose :-**\n",
        "   - **Alternative Constructors:** Class methods are frequently used to create alternative ways of instantiating objects, allowing for different initialization logic than the standard **__init__** method.\n",
        "   - **Modifying Class State:** They can access and modify class-level attributes, affecting all instances of the class.\n",
        "\n",
        "- **Static Methods :-**\n",
        "- **Definition**: A static method is a function defined within a class but does not receive the class (cls) or instance (self) as its first argument. It is defined using the **@staticmethod** decorator.\n",
        "- **Purpose :-**\n",
        "  - **Utility Functions:** Static methods are primarily used for utility functions that logically belong to the class but do not depend on the state of an instance or the class itself.\n",
        "  - **Namespacing**: They help organize related functions within a class, improving code readability and maintainability."
      ],
      "metadata": {
        "id": "PdGTheZ3SCPA"
      }
    },
    {
      "cell_type": "markdown",
      "source": [
        "**Ques23 :- How does polymorphism work in Python with inheritance ?**\n",
        "- Polymorphism in Python, particularly in conjunction with inheritance, enables objects of different classes to be treated as instances of a common base class, while each object responds to the same method call in its own specific way. This is primarily achieved through method overriding.\n",
        "- **Explanation**\n",
        "  - The Animal class defines a speak method.\n",
        "  - Dog and Cat classes inherit from Animal and override the speak method with their specific implementations.\n",
        "  - When iterating through a list containing Animal, Dog, and Cat objects and calling creature.speak(), each object executes its own version of the speak method, demonstrating polymorphism. The same method call (speak()) behaves differently based on the object's type."
      ],
      "metadata": {
        "id": "1-6v_rj2Simq"
      }
    },
    {
      "cell_type": "code",
      "source": [
        "class Animal:\n",
        "    def speak(self):\n",
        "        print(\"Generic animal sound\")\n",
        "\n",
        "class Dog(Animal):\n",
        "    def speak(self):  # Overriding the speak method\n",
        "        print(\"Woof!\")\n",
        "\n",
        "class Cat(Animal):\n",
        "    def speak(self):  # Overriding the speak method\n",
        "        print(\"Meow!\")\n",
        "\n",
        "# Creating instances of different classes\n",
        "animal = Animal()\n",
        "dog = Dog()\n",
        "cat = Cat()\n",
        "\n",
        "# Demonstrating polymorphism\n",
        "for creature in [animal, dog, cat]:\n",
        "    creature.speak()"
      ],
      "metadata": {
        "colab": {
          "base_uri": "https://localhost:8080/"
        },
        "id": "gpAyFHXOTDDE",
        "outputId": "82cbdd63-3aa3-4d59-d9af-3be9e6936057"
      },
      "execution_count": null,
      "outputs": [
        {
          "output_type": "stream",
          "name": "stdout",
          "text": [
            "Generic animal sound\n",
            "Woof!\n",
            "Meow!\n"
          ]
        }
      ]
    },
    {
      "cell_type": "markdown",
      "source": [
        "**Ques24 :-  What is method chaining in Python OOP ?**\n",
        "- Method chaining is a powerful technique in Python programming that allows us to call multiple methods on an object in a single, continuous line of code.\n",
        "- This approach makes the code cleaner, more readable, and often easier to maintain.\n",
        "\n",
        "- **strip()** removes whitespace from the beginning and end.\n",
        "- **capitalize()** capitalizes the first letter.\n",
        "- **replace()** replaces \"gfg\" with \"GeeksForGeeks\"."
      ],
      "metadata": {
        "id": "fUHB1xRPTGq4"
      }
    },
    {
      "cell_type": "code",
      "source": [
        "# method chaining in Python OOP\n",
        "text = \" hello, gfg! \"\n",
        "result = text.strip().capitalize().replace(\"gfg\", \"GeeksForGeeks\")\n",
        "print(result)"
      ],
      "metadata": {
        "colab": {
          "base_uri": "https://localhost:8080/"
        },
        "id": "1JlOqhz-TcZy",
        "outputId": "edbbc0e6-ca61-4066-c16e-fc2676b8148c"
      },
      "execution_count": null,
      "outputs": [
        {
          "output_type": "stream",
          "name": "stdout",
          "text": [
            "Hello, GeeksForGeeks!\n"
          ]
        }
      ]
    },
    {
      "cell_type": "markdown",
      "source": [
        "**Ques25 :- What is the purpose of the __call__ method in Python ?**\n",
        "- __call__() is used to turn your instances into callable objects. In other words, its purpose is to create objects that you can call as you would call a regular function\n",
        "- def __call__(self): defines a method that can be called as a function directly from the instance of the class"
      ],
      "metadata": {
        "id": "RDWDlt9cTzfc"
      }
    },
    {
      "cell_type": "code",
      "source": [
        "\n",
        "class Prod:\n",
        "    def __init__(self):\n",
        "        print(\"Instance Created\")\n",
        "\n",
        "    # Defining __call__ method\n",
        "    def __call__(self, a, b):\n",
        "        print(a * b)\n",
        "\n",
        "# Instance created\n",
        "a = Prod()\n",
        "\n",
        "# __call__ method will be called\n",
        "a(10, 20)"
      ],
      "metadata": {
        "colab": {
          "base_uri": "https://localhost:8080/"
        },
        "id": "scO3PYROUsF8",
        "outputId": "fe9f5099-942d-46b6-98b0-89f5643279e1"
      },
      "execution_count": null,
      "outputs": [
        {
          "output_type": "stream",
          "name": "stdout",
          "text": [
            "Instance Created\n",
            "200\n"
          ]
        }
      ]
    },
    {
      "cell_type": "markdown",
      "source": [
        "# **Practical Questions**\n",
        "\n",
        "\n",
        "\n",
        "---\n",
        "\n"
      ],
      "metadata": {
        "id": "GxarVvhZU7D9"
      }
    },
    {
      "cell_type": "markdown",
      "source": [
        "**Ques1 :- Create a parent class Animal with a method speak() that prints a generic message. Create a child class Dog that overrides the speak() method to print \"Bark!\".**"
      ],
      "metadata": {
        "id": "t2lmXdSVVDK7"
      }
    },
    {
      "cell_type": "code",
      "source": [
        "# Parent class\n",
        "class Animal:\n",
        "    def speak(self):\n",
        "        print(\"I am prent class\")\n",
        "\n",
        "# Child class\n",
        "class Dog(Animal):\n",
        "    def speak(self):\n",
        "        print(\"Bark!\")\n",
        "\n",
        "# Example usage\n",
        "a = Animal()\n",
        "a.speak()  # Output: Some generic animal sound\n",
        "\n",
        "d = Dog()\n",
        "d.speak()  # Output: Bark!"
      ],
      "metadata": {
        "id": "xNM5SwVVVO2l",
        "colab": {
          "base_uri": "https://localhost:8080/"
        },
        "outputId": "b7444039-a621-4525-8f6f-a13894030099"
      },
      "execution_count": 2,
      "outputs": [
        {
          "output_type": "stream",
          "name": "stdout",
          "text": [
            "I am prent class\n",
            "Bark!\n"
          ]
        }
      ]
    },
    {
      "cell_type": "markdown",
      "source": [
        "**Ques2 :- Write a program to create an abstract class Shape with a method area(). Derive classes Circle and Rectanglefrom it and implement the area() method in both.**"
      ],
      "metadata": {
        "id": "xKwD2iO-Jx1z"
      }
    },
    {
      "cell_type": "code",
      "source": [
        "#Write a program to create an abstract class Shape with a method area(). Derive classes Circle and Rectangle from it and implement the area() method in both.\n",
        "\n",
        "from abc import ABC, abstractmethod\n",
        "import math\n",
        "\n",
        "# Abstract base class\n",
        "class Shape(ABC):\n",
        "    @abstractmethod\n",
        "    def area(self):\n",
        "        pass\n",
        "\n",
        "# Derived class: Circle\n",
        "class Circle(Shape):\n",
        "    def __init__(self, radius):\n",
        "        self.radius = radius\n",
        "\n",
        "    def area(self):\n",
        "        return math.pi * self.radius ** 2\n",
        "\n",
        "# Derived class: Rectangle\n",
        "class Rectangle(Shape):\n",
        "    def __init__(self, width, height):\n",
        "        self.width = width\n",
        "        self.height = height\n",
        "\n",
        "    def area(self):\n",
        "        return self.width * self.height\n",
        "\n",
        "# Example usage\n",
        "circle = Circle(5)\n",
        "print(\"Circle area:\", circle.area())  # Output: Circle area: 78.5398...\n",
        "\n",
        "rectangle = Rectangle(4, 6)\n",
        "print(\"Rectangle area:\", rectangle.area())  # Output: Rectangle area: 24\n"
      ],
      "metadata": {
        "colab": {
          "base_uri": "https://localhost:8080/"
        },
        "id": "Ni2atZzEJ58K",
        "outputId": "c62fde19-8054-44a9-b537-7191905f1ff3"
      },
      "execution_count": 3,
      "outputs": [
        {
          "output_type": "stream",
          "name": "stdout",
          "text": [
            "Circle area: 78.53981633974483\n",
            "Rectangle area: 24\n"
          ]
        }
      ]
    },
    {
      "cell_type": "markdown",
      "source": [
        "**Ques3 :- Implement a multi-level inheritance scenario where a class Vehicle has an attribute type. Derive a class Car and further derive a class ElectricCar that adds a battery attribute**"
      ],
      "metadata": {
        "id": "Bma4jyqMKr3Z"
      }
    },
    {
      "cell_type": "code",
      "source": [
        "# Implement a multi-level inheritance scenario where a class Vehicle has an attribute type. Derive a class Car and further derive a class ElectricCar that adds a battery attribute\n",
        "\n",
        "# Base class\n",
        "class Vehicle:\n",
        "    def __init__(self, vehicle_type):\n",
        "        self.vehicle_type = vehicle_type\n",
        "\n",
        "# Derived class from Vehicle\n",
        "class Car(Vehicle):\n",
        "    def __init__(self, vehicle_type, brand):\n",
        "        super().__init__(vehicle_type)\n",
        "        self.brand = brand\n",
        "\n",
        "# Further derived class from Car\n",
        "class ElectricCar(Car):\n",
        "    def __init__(self, vehicle_type, brand, battery_capacity):\n",
        "        super().__init__(vehicle_type, brand)\n",
        "        self.battery_capacity = battery_capacity\n",
        "\n",
        "    def display_info(self):\n",
        "        print(f\"Type: {self.vehicle_type}\")\n",
        "        print(f\"Brand: {self.brand}\")\n",
        "        print(f\"Battery Capacity: {self.battery_capacity} kWh\")\n",
        "\n",
        "# Example usage\n",
        "my_electric_car = ElectricCar(\"Electric\", \"Tesla\", 75)\n",
        "my_electric_car.display_info()\n"
      ],
      "metadata": {
        "colab": {
          "base_uri": "https://localhost:8080/"
        },
        "id": "AaDUNmZmKz63",
        "outputId": "70015bfa-ba83-4efa-905f-525baa26f7b2"
      },
      "execution_count": 4,
      "outputs": [
        {
          "output_type": "stream",
          "name": "stdout",
          "text": [
            "Type: Electric\n",
            "Brand: Tesla\n",
            "Battery Capacity: 75 kWh\n"
          ]
        }
      ]
    },
    {
      "cell_type": "markdown",
      "source": [
        "**Ques4 :- Demonstrate polymorphism by creating a base class Bird with a method fly(). Create two derived classes  Sparrow and Penguin that override the fly() method**"
      ],
      "metadata": {
        "id": "kJZx_9jbLNUT"
      }
    },
    {
      "cell_type": "code",
      "source": [
        "# Demonstrate polymorphism by creating a base class Bird with a method fly(). Create two derived classes  Sparrow and Penguin that override the fly() method\n",
        "\n",
        "# Base class\n",
        "class Bird:\n",
        "    def fly(self):\n",
        "        print(\"Some bird is flying...\")\n",
        "\n",
        "# Derived class 1\n",
        "class Sparrow(Bird):\n",
        "    def fly(self):\n",
        "        print(\"Sparrow flies high in the sky!\")\n",
        "\n",
        "# Derived class 2\n",
        "class Penguin(Bird):\n",
        "    def fly(self):\n",
        "        print(\"Penguins can't fly, but they swim well!\")\n",
        "\n",
        "# Function demonstrating polymorphism\n",
        "def bird_flight(bird):\n",
        "    bird.fly()\n",
        "\n",
        "# Example usage\n",
        "sparrow = Sparrow()\n",
        "penguin = Penguin()\n",
        "\n",
        "bird_flight(sparrow)   # Output: Sparrow flies high in the sky!\n",
        "bird_flight(penguin)   # Output: Penguins can't fly, but they swim well!\n"
      ],
      "metadata": {
        "colab": {
          "base_uri": "https://localhost:8080/"
        },
        "id": "BZn3FxYHLU-n",
        "outputId": "b9615b75-5378-49c2-c00b-483e89943ac0"
      },
      "execution_count": 5,
      "outputs": [
        {
          "output_type": "stream",
          "name": "stdout",
          "text": [
            "Sparrow flies high in the sky!\n",
            "Penguins can't fly, but they swim well!\n"
          ]
        }
      ]
    },
    {
      "cell_type": "markdown",
      "source": [
        "**Ques5 :- Write a program to demonstrate encapsulation by creating a class BankAccount with private attributes balance and methods to deposit, withdraw, and check balance**"
      ],
      "metadata": {
        "id": "iuJCEDacL24J"
      }
    },
    {
      "cell_type": "code",
      "source": [
        "# Write a program to demonstrate encapsulation by creating a class BankAccount with private attributes balance and methods to deposit, withdraw, and check balance\n",
        "\n",
        "class BankAccount:\n",
        "    def __init__(self, initial_balance=0):\n",
        "        self.__balance = initial_balance  # Private attribute\n",
        "\n",
        "    # Method to deposit money\n",
        "    def deposit(self, amount):\n",
        "        if amount > 0:\n",
        "            self.__balance += amount\n",
        "            print(f\"Deposited: Rs{amount}\")\n",
        "        else:\n",
        "            print(\"Deposit amount must be positive.\")\n",
        "\n",
        "    # Method to withdraw money\n",
        "    def withdraw(self, amount):\n",
        "        if amount <= self.__balance:\n",
        "            self.__balance -= amount\n",
        "            print(f\"Withdrawn: Rs{amount}\")\n",
        "        else:\n",
        "            print(\"Insufficient balance.\")\n",
        "\n",
        "    # Method to check balance\n",
        "    def check_balance(self):\n",
        "        print(f\"Current balance: Rs {self.__balance}\")\n",
        "\n",
        "# Example usage\n",
        "account = BankAccount(100)\n",
        "\n",
        "account.deposit(50)\n",
        "account.withdraw(30)\n",
        "account.check_balance()\n",
        "\n"
      ],
      "metadata": {
        "colab": {
          "base_uri": "https://localhost:8080/"
        },
        "id": "FcPoWOxtMCqL",
        "outputId": "b0e04463-9c1e-42de-9347-4f280e1cc686"
      },
      "execution_count": 8,
      "outputs": [
        {
          "output_type": "stream",
          "name": "stdout",
          "text": [
            "Deposited: Rs50\n",
            "Withdrawn: Rs30\n",
            "Current balance: Rs 120\n"
          ]
        }
      ]
    },
    {
      "cell_type": "markdown",
      "source": [
        "**Ques6 :- Demonstrate runtime polymorphism using a method play() in a base class Instrument. Derive classes Guitar and Piano that implement their own version of play()**"
      ],
      "metadata": {
        "id": "VgoGAfy1NOTY"
      }
    },
    {
      "cell_type": "code",
      "source": [
        "# Ques6 :- Demonstrate runtime polymorphism using a method play() in a base class Instrument. Derive classes Guitar and Piano that implement their own version of play()\n",
        "\n",
        "# Base class\n",
        "class Instrument:\n",
        "    def play(self):\n",
        "        print(\"Playing an instrument...\")\n",
        "\n",
        "# Derived class 1\n",
        "class Guitar(Instrument):\n",
        "    def play(self):\n",
        "        print(\"Strumming the guitar!\")\n",
        "\n",
        "# Derived class 2\n",
        "class Piano(Instrument):\n",
        "    def play(self):\n",
        "        print(\"Playing the piano!\")\n",
        "\n",
        "# Function demonstrating runtime polymorphism\n",
        "def start_playing(instrument):\n",
        "    instrument.play()\n",
        "\n",
        "# Example usage\n",
        "g = Guitar()\n",
        "p = Piano()\n",
        "\n",
        "start_playing(g)  # Output: Strumming the guitar!\n",
        "start_playing(p)  # Output: Playing the piano!\n",
        "\n"
      ],
      "metadata": {
        "colab": {
          "base_uri": "https://localhost:8080/"
        },
        "id": "lGjBS1jCNV6s",
        "outputId": "32972733-65c1-4010-fd0c-a1169dbf9d55"
      },
      "execution_count": 10,
      "outputs": [
        {
          "output_type": "stream",
          "name": "stdout",
          "text": [
            "Strumming the guitar!\n",
            "Playing the piano!\n"
          ]
        }
      ]
    },
    {
      "cell_type": "markdown",
      "source": [
        "**Ques7 :- Create a class MathOperations with a class method add_numbers() to add two numbers and a static method subtract_numbers() to subtract two numbers**"
      ],
      "metadata": {
        "id": "zoKexymKN_DX"
      }
    },
    {
      "cell_type": "code",
      "source": [
        "# Create a class MathOperations with a class method add_numbers() to add two numbers and a static method subtract_numbers() to subtract two numbers\n",
        "\n",
        "class MathOperations:\n",
        "\n",
        "    @classmethod\n",
        "    def add_numbers(cls, a, b):\n",
        "        return a + b\n",
        "\n",
        "    @staticmethod\n",
        "    def subtract_numbers(a, b):\n",
        "        return a - b\n",
        "\n",
        "# Example usage\n",
        "sum_result = MathOperations.add_numbers(10, 5)\n",
        "print(\"Sum:\", sum_result)  # Output: Sum: 15\n",
        "\n",
        "difference = MathOperations.subtract_numbers(10, 5)\n",
        "print(\"Difference:\", difference)  # Output: Difference: 5\n"
      ],
      "metadata": {
        "colab": {
          "base_uri": "https://localhost:8080/"
        },
        "id": "X08MP-0GOKzN",
        "outputId": "1c848c8f-80af-4824-ba95-b41301f65427"
      },
      "execution_count": 11,
      "outputs": [
        {
          "output_type": "stream",
          "name": "stdout",
          "text": [
            "Sum: 15\n",
            "Difference: 5\n"
          ]
        }
      ]
    },
    {
      "cell_type": "markdown",
      "source": [
        "**Ques8 :-  Implement a class Person with a class method to count the total number of persons created.**"
      ],
      "metadata": {
        "id": "pmiAtVrjOlYu"
      }
    },
    {
      "cell_type": "code",
      "source": [
        "#  Implement a class Person with a class method to count the total number of persons created.\n",
        "\n",
        "class Person:\n",
        "    # Class variable to keep track of count\n",
        "    person_count = 0\n",
        "\n",
        "    def __init__(self, name):\n",
        "        self.name = name\n",
        "        Person.person_count += 1  # Increment count on each new instance\n",
        "\n",
        "    @classmethod\n",
        "    def total_persons(cls):\n",
        "        return cls.person_count\n",
        "\n",
        "# Example usage\n",
        "p1 = Person(\"Alice\")\n",
        "p2 = Person(\"Bob\")\n",
        "p3 = Person(\"Charlie\")\n",
        "\n",
        "print(\"Total persons created:\", Person.total_persons())  # Output: 3"
      ],
      "metadata": {
        "colab": {
          "base_uri": "https://localhost:8080/"
        },
        "id": "IQem5C1NOtvO",
        "outputId": "bfc45661-db0a-429f-d3d4-dbe186d9df8e"
      },
      "execution_count": 17,
      "outputs": [
        {
          "output_type": "stream",
          "name": "stdout",
          "text": [
            "Total persons created: 3\n"
          ]
        }
      ]
    },
    {
      "cell_type": "markdown",
      "source": [
        "**Ques8 :-  Write a class Fraction with attributes numerator and denominator. Override the str method to display the fraction as \"numerator/denominator\".**"
      ],
      "metadata": {
        "id": "gAUyW69lQvl3"
      }
    },
    {
      "cell_type": "code",
      "source": [
        "#  Write a class Fraction with attributes numerator and denominator. Override the str method to display the fraction as \"numerator/denominator\".\n",
        "\n",
        "class Fraction:\n",
        "    def __init__(self, numerator, denominator):\n",
        "        self.numerator = numerator\n",
        "        self.denominator = denominator\n",
        "\n",
        "    def __str__(self):\n",
        "        return f\"{self.numerator}/{self.denominator}\"\n",
        "\n",
        "# Example usage:\n",
        "f = Fraction(3, 4)\n",
        "print(f)  # Output: 3/4\n"
      ],
      "metadata": {
        "colab": {
          "base_uri": "https://localhost:8080/"
        },
        "id": "VZ3PpHCSQ38i",
        "outputId": "9edb9fad-3369-4906-c177-49eaa2ed3f6b"
      },
      "execution_count": 19,
      "outputs": [
        {
          "output_type": "stream",
          "name": "stdout",
          "text": [
            "3/4\n"
          ]
        }
      ]
    },
    {
      "cell_type": "markdown",
      "source": [
        "**Ques10 :- Demonstrate operator overloading by creating a class Vector and overriding the add method to add two vectors**"
      ],
      "metadata": {
        "id": "SF4sJtBIRhC8"
      }
    },
    {
      "cell_type": "code",
      "source": [
        "# Demonstrate operator overloading by creating a class Vector and overriding the add method to add two vectors\n",
        "\n",
        "class Vector:\n",
        "    def __init__(self, x, y):\n",
        "        self.x = x\n",
        "        self.y = y\n",
        "\n",
        "    def __add__(self, other):\n",
        "        if isinstance(other, Vector):\n",
        "            return Vector(self.x + other.x, self.y + other.y)\n",
        "        return NotImplemented\n",
        "\n",
        "    def __repr__(self):\n",
        "        return f\"Vector({self.x}, {self.y})\"\n",
        "\n",
        "# Example usage:\n",
        "v1 = Vector(2, 3)\n",
        "v2 = Vector(4, 5)\n",
        "v3 = v1 + v2\n",
        "\n",
        "print(v3)  # Output: Vector(6, 8)\n"
      ],
      "metadata": {
        "colab": {
          "base_uri": "https://localhost:8080/"
        },
        "id": "7uKNnjDhRpbx",
        "outputId": "820a11fd-5762-4b90-d91e-5461b3f68aee"
      },
      "execution_count": 20,
      "outputs": [
        {
          "output_type": "stream",
          "name": "stdout",
          "text": [
            "Vector(6, 8)\n"
          ]
        }
      ]
    },
    {
      "cell_type": "markdown",
      "source": [
        "**Ques 11 :- Create a class Person with attributes name and age. Add a method greet() that prints \"Hello, my name is {name} and I am {age} years old.**"
      ],
      "metadata": {
        "id": "d91RlWTcSL26"
      }
    },
    {
      "cell_type": "code",
      "source": [
        "# Create a class Person with attributes name and age. Add a method greet() that prints \"Hello, my name is {name} and I am {age} years old.\n",
        "\n",
        "class Person:\n",
        "    def __init__(self, name, age):\n",
        "        self.name = name\n",
        "        self.age = age\n",
        "\n",
        "    def greet(self):\n",
        "        print(f\"Hello, my name is {self.name} and I am {self.age} years old.\")\n",
        "\n",
        "# Example usage:\n",
        "person = Person(\"Alice\", 30)\n",
        "person.greet()  # Output: Hello, my name is Alice and I am 30 years old.\n"
      ],
      "metadata": {
        "colab": {
          "base_uri": "https://localhost:8080/"
        },
        "id": "cOkq4N6QSSUx",
        "outputId": "beb774a1-44b7-4f8e-9a7a-476cc1b28fc9"
      },
      "execution_count": 21,
      "outputs": [
        {
          "output_type": "stream",
          "name": "stdout",
          "text": [
            "Hello, my name is Alice and I am 30 years old.\n"
          ]
        }
      ]
    },
    {
      "cell_type": "markdown",
      "source": [
        "**Ques11 :- Implement a class Student with attributes name and grades. Create a method average_grade() to compute  the average of the grades.**"
      ],
      "metadata": {
        "id": "UEzUyrEjSqft"
      }
    },
    {
      "cell_type": "code",
      "source": [
        "# Ques11 :- Implement a class Student with attributes name and grades. Create a method average_grade() to compute  the average of the grades.\n",
        "\n",
        "class Student:\n",
        "    def __init__(self, name, grades):\n",
        "        self.name = name\n",
        "        self.grades = grades  # List of numeric grades\n",
        "\n",
        "    def average_grade(self):\n",
        "        if not self.grades:\n",
        "            return 0  # Avoid division by zero\n",
        "        return sum(self.grades) / len(self.grades)\n",
        "\n",
        "\n",
        "# Example usage:\n",
        "student1 = Student(\"sachin\", [85, 90, 78, 92])\n",
        "print(f\"{student1.name}'s average grade: {student1.average_grade()}\")\n"
      ],
      "metadata": {
        "colab": {
          "base_uri": "https://localhost:8080/"
        },
        "id": "ElQMmvtbSuQ5",
        "outputId": "fc2c6a3b-4ccb-4836-e181-82917e2699a8"
      },
      "execution_count": 23,
      "outputs": [
        {
          "output_type": "stream",
          "name": "stdout",
          "text": [
            "sachin's average grade: 86.25\n"
          ]
        }
      ]
    },
    {
      "cell_type": "markdown",
      "source": [
        "**Ques13 :- Create a class Rectangle with methods set_dimensions() to set the dimensions and area() to calculate the area**"
      ],
      "metadata": {
        "id": "-Y2kb18rTphG"
      }
    },
    {
      "cell_type": "code",
      "source": [
        "# Create a class Rectangle with methods set_dimensions() to set the dimensions and area() to calculate the area\n",
        "\n",
        "class Rectangle:\n",
        "    def __init__(self):\n",
        "        self.width = 0\n",
        "        self.height = 0\n",
        "\n",
        "    def set_dimensions(self, width, height):\n",
        "        self.width = width\n",
        "        self.height = height\n",
        "\n",
        "    def area(self):\n",
        "        return self.width * self.height\n",
        "\n",
        "\n",
        "# Example usage:\n",
        "rect = Rectangle()\n",
        "rect.set_dimensions(5, 10)\n",
        "print(\"Area of the rectangle:\", rect.area())\n"
      ],
      "metadata": {
        "colab": {
          "base_uri": "https://localhost:8080/"
        },
        "id": "FfDi4B_3TxBb",
        "outputId": "aee69171-ccd4-4546-c4a0-c505d6400018"
      },
      "execution_count": 24,
      "outputs": [
        {
          "output_type": "stream",
          "name": "stdout",
          "text": [
            "Area of the rectangle: 50\n"
          ]
        }
      ]
    },
    {
      "cell_type": "markdown",
      "source": [
        "**Ques14 : - Create a class Employee with a method calculate_salary() that computes the salary based on hours worked and hourly rate. Create a derived class Manager that adds a bonus to the salary.**"
      ],
      "metadata": {
        "id": "gtdNktY1T_wy"
      }
    },
    {
      "cell_type": "code",
      "source": [
        "# Create a class Employee with a method calculate_salary() that computes the salary based on hours worked and hourly rate. Create a derived class Manager that adds a bonus to the salary.\n",
        "\n",
        "# Base class\n",
        "class Employee:\n",
        "    def __init__(self, name, hours_worked, hourly_rate):\n",
        "        self.name = name\n",
        "        self.hours_worked = hours_worked\n",
        "        self.hourly_rate = hourly_rate\n",
        "\n",
        "    def calculate_salary(self):\n",
        "        return self.hours_worked * self.hourly_rate\n",
        "\n",
        "\n",
        "# Derived class\n",
        "class Manager(Employee):\n",
        "    def __init__(self, name, hours_worked, hourly_rate, bonus):\n",
        "        super().__init__(name, hours_worked, hourly_rate)\n",
        "        self.bonus = bonus\n",
        "\n",
        "    def calculate_salary(self):\n",
        "        base_salary = super().calculate_salary()\n",
        "        return base_salary + self.bonus\n",
        "\n",
        "\n",
        "# Example usage:\n",
        "emp = Employee(\"sachin\", 40, 20)\n",
        "print(f\"{emp.name}'s Salary: ${emp.calculate_salary()}\")\n",
        "\n",
        "mgr = Manager(\"Bob\", 40, 30, 500)\n",
        "print(f\"{mgr.name}'s Salary with Bonus: ${mgr.calculate_salary()}\")\n"
      ],
      "metadata": {
        "colab": {
          "base_uri": "https://localhost:8080/"
        },
        "id": "5NG5eFwuUHMu",
        "outputId": "15757799-bc6f-4e4b-b5ad-9d266debf469"
      },
      "execution_count": 25,
      "outputs": [
        {
          "output_type": "stream",
          "name": "stdout",
          "text": [
            "sachin's Salary: $800\n",
            "Bob's Salary with Bonus: $1700\n"
          ]
        }
      ]
    },
    {
      "cell_type": "markdown",
      "source": [
        "**Ques15 :- Create a class Product with attributes name, price, and quantity. Implement a method total_price() that calculates the total price of the product**"
      ],
      "metadata": {
        "id": "vmmIarv4UfGk"
      }
    },
    {
      "cell_type": "code",
      "source": [
        "# Create a class Product with attributes name, price, and quantity. Implement a method total_price() that calculates the total price of the product\n",
        "\n",
        "class Product:\n",
        "    def __init__(self, name, price, quantity):\n",
        "        self.name = name\n",
        "        self.price = price      # Price per unit\n",
        "        self.quantity = quantity  # Number of units\n",
        "\n",
        "    def total_price(self):\n",
        "        return self.price * self.quantity\n",
        "\n",
        "\n",
        "# Example usage:\n",
        "product1 = Product(\"Laptop\", 800, 3)\n",
        "print(f\"Total price for {product1.name}s: ${product1.total_price()}\")\n"
      ],
      "metadata": {
        "colab": {
          "base_uri": "https://localhost:8080/"
        },
        "id": "So_ANxXOUm-w",
        "outputId": "60fe22d2-adfd-40a0-aed2-bdf4cf1127f1"
      },
      "execution_count": 26,
      "outputs": [
        {
          "output_type": "stream",
          "name": "stdout",
          "text": [
            "Total price for Laptops: $2400\n"
          ]
        }
      ]
    },
    {
      "cell_type": "markdown",
      "source": [
        "**Ques 16 :- Create a class Animal with an abstract method sound(). Create two derived classes Cow and Sheep that implement the sound() method**"
      ],
      "metadata": {
        "id": "LG1WHOeEUwhY"
      }
    },
    {
      "cell_type": "code",
      "source": [
        "# Create a class Animal with an abstract method sound(). Create two derived classes Cow and Sheep that implement the sound() method\n",
        "\n",
        "from abc import ABC, abstractmethod\n",
        "\n",
        "# Abstract base class\n",
        "class Animal(ABC):\n",
        "    @abstractmethod\n",
        "    def sound(self):\n",
        "        pass\n",
        "\n",
        "\n",
        "# Derived class Cow\n",
        "class Cow(Animal):\n",
        "    def sound(self):\n",
        "        return \"Moo\"\n",
        "\n",
        "\n",
        "# Derived class Sheep\n",
        "class Sheep(Animal):\n",
        "    def sound(self):\n",
        "        return \"Baa\"\n",
        "\n",
        "\n",
        "# Example usage\n",
        "cow = Cow()\n",
        "print(\"Cow sound:\", cow.sound())\n",
        "\n",
        "sheep = Sheep()\n",
        "print(\"Sheep sound:\", sheep.sound())\n"
      ],
      "metadata": {
        "colab": {
          "base_uri": "https://localhost:8080/"
        },
        "id": "rmLGgYTuU3mG",
        "outputId": "2182630a-cff6-4fee-e4ff-4a24e9df260d"
      },
      "execution_count": 27,
      "outputs": [
        {
          "output_type": "stream",
          "name": "stdout",
          "text": [
            "Cow sound: Moo\n",
            "Sheep sound: Baa\n"
          ]
        }
      ]
    },
    {
      "cell_type": "markdown",
      "source": [
        "**Ques17 :- Create a class Book with attributes title, author, and year_published. Add a method get_book_info() that returns a formatted string with the book's details**"
      ],
      "metadata": {
        "id": "JZOUk6vcVHqm"
      }
    },
    {
      "cell_type": "code",
      "source": [
        "# Create a class Book with attributes title, author, and year_published. Add a method get_book_info() that returns a formatted string with the book's details\n",
        "\n",
        "class Book:\n",
        "    def __init__(self, title, author, year_published):\n",
        "        self.title = title\n",
        "        self.author = author\n",
        "        self.year_published = year_published\n",
        "\n",
        "    def get_book_info(self):\n",
        "        return f\"'{self.title}' by {self.author} (Published in {self.year_published})\"\n",
        "\n",
        "\n",
        "# Example usage:\n",
        "book1 = Book(\"To Kill a Mockingbird\", \"Harper Lee\", 1960)\n",
        "print(book1.get_book_info())\n"
      ],
      "metadata": {
        "colab": {
          "base_uri": "https://localhost:8080/"
        },
        "id": "S7GkY0lOVN6d",
        "outputId": "f94787b1-2544-4109-c9d4-01c17509a670"
      },
      "execution_count": 28,
      "outputs": [
        {
          "output_type": "stream",
          "name": "stdout",
          "text": [
            "'To Kill a Mockingbird' by Harper Lee (Published in 1960)\n"
          ]
        }
      ]
    },
    {
      "cell_type": "markdown",
      "source": [
        "**Ques18 :- Create a class House with attributes address and price. Create a derived class Mansion that adds an attribute number_of_rooms**"
      ],
      "metadata": {
        "id": "MABWJ1GYVk4d"
      }
    },
    {
      "cell_type": "code",
      "source": [
        "# Create a class House with attributes address and price. Create a derived class Mansion that adds an attribute number_of_rooms\n",
        "\n",
        "# Base class\n",
        "class House:\n",
        "    def __init__(self, address, price):\n",
        "        self.address = address\n",
        "        self.price = price\n",
        "\n",
        "    def get_info(self):\n",
        "        return f\"Address: {self.address}, Price: ${self.price}\"\n",
        "\n",
        "\n",
        "# Derived class\n",
        "class Mansion(House):\n",
        "    def __init__(self, address, price, number_of_rooms):\n",
        "        super().__init__(address, price)\n",
        "        self.number_of_rooms = number_of_rooms\n",
        "\n",
        "    def get_info(self):\n",
        "        base_info = super().get_info()\n",
        "        return f\"{base_info}, Number of Rooms: {self.number_of_rooms}\"\n",
        "\n",
        "\n",
        "# Example usage:\n",
        "house = House(\"123 Maple Street\", 250000)\n",
        "print(house.get_info())\n",
        "\n",
        "mansion = Mansion(\"456 Oak Avenue\", 1500000, 12)\n",
        "print(mansion.get_info())\n"
      ],
      "metadata": {
        "colab": {
          "base_uri": "https://localhost:8080/"
        },
        "id": "--_zp-pYVtSx",
        "outputId": "f238f24d-ea4b-4f41-aa98-42fa36a41452"
      },
      "execution_count": 30,
      "outputs": [
        {
          "output_type": "stream",
          "name": "stdout",
          "text": [
            "Address: 123 Maple Street, Price: $250000\n",
            "Address: 456 Oak Avenue, Price: $1500000, Number of Rooms: 12\n"
          ]
        }
      ]
    }
  ]
}